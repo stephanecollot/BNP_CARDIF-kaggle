{
 "cells": [
  {
   "cell_type": "code",
   "execution_count": 1,
   "metadata": {
    "ExecuteTime": {
     "end_time": "2016-03-19T11:37:55.371466",
     "start_time": "2016-03-19T11:37:54.921134"
    },
    "collapsed": false
   },
   "outputs": [
    {
     "name": "stdout",
     "output_type": "stream",
     "text": [
      "Populating the interactive namespace from numpy and matplotlib\n"
     ]
    }
   ],
   "source": [
    "%pylab inline\n",
    "pylab.rcParams['figure.figsize'] = (10, 6)\n",
    "\n",
    "# %matplotlib inline\n",
    "\n",
    "from time import time\n",
    "from operator import itemgetter\n",
    "from datetime import datetime\n",
    "from sklearn.cross_validation import train_test_split, cross_val_score\n",
    "from sklearn.grid_search import GridSearchCV, RandomizedSearchCV\n",
    "from scipy.stats import randint as sp_randint\n",
    "from sklearn.ensemble import RandomForestClassifier, ExtraTreesClassifier\n",
    "from sklearn.metrics import log_loss\n",
    "from sklearn.pipeline import Pipeline\n",
    "from sklearn.preprocessing import Imputer\n",
    "\n",
    "import matplotlib.pyplot as plt\n",
    "import numpy as np\n",
    "import pandas as pd\n",
    "import os"
   ]
  },
  {
   "cell_type": "markdown",
   "metadata": {},
   "source": [
    "# Functions"
   ]
  },
  {
   "cell_type": "code",
   "execution_count": 67,
   "metadata": {
    "ExecuteTime": {
     "end_time": "2016-03-19T13:15:57.427471",
     "start_time": "2016-03-19T13:15:57.424211"
    },
    "collapsed": true
   },
   "outputs": [],
   "source": [
    "def finish():\n",
    "    os.system(\"paplay /usr/share/sounds/gnome/default/alerts/drip.ogg\")\n",
    "    os.system(\"paplay /usr/share/sounds/gnome/default/alerts/glass.ogg\")"
   ]
  },
  {
   "cell_type": "markdown",
   "metadata": {},
   "source": [
    "# Load"
   ]
  },
  {
   "cell_type": "code",
   "execution_count": 2,
   "metadata": {
    "ExecuteTime": {
     "end_time": "2016-03-19T11:37:59.494422",
     "start_time": "2016-03-19T11:37:55.373533"
    },
    "collapsed": true
   },
   "outputs": [],
   "source": [
    "kaggleTrain = pd.read_csv(\"kaggle/train.csv\", header = 0)\n",
    "kaggleTest = pd.read_csv(\"kaggle/test.csv\", header = 0)"
   ]
  },
  {
   "cell_type": "code",
   "execution_count": 3,
   "metadata": {
    "ExecuteTime": {
     "end_time": "2016-03-19T11:37:59.499614",
     "start_time": "2016-03-19T11:37:59.495680"
    },
    "collapsed": false
   },
   "outputs": [
    {
     "name": "stdout",
     "output_type": "stream",
     "text": [
      "Kaggle Train count: 114321\n",
      "Kaggle Test count:  114393\n"
     ]
    }
   ],
   "source": [
    "print \"Kaggle Train count: \" + str(len(kaggleTrain))\n",
    "print \"Kaggle Test count:  \" + str(len(kaggleTest))"
   ]
  },
  {
   "cell_type": "markdown",
   "metadata": {},
   "source": [
    "## Columns listing"
   ]
  },
  {
   "cell_type": "code",
   "execution_count": 73,
   "metadata": {
    "ExecuteTime": {
     "end_time": "2016-03-19T13:22:54.980552",
     "start_time": "2016-03-19T13:22:54.968090"
    },
    "collapsed": false
   },
   "outputs": [
    {
     "name": "stdout",
     "output_type": "stream",
     "text": [
      "We have the ID columns, type: int64\n",
      "We have the target columns, type: int64\n",
      "\n",
      "object 19\n",
      "int64 4\n",
      "float64 108\n"
     ]
    }
   ],
   "source": [
    "#print train.schema.fields\n",
    "columnsDict = {}\n",
    "for col in kaggleTrain.columns:\n",
    "    typeKey = str(kaggleTrain[col].dtype)\n",
    "    colName = col\n",
    "    \n",
    "    if colName == 'ID':\n",
    "        print \"We have the ID columns, type: \" + typeKey\n",
    "        continue\n",
    "    if colName == 'target':\n",
    "        print \"We have the target columns, type: \" + typeKey\n",
    "        continue\n",
    "    \n",
    "    if typeKey not in columnsDict:\n",
    "        columnsDict[typeKey] = [colName]\n",
    "    else:\n",
    "        columnsDict[typeKey].append(colName)\n",
    "\n",
    "print \"\"\n",
    "for ct, cl in columnsDict.iteritems():\n",
    "    print ct + \" \" + str(len(cl))"
   ]
  },
  {
   "cell_type": "markdown",
   "metadata": {},
   "source": [
    "# Split"
   ]
  },
  {
   "cell_type": "code",
   "execution_count": 74,
   "metadata": {
    "ExecuteTime": {
     "end_time": "2016-03-19T13:22:56.172016",
     "start_time": "2016-03-19T13:22:55.959162"
    },
    "collapsed": true
   },
   "outputs": [],
   "source": [
    "train, test = train_test_split(kaggleTrain, test_size = 0.2)"
   ]
  },
  {
   "cell_type": "markdown",
   "metadata": {},
   "source": [
    "# Prepare X and y"
   ]
  },
  {
   "cell_type": "code",
   "execution_count": 75,
   "metadata": {
    "ExecuteTime": {
     "end_time": "2016-03-19T13:22:56.858616",
     "start_time": "2016-03-19T13:22:56.855347"
    },
    "collapsed": false
   },
   "outputs": [
    {
     "name": "stdout",
     "output_type": "stream",
     "text": [
      "112\n"
     ]
    }
   ],
   "source": [
    "print len(columnsDict['float64']) +  len(columnsDict['int64'])"
   ]
  },
  {
   "cell_type": "code",
   "execution_count": 76,
   "metadata": {
    "ExecuteTime": {
     "end_time": "2016-03-19T13:22:57.364772",
     "start_time": "2016-03-19T13:22:57.359310"
    },
    "collapsed": true
   },
   "outputs": [],
   "source": [
    "def prepareX(df):\n",
    "    colsToAdd = columnsDict['float64'] + columnsDict['int64']\n",
    "    \n",
    "    dfX = df[colsToAdd]\n",
    "    dfX = dfX.fillna(0)\n",
    "    \n",
    "    for col in colsToAdd:\n",
    "        dfX[col+\"_m\"] = df[col]\n",
    "    \n",
    "    return dfX"
   ]
  },
  {
   "cell_type": "code",
   "execution_count": 77,
   "metadata": {
    "ExecuteTime": {
     "end_time": "2016-03-19T13:22:58.099754",
     "start_time": "2016-03-19T13:22:58.097421"
    },
    "collapsed": true
   },
   "outputs": [],
   "source": [
    "def prepareY(df):   \n",
    "    return df[[\"target\"]].values.ravel()"
   ]
  },
  {
   "cell_type": "code",
   "execution_count": 78,
   "metadata": {
    "ExecuteTime": {
     "end_time": "2016-03-19T13:22:59.038273",
     "start_time": "2016-03-19T13:22:58.702700"
    },
    "collapsed": false
   },
   "outputs": [],
   "source": [
    "X_train = prepareX(train)\n",
    "y_train = prepareY(train)"
   ]
  },
  {
   "cell_type": "code",
   "execution_count": 79,
   "metadata": {
    "ExecuteTime": {
     "end_time": "2016-03-19T13:22:59.482948",
     "start_time": "2016-03-19T13:22:59.366864"
    },
    "collapsed": true
   },
   "outputs": [],
   "source": [
    "X_test = prepareX(test)\n",
    "y_test = prepareY(test)"
   ]
  },
  {
   "cell_type": "code",
   "execution_count": 80,
   "metadata": {
    "ExecuteTime": {
     "end_time": "2016-03-19T13:23:00.260970",
     "start_time": "2016-03-19T13:22:59.974646"
    },
    "collapsed": false
   },
   "outputs": [
    {
     "name": "stdout",
     "output_type": "stream",
     "text": [
      "133\n",
      "133\n"
     ]
    }
   ],
   "source": [
    "colsMissingValues = train.isnull().sum()\n",
    "print len(train.columns)\n",
    "print len(colsMissingValues)"
   ]
  },
  {
   "cell_type": "markdown",
   "metadata": {},
   "source": [
    "# Model"
   ]
  },
  {
   "cell_type": "code",
   "execution_count": 81,
   "metadata": {
    "ExecuteTime": {
     "end_time": "2016-03-19T13:23:01.177990",
     "start_time": "2016-03-19T13:23:01.174825"
    },
    "collapsed": true
   },
   "outputs": [],
   "source": [
    "#.setNumTrees(150).setMaxDepth(6)\n",
    "clf = RandomForestClassifier(n_estimators=150,\n",
    "                             n_jobs=4,\n",
    "                             max_depth=10,\n",
    "                             criterion='gini') #  max_depth=7"
   ]
  },
  {
   "cell_type": "code",
   "execution_count": 135,
   "metadata": {
    "ExecuteTime": {
     "end_time": "2016-03-19T18:30:03.198641",
     "start_time": "2016-03-19T18:30:03.196069"
    },
    "collapsed": true
   },
   "outputs": [],
   "source": [
    "clf = ExtraTreesClassifier(n_estimators=850, max_features=60, criterion='entropy', min_samples_split=4,\n",
    "                            max_depth=40, min_samples_leaf=2, n_jobs=-1)     "
   ]
  },
  {
   "cell_type": "code",
   "execution_count": null,
   "metadata": {
    "collapsed": true
   },
   "outputs": [],
   "source": [
    "#clf.fit(X_train, y_train)"
   ]
  },
  {
   "cell_type": "markdown",
   "metadata": {},
   "source": [
    "# Pipeline"
   ]
  },
  {
   "cell_type": "code",
   "execution_count": 136,
   "metadata": {
    "ExecuteTime": {
     "end_time": "2016-03-19T18:30:07.748978",
     "start_time": "2016-03-19T18:30:07.746141"
    },
    "collapsed": false
   },
   "outputs": [],
   "source": [
    "imputer = Imputer(missing_values=\"NaN\",\n",
    "                  strategy=\"mean\",\n",
    "                  axis=0)"
   ]
  },
  {
   "cell_type": "code",
   "execution_count": 137,
   "metadata": {
    "ExecuteTime": {
     "end_time": "2016-03-19T18:30:08.220948",
     "start_time": "2016-03-19T18:30:08.218026"
    },
    "collapsed": false
   },
   "outputs": [],
   "source": [
    "estimator = Pipeline([(\"imputer\", imputer),\n",
    "                      (\"forest\", clf)\n",
    "                     ])"
   ]
  },
  {
   "cell_type": "code",
   "execution_count": null,
   "metadata": {
    "ExecuteTime": {
     "start_time": "2016-03-19T17:30:09.322Z"
    },
    "collapsed": false
   },
   "outputs": [],
   "source": [
    "estimator.fit(X_train, y_train)"
   ]
  },
  {
   "cell_type": "code",
   "execution_count": 92,
   "metadata": {
    "ExecuteTime": {
     "end_time": "2016-03-19T13:25:11.008523",
     "start_time": "2016-03-19T13:25:10.253530"
    },
    "collapsed": false
   },
   "outputs": [
    {
     "name": "stdout",
     "output_type": "stream",
     "text": [
      "Testing score: withImputer\n",
      "0.761556964793\n",
      "0.503607544381\n"
     ]
    }
   ],
   "source": [
    "evaluate(estimator, X_test, y_test, \"Testing\", \"estimator\")"
   ]
  },
  {
   "cell_type": "markdown",
   "metadata": {},
   "source": [
    "## Features Analysis"
   ]
  },
  {
   "cell_type": "code",
   "execution_count": 86,
   "metadata": {
    "ExecuteTime": {
     "end_time": "2016-03-19T13:23:44.254681",
     "start_time": "2016-03-19T13:23:44.242452"
    },
    "collapsed": true
   },
   "outputs": [],
   "source": [
    "def feature_analysis(model, X):\n",
    "    importancePd = pd.DataFrame(model.feature_importances_, columns=[\"importance\"])\n",
    "    importancePd[\"feature\"] = X.columns\n",
    "    \n",
    "    importancePd = importancePd.sort(['importance'], ascending=[0])\n",
    "    importancePd = importancePd.set_index(['feature'])\n",
    "    \n",
    "    print importancePd.head(n=10)\n",
    "\n",
    "    plt.figure();\n",
    "    pylab.rcParams['figure.figsize'] = (30, 3)\n",
    "    importancePd[:50].plot(kind='bar');\n",
    "    importancePd[50:200].plot(kind='bar');\n",
    "    plt.axhline(0, color='k')\n",
    "    \n",
    "    # Feature selection\n",
    "    \n",
    "    "
   ]
  },
  {
   "cell_type": "code",
   "execution_count": 87,
   "metadata": {
    "ExecuteTime": {
     "end_time": "2016-03-19T13:23:46.703355",
     "start_time": "2016-03-19T13:23:44.256151"
    },
    "collapsed": false
   },
   "outputs": [
    {
     "name": "stdout",
     "output_type": "stream",
     "text": [
      "         importance\n",
      "feature            \n",
      "v50_m      0.197865\n",
      "v50        0.163362\n",
      "v10_m      0.056644\n",
      "v129       0.044978\n",
      "v10        0.040775\n",
      "v62_m      0.038223\n",
      "v129_m     0.037737\n",
      "v14_m      0.031863\n",
      "v12        0.030988\n",
      "v12_m      0.027510\n"
     ]
    },
    {
     "data": {
      "text/plain": [
       "<matplotlib.figure.Figure at 0x7f10c28525d0>"
      ]
     },
     "metadata": {},
     "output_type": "display_data"
    },
    {
     "data": {
      "image/png": "[encoded data removed]",
      "text/plain": [
       "<matplotlib.figure.Figure at 0x7f10c2852b50>"
      ]
     },
     "metadata": {},
     "output_type": "display_data"
    },
    {
     "data": {
      "image/png": "[encoded data removed]",
      "text/plain": [
       "<matplotlib.figure.Figure at 0x7f10c2852c10>"
      ]
     },
     "metadata": {},
     "output_type": "display_data"
    }
   ],
   "source": [
    "feature_analysis(clf, X_train)"
   ]
  },
  {
   "cell_type": "markdown",
   "metadata": {},
   "source": [
    "## Score"
   ]
  },
  {
   "cell_type": "code",
   "execution_count": 119,
   "metadata": {
    "ExecuteTime": {
     "end_time": "2016-03-19T14:43:02.349706",
     "start_time": "2016-03-19T14:43:02.334321"
    },
    "collapsed": false
   },
   "outputs": [],
   "source": [
    "bestLogloss = 0.503616393572\n",
    "def evaluate(model, X, y, string, more = \"\"):\n",
    "    title = string + \" score: \" + more\n",
    "    score = model.score(X, y)\n",
    "    scoreLogloss = log_loss(y, model.predict_proba(X))\n",
    "    \n",
    "    currentDate = str(datetime.now().strftime('%Y-%m-%d %H:%M:%S'))\n",
    "    modelExplaination = clf.get_params()\n",
    "    \n",
    "    logline = str(score) + \";\" + str(scoreLogloss) + \";\" + currentDate + \";\" + str(modelExplaination) + \";\" + more\n",
    "    \n",
    "    with open(\"evaluate\"+string+\".log\", \"a\") as myfile:\n",
    "        myfile.write(logline+\"\\n\")\n",
    "    \n",
    "    print title\n",
    "    print score\n",
    "    print str(scoreLogloss)  + \" compare to best score: \" + str(scoreLogloss-bestLogloss) "
   ]
  },
  {
   "cell_type": "code",
   "execution_count": 95,
   "metadata": {
    "ExecuteTime": {
     "end_time": "2016-03-19T13:25:25.406236",
     "start_time": "2016-03-19T13:25:22.512689"
    },
    "collapsed": false
   },
   "outputs": [
    {
     "name": "stdout",
     "output_type": "stream",
     "text": [
      "Training score: \n",
      "0.761131035689\n",
      "0.496644149422\n"
     ]
    }
   ],
   "source": [
    "evaluate(estimator, X_train, y_train, \"Training\", \"estimator\")"
   ]
  },
  {
   "cell_type": "code",
   "execution_count": 96,
   "metadata": {
    "ExecuteTime": {
     "end_time": "2016-03-19T13:25:29.771611",
     "start_time": "2016-03-19T13:25:29.012676"
    },
    "collapsed": false,
    "scrolled": true
   },
   "outputs": [
    {
     "name": "stdout",
     "output_type": "stream",
     "text": [
      "Testing score: \n",
      "0.761556964793\n",
      "0.503607544381\n"
     ]
    }
   ],
   "source": [
    "evaluate(estimator, X_test, y_test, \"Testing\", \"estimator\")"
   ]
  },
  {
   "cell_type": "markdown",
   "metadata": {},
   "source": [
    "# Grid search"
   ]
  },
  {
   "cell_type": "code",
   "execution_count": 127,
   "metadata": {
    "ExecuteTime": {
     "end_time": "2016-03-19T14:56:49.249266",
     "start_time": "2016-03-19T14:56:49.235845"
    },
    "collapsed": false
   },
   "outputs": [],
   "source": [
    "# Utility function to report best scores\n",
    "def report(grid_scores, n_top=3, save=False):\n",
    "    top_scores = sorted(grid_scores, key=itemgetter(1), reverse=True)[:n_top]\n",
    "    for i, score in enumerate(top_scores):\n",
    "        print(\"Model with rank: {0}\".format(i + 1))\n",
    "        print(\"Mean validation score: {0:.3f} (std: {1:.3f})\".format(\n",
    "              score.mean_validation_score,\n",
    "              np.std(score.cv_validation_scores)))\n",
    "        print(\"Parameters: {0}\".format(score.parameters))\n",
    "        print(\"\")\n",
    "        \n",
    "        if save:\n",
    "            currentDate = str(datetime.now().strftime('%Y-%m-%d %H:%M:%S'))\n",
    "            logline = str(\"{0}\".format(i + 1)) + \";\" + \"{0:.5f};{1:.5f}\".format(score.mean_validation_score,np.std(score.cv_validation_scores)) + \";\" + currentDate + \";\" + \"{0}\".format(score.parameters)\n",
    "            with open(\"gridSearch.log\", \"a\") as myfile:\n",
    "                myfile.write(logline+\"\\n\")"
   ]
  },
  {
   "cell_type": "code",
   "execution_count": 114,
   "metadata": {
    "ExecuteTime": {
     "end_time": "2016-03-19T13:51:14.733906",
     "start_time": "2016-03-19T13:51:14.730414"
    },
    "collapsed": false
   },
   "outputs": [
    {
     "data": {
      "text/plain": [
       "14.966629547095765"
      ]
     },
     "execution_count": 114,
     "metadata": {},
     "output_type": "execute_result"
    }
   ],
   "source": [
    "sqrt(len(X_train.columns))"
   ]
  },
  {
   "cell_type": "code",
   "execution_count": 115,
   "metadata": {
    "ExecuteTime": {
     "end_time": "2016-03-19T13:51:56.117722",
     "start_time": "2016-03-19T13:51:56.103602"
    },
    "collapsed": false
   },
   "outputs": [],
   "source": [
    "# specify parameters and distributions to sample from\n",
    "modelName = \"forest__\"\n",
    "param_dist = {modelName+\"max_depth\": [None],          # Default -> None | If Nonen then nodes are expanded until min_samples_split (Ignored if max_leaf_nodes is not None.)\n",
    "              modelName+\"max_features\": [16],#sp_randint(14, 24),      # Default -> sqrt(n_features) ~14\n",
    "              modelName+\"min_samples_split\": sp_randint(1, 4), # Default -> 2 (useless if mex_depth not None)\n",
    "              modelName+\"min_samples_leaf\": sp_randint(5, 13),  # Default -> 1\n",
    "              modelName+\"bootstrap\": [False]              # Default -> True\n",
    "              #modelName+\"criterion\": [\"gini\", \"entropy\"] # gini\n",
    "             }\n",
    "\n",
    "# run randomized search\n",
    "n_iter_search = 20\n",
    "random_search = RandomizedSearchCV(estimator, param_distributions=param_dist,\n",
    "                                   n_iter=n_iter_search, scoring=\"log_loss\")"
   ]
  },
  {
   "cell_type": "code",
   "execution_count": 116,
   "metadata": {
    "ExecuteTime": {
     "end_time": "2016-03-19T14:41:49.750609",
     "start_time": "2016-03-19T13:51:58.377128"
    },
    "collapsed": false
   },
   "outputs": [
    {
     "name": "stdout",
     "output_type": "stream",
     "text": [
      "RandomizedSearchCV took 2990.35 seconds for 20 candidates parameter settings.\n",
      "Model with rank: 1\n",
      "Mean validation score: -0.493 (std: 0.001)\n",
      "Parameters: {'forest__bootstrap': False, 'forest__max_features': 16, 'forest__min_samples_leaf': 9, 'forest__max_depth': None, 'forest__min_samples_split': 3}\n",
      "\n",
      "Model with rank: 2\n",
      "Mean validation score: -0.494 (std: 0.002)\n",
      "Parameters: {'forest__bootstrap': False, 'forest__max_features': 16, 'forest__min_samples_leaf': 8, 'forest__max_depth': None, 'forest__min_samples_split': 1}\n",
      "\n",
      "Model with rank: 3\n",
      "Mean validation score: -0.496 (std: 0.001)\n",
      "Parameters: {'forest__bootstrap': False, 'forest__max_features': 17, 'forest__min_samples_leaf': 1, 'forest__max_depth': 10, 'forest__min_samples_split': 1}\n",
      "\n"
     ]
    }
   ],
   "source": [
    "start = time()\n",
    "random_search.fit(X_train, y_train)\n",
    "print(\"RandomizedSearchCV took %.2f seconds for %d candidates\"\n",
    "      \" parameter settings.\" % ((time() - start), n_iter_search))\n",
    "report(random_search.grid_scores_)\n",
    "finish()"
   ]
  },
  {
   "cell_type": "code",
   "execution_count": 128,
   "metadata": {
    "ExecuteTime": {
     "end_time": "2016-03-19T14:57:06.427796",
     "start_time": "2016-03-19T14:57:06.417078"
    },
    "collapsed": false
   },
   "outputs": [
    {
     "name": "stdout",
     "output_type": "stream",
     "text": [
      "Model with rank: 1\n",
      "Mean validation score: -0.493 (std: 0.001)\n",
      "Parameters: {'forest__bootstrap': False, 'forest__max_features': 16, 'forest__min_samples_leaf': 9, 'forest__max_depth': None, 'forest__min_samples_split': 3}\n",
      "\n",
      "Model with rank: 2\n",
      "Mean validation score: -0.494 (std: 0.002)\n",
      "Parameters: {'forest__bootstrap': False, 'forest__max_features': 16, 'forest__min_samples_leaf': 8, 'forest__max_depth': None, 'forest__min_samples_split': 1}\n",
      "\n",
      "Model with rank: 3\n",
      "Mean validation score: -0.496 (std: 0.001)\n",
      "Parameters: {'forest__bootstrap': False, 'forest__max_features': 17, 'forest__min_samples_leaf': 1, 'forest__max_depth': 10, 'forest__min_samples_split': 1}\n",
      "\n",
      "Model with rank: 4\n",
      "Mean validation score: -0.496 (std: 0.001)\n",
      "Parameters: {'forest__bootstrap': False, 'forest__max_features': 16, 'forest__min_samples_leaf': 2, 'forest__max_depth': 10, 'forest__min_samples_split': 3}\n",
      "\n",
      "Model with rank: 5\n",
      "Mean validation score: -0.496 (std: 0.002)\n",
      "Parameters: {'forest__bootstrap': False, 'forest__max_features': 16, 'forest__min_samples_leaf': 5, 'forest__max_depth': None, 'forest__min_samples_split': 10}\n",
      "\n",
      "Model with rank: 6\n",
      "Mean validation score: -0.497 (std: 0.001)\n",
      "Parameters: {'forest__bootstrap': True, 'forest__max_features': 15, 'forest__min_samples_leaf': 7, 'forest__max_depth': 10, 'forest__min_samples_split': 10}\n",
      "\n",
      "Model with rank: 7\n",
      "Mean validation score: -0.497 (std: 0.001)\n",
      "Parameters: {'forest__bootstrap': True, 'forest__max_features': 15, 'forest__min_samples_leaf': 4, 'forest__max_depth': 10, 'forest__min_samples_split': 3}\n",
      "\n",
      "Model with rank: 8\n",
      "Mean validation score: -0.497 (std: 0.001)\n",
      "Parameters: {'forest__bootstrap': True, 'forest__max_features': 15, 'forest__min_samples_leaf': 1, 'forest__max_depth': 10, 'forest__min_samples_split': 10}\n",
      "\n",
      "Model with rank: 9\n",
      "Mean validation score: -0.498 (std: 0.001)\n",
      "Parameters: {'forest__bootstrap': False, 'forest__max_features': 6, 'forest__min_samples_leaf': 5, 'forest__max_depth': None, 'forest__min_samples_split': 10}\n",
      "\n",
      "Model with rank: 10\n",
      "Mean validation score: -0.499 (std: 0.001)\n",
      "Parameters: {'forest__bootstrap': True, 'forest__max_features': 10, 'forest__min_samples_leaf': 2, 'forest__max_depth': None, 'forest__min_samples_split': 5}\n",
      "\n",
      "Model with rank: 11\n",
      "Mean validation score: -0.499 (std: 0.002)\n",
      "Parameters: {'forest__bootstrap': True, 'forest__max_features': 11, 'forest__min_samples_leaf': 2, 'forest__max_depth': None, 'forest__min_samples_split': 5}\n",
      "\n",
      "Model with rank: 12\n",
      "Mean validation score: -0.499 (std: 0.001)\n",
      "Parameters: {'forest__bootstrap': False, 'forest__max_features': 13, 'forest__min_samples_leaf': 2, 'forest__max_depth': None, 'forest__min_samples_split': 10}\n",
      "\n",
      "Model with rank: 13\n",
      "Mean validation score: -0.500 (std: 0.001)\n",
      "Parameters: {'forest__bootstrap': True, 'forest__max_features': 5, 'forest__min_samples_leaf': 7, 'forest__max_depth': None, 'forest__min_samples_split': 3}\n",
      "\n",
      "Model with rank: 14\n",
      "Mean validation score: -0.500 (std: 0.001)\n",
      "Parameters: {'forest__bootstrap': True, 'forest__max_features': 6, 'forest__min_samples_leaf': 2, 'forest__max_depth': None, 'forest__min_samples_split': 1}\n",
      "\n",
      "Model with rank: 15\n",
      "Mean validation score: -0.501 (std: 0.001)\n",
      "Parameters: {'forest__bootstrap': False, 'forest__max_features': 5, 'forest__min_samples_leaf': 3, 'forest__max_depth': None, 'forest__min_samples_split': 3}\n",
      "\n",
      "Model with rank: 16\n",
      "Mean validation score: -0.502 (std: 0.001)\n",
      "Parameters: {'forest__bootstrap': True, 'forest__max_features': 10, 'forest__min_samples_leaf': 7, 'forest__max_depth': 10, 'forest__min_samples_split': 1}\n",
      "\n",
      "Model with rank: 17\n",
      "Mean validation score: -0.502 (std: 0.001)\n",
      "Parameters: {'forest__bootstrap': False, 'forest__max_features': 9, 'forest__min_samples_leaf': 7, 'forest__max_depth': 10, 'forest__min_samples_split': 3}\n",
      "\n",
      "Model with rank: 18\n",
      "Mean validation score: -0.503 (std: 0.001)\n",
      "Parameters: {'forest__bootstrap': False, 'forest__max_features': 9, 'forest__min_samples_leaf': 5, 'forest__max_depth': 10, 'forest__min_samples_split': 8}\n",
      "\n",
      "Model with rank: 19\n",
      "Mean validation score: -0.508 (std: 0.001)\n",
      "Parameters: {'forest__bootstrap': False, 'forest__max_features': 16, 'forest__min_samples_leaf': 1, 'forest__max_depth': None, 'forest__min_samples_split': 9}\n",
      "\n",
      "Model with rank: 20\n",
      "Mean validation score: -0.508 (std: 0.000)\n",
      "Parameters: {'forest__bootstrap': False, 'forest__max_features': 6, 'forest__min_samples_leaf': 1, 'forest__max_depth': 10, 'forest__min_samples_split': 5}\n",
      "\n"
     ]
    }
   ],
   "source": [
    "report(random_search.grid_scores_, 20, True)"
   ]
  },
  {
   "cell_type": "code",
   "execution_count": 118,
   "metadata": {
    "ExecuteTime": {
     "end_time": "2016-03-19T14:41:51.435744",
     "start_time": "2016-03-19T14:41:49.763511"
    },
    "collapsed": false
   },
   "outputs": [
    {
     "name": "stdout",
     "output_type": "stream",
     "text": [
      "Testing score: GridSearch\n",
      "0.77327793571\n",
      "0.488858313755\n"
     ]
    }
   ],
   "source": [
    "evaluate(random_search.best_estimator_, X_test, y_test, \"Testing\", \"GridSearchBest\")"
   ]
  },
  {
   "cell_type": "markdown",
   "metadata": {},
   "source": [
    "# Save"
   ]
  },
  {
   "cell_type": "code",
   "execution_count": 129,
   "metadata": {
    "ExecuteTime": {
     "end_time": "2016-03-19T14:58:17.249939",
     "start_time": "2016-03-19T14:58:17.246629"
    },
    "collapsed": true
   },
   "outputs": [],
   "source": [
    "modelToSave = estimator\n",
    "modelToSave = random_search.best_estimator_"
   ]
  },
  {
   "cell_type": "code",
   "execution_count": 130,
   "metadata": {
    "ExecuteTime": {
     "end_time": "2016-03-19T14:58:18.292074",
     "start_time": "2016-03-19T14:58:17.886146"
    },
    "collapsed": true
   },
   "outputs": [],
   "source": [
    "X_kaggleTest = prepareX(kaggleTest)"
   ]
  },
  {
   "cell_type": "code",
   "execution_count": 131,
   "metadata": {
    "ExecuteTime": {
     "end_time": "2016-03-19T14:58:22.776125",
     "start_time": "2016-03-19T14:58:18.344181"
    },
    "collapsed": false
   },
   "outputs": [],
   "source": [
    "predic = modelToSave.predict_proba(X_kaggleTest)[:,1] # extract 2nd column for X=1"
   ]
  },
  {
   "cell_type": "code",
   "execution_count": 132,
   "metadata": {
    "ExecuteTime": {
     "end_time": "2016-03-19T14:58:22.785265",
     "start_time": "2016-03-19T14:58:22.777317"
    },
    "collapsed": false
   },
   "outputs": [],
   "source": [
    "predicPd = pd.DataFrame(predic)\n",
    "predicPd = predicPd.rename(columns={0: 'PredictedProb'})\n",
    "predicPd['ID'] = kaggleTest[['ID']]\n",
    "predicPd = predicPd[['ID', 'PredictedProb']]"
   ]
  },
  {
   "cell_type": "code",
   "execution_count": 133,
   "metadata": {
    "ExecuteTime": {
     "end_time": "2016-03-19T14:58:22.958938",
     "start_time": "2016-03-19T14:58:22.786463"
    },
    "collapsed": false
   },
   "outputs": [],
   "source": [
    "predicPd.to_csv(\"results/pythonpure/results.csv\", index = False)"
   ]
  },
  {
   "cell_type": "code",
   "execution_count": null,
   "metadata": {
    "collapsed": true
   },
   "outputs": [],
   "source": []
  }
 ],
 "metadata": {
  "kernelspec": {
   "display_name": "Python 2",
   "language": "python",
   "name": "python2"
  },
  "language_info": {
   "codemirror_mode": {
    "name": "ipython",
    "version": 2
   },
   "file_extension": ".py",
   "mimetype": "text/x-python",
   "name": "python",
   "nbconvert_exporter": "python",
   "pygments_lexer": "ipython2",
   "version": "2.7.11"
  }
 },
 "nbformat": 4,
 "nbformat_minor": 0
}
