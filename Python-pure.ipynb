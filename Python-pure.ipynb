{
 "cells": [
  {
   "cell_type": "code",
   "execution_count": 1,
   "metadata": {
    "ExecuteTime": {
     "end_time": "2016-04-08T18:05:07.837394",
     "start_time": "2016-04-08T18:05:07.304709"
    },
    "collapsed": false
   },
   "outputs": [
    {
     "name": "stdout",
     "output_type": "stream",
     "text": [
      "Populating the interactive namespace from numpy and matplotlib\n"
     ]
    }
   ],
   "source": [
    "%pylab inline\n",
    "pylab.rcParams['figure.figsize'] = (10, 6)\n",
    "\n",
    "# %matplotlib inline\n",
    "\n",
    "from time import time\n",
    "from operator import itemgetter\n",
    "from datetime import datetime\n",
    "from collections import defaultdict\n",
    "from sklearn.cross_validation import train_test_split, cross_val_score\n",
    "from sklearn.grid_search import GridSearchCV, RandomizedSearchCV\n",
    "from scipy.stats import randint as sp_randint\n",
    "from sklearn.ensemble import RandomForestClassifier, ExtraTreesClassifier, GradientBoostingClassifier\n",
    "from sklearn.metrics import log_loss\n",
    "from sklearn.pipeline import Pipeline\n",
    "from sklearn.preprocessing import Imputer, LabelEncoder\n",
    "\n",
    "import matplotlib.pyplot as plt\n",
    "import numpy as np\n",
    "import pandas as pd\n",
    "import os\n",
    "import subprocess\n",
    "import sys\n",
    "import copy"
   ]
  },
  {
   "cell_type": "markdown",
   "metadata": {},
   "source": [
    "# Functions"
   ]
  },
  {
   "cell_type": "code",
   "execution_count": 2,
   "metadata": {
    "ExecuteTime": {
     "end_time": "2016-04-08T18:05:07.843164",
     "start_time": "2016-04-08T18:05:07.839011"
    },
    "collapsed": true
   },
   "outputs": [],
   "source": [
    "def finish(text=None):\n",
    "    os.system(\"paplay /usr/share/sounds/gnome/default/alerts/drip.ogg\")\n",
    "    \n",
    "    if text:\n",
    "        os.system(\"echo \" + text + \" | festival --tts\")\n",
    "    else:\n",
    "        os.system(\"paplay /usr/share/sounds/gnome/default/alerts/glass.ogg\")"
   ]
  },
  {
   "cell_type": "code",
   "execution_count": 3,
   "metadata": {
    "ExecuteTime": {
     "end_time": "2016-04-08T18:05:07.865552",
     "start_time": "2016-04-08T18:05:07.844873"
    },
    "collapsed": true
   },
   "outputs": [],
   "source": [
    "import subprocess\n",
    "import sys"
   ]
  },
  {
   "cell_type": "code",
   "execution_count": 4,
   "metadata": {
    "ExecuteTime": {
     "end_time": "2016-04-08T18:05:07.889102",
     "start_time": "2016-04-08T18:05:07.867386"
    },
    "collapsed": false
   },
   "outputs": [],
   "source": [
    "bestLogloss = 0.460876581644\n",
    "def evaluate(model, X, y, string, more = \"\"):\n",
    "    title = string + \" score: \" + more\n",
    "    score = model.score(X, y)\n",
    "    scoreLogloss = log_loss(y, model.predict_proba(X))\n",
    "    \n",
    "    currentDate = str(datetime.now().strftime('%Y-%m-%d %H:%M:%S'))\n",
    "    \n",
    "    if model.get_params().has_key('forest'):\n",
    "        modelExplaination = model.get_params()['forest'].__class__.__name__ + str(model.get_params()['forest'].get_params())\n",
    "    else:\n",
    "        modelExplaination = model.__class__.__name__  + str(model.get_params())\n",
    "    \n",
    "    logline = str(score) + \";\" + str(scoreLogloss) + \";\" + currentDate + \";\" + str(modelExplaination) + \";\" + more\n",
    "    \n",
    "    with open(\"evaluate\"+string+\".log\", \"a\") as myfile:\n",
    "        myfile.write(logline+\"\\n\")\n",
    "    \n",
    "    print title\n",
    "    print score\n",
    "    print str(scoreLogloss)  + \" compare to best score: \" + str(scoreLogloss-bestLogloss) \n",
    "    \n",
    "    finish(\"Evaluate finished!\")"
   ]
  },
  {
   "cell_type": "markdown",
   "metadata": {},
   "source": [
    "# Load"
   ]
  },
  {
   "cell_type": "code",
   "execution_count": 5,
   "metadata": {
    "ExecuteTime": {
     "end_time": "2016-04-08T18:05:11.826068",
     "start_time": "2016-04-08T18:05:07.890722"
    },
    "collapsed": true
   },
   "outputs": [],
   "source": [
    "kaggleTrain = pd.read_csv(\"kaggle/train.csv\", header = 0)\n",
    "kaggleTest = pd.read_csv(\"kaggle/test.csv\", header = 0)"
   ]
  },
  {
   "cell_type": "code",
   "execution_count": 6,
   "metadata": {
    "ExecuteTime": {
     "end_time": "2016-04-08T18:05:11.830365",
     "start_time": "2016-04-08T18:05:11.827324"
    },
    "collapsed": false
   },
   "outputs": [
    {
     "name": "stdout",
     "output_type": "stream",
     "text": [
      "Kaggle Train count: 114321\n",
      "Kaggle Test count:  114393\n"
     ]
    }
   ],
   "source": [
    "print \"Kaggle Train count: \" + str(len(kaggleTrain))\n",
    "print \"Kaggle Test count:  \" + str(len(kaggleTest))"
   ]
  },
  {
   "cell_type": "markdown",
   "metadata": {},
   "source": [
    "## Columns listing"
   ]
  },
  {
   "cell_type": "code",
   "execution_count": 7,
   "metadata": {
    "ExecuteTime": {
     "end_time": "2016-04-08T18:05:11.963584",
     "start_time": "2016-04-08T18:05:11.831900"
    },
    "collapsed": false
   },
   "outputs": [
    {
     "name": "stdout",
     "output_type": "stream",
     "text": [
      "We have the ID columns, type: int64\n",
      "We have the target columns, type: int64\n",
      "\n",
      "dummies 10\n",
      "int64 4\n",
      "object 9\n",
      "float64 108\n"
     ]
    }
   ],
   "source": [
    "#print train.schema.fields\n",
    "columnsDict = {}\n",
    "columnsDict = defaultdict(lambda: list(), columnsDict)\n",
    "for col in kaggleTrain.columns:\n",
    "    typeKey = str(kaggleTrain[col].dtype)\n",
    "    colName = col\n",
    "    \n",
    "    if colName == 'ID':\n",
    "        print \"We have the ID columns, type: \" + typeKey\n",
    "        continue\n",
    "    if colName == 'target':\n",
    "        print \"We have the target columns, type: \" + typeKey\n",
    "        continue\n",
    "        \n",
    "    if typeKey == \"object\":\n",
    "        if len(kaggleTrain[col].unique()) < 9 : # Because v71 has 9 distinct value and some missing in the testing set\n",
    "            columnsDict['dummies'].append(colName)\n",
    "            continue # Dummies should not be added\n",
    "            \n",
    "\n",
    "    columnsDict[typeKey].append(colName)\n",
    "\n",
    "print \"\"\n",
    "for ct, cl in columnsDict.iteritems():\n",
    "    print ct + \" \" + str(len(cl))"
   ]
  },
  {
   "cell_type": "code",
   "execution_count": 8,
   "metadata": {
    "ExecuteTime": {
     "end_time": "2016-04-08T18:05:12.641379",
     "start_time": "2016-04-08T18:05:11.965446"
    },
    "collapsed": true
   },
   "outputs": [],
   "source": [
    "# Add dummies\n",
    "kaggleTrainDummies = pd.get_dummies(kaggleTrain[columnsDict['dummies']])\n",
    "kaggleTrain = pd.concat([kaggleTrain, kaggleTrainDummies], axis=1)\n",
    "\n",
    "kaggleTestDummies = pd.get_dummies(kaggleTest[columnsDict['dummies']])\n",
    "kaggleTest = pd.concat([kaggleTest, kaggleTestDummies], axis=1)"
   ]
  },
  {
   "cell_type": "code",
   "execution_count": 9,
   "metadata": {
    "ExecuteTime": {
     "end_time": "2016-04-08T18:05:12.647162",
     "start_time": "2016-04-08T18:05:12.642823"
    },
    "collapsed": false
   },
   "outputs": [
    {
     "name": "stdout",
     "output_type": "stream",
     "text": [
      "set([])\n",
      "set([])\n",
      "set(['target'])\n"
     ]
    }
   ],
   "source": [
    "print set(kaggleTrainDummies.columns) - set(kaggleTestDummies.columns)\n",
    "print set(kaggleTestDummies.columns) - set(kaggleTrainDummies.columns)\n",
    "print set(kaggleTrain.columns) - set(kaggleTest.columns)"
   ]
  },
  {
   "cell_type": "code",
   "execution_count": 10,
   "metadata": {
    "ExecuteTime": {
     "end_time": "2016-04-08T18:05:12.668357",
     "start_time": "2016-04-08T18:05:12.648697"
    },
    "collapsed": false
   },
   "outputs": [
    {
     "data": {
      "text/plain": [
       "['v3', 'v24', 'v30', 'v31', 'v66', 'v74', 'v75', 'v91', 'v107', 'v110']"
      ]
     },
     "execution_count": 10,
     "metadata": {},
     "output_type": "execute_result"
    }
   ],
   "source": [
    "columnsDict['dummies']"
   ]
  },
  {
   "cell_type": "markdown",
   "metadata": {},
   "source": [
    "# Split"
   ]
  },
  {
   "cell_type": "code",
   "execution_count": 11,
   "metadata": {
    "ExecuteTime": {
     "end_time": "2016-04-08T18:05:13.164195",
     "start_time": "2016-04-08T18:05:12.670022"
    },
    "collapsed": true
   },
   "outputs": [],
   "source": [
    "train, test = train_test_split(kaggleTrain, test_size = 0.2)"
   ]
  },
  {
   "cell_type": "code",
   "execution_count": 12,
   "metadata": {
    "ExecuteTime": {
     "end_time": "2016-04-08T18:05:13.240318",
     "start_time": "2016-04-08T18:05:13.165364"
    },
    "collapsed": false
   },
   "outputs": [
    {
     "data": {
      "text/plain": [
       "v22     16640\n",
       "v47        10\n",
       "v52        12\n",
       "v56       115\n",
       "v71         8\n",
       "v79        18\n",
       "v112       22\n",
       "v113       35\n",
       "v125       90\n",
       "dtype: int64"
      ]
     },
     "execution_count": 12,
     "metadata": {},
     "output_type": "execute_result"
    }
   ],
   "source": [
    "train[columnsDict['object']].apply(pd.Series.nunique)"
   ]
  },
  {
   "cell_type": "markdown",
   "metadata": {},
   "source": [
    "# Prepare X and y"
   ]
  },
  {
   "cell_type": "code",
   "execution_count": 13,
   "metadata": {
    "ExecuteTime": {
     "end_time": "2016-04-08T18:05:13.245465",
     "start_time": "2016-04-08T18:05:13.241984"
    },
    "collapsed": false
   },
   "outputs": [
    {
     "name": "stdout",
     "output_type": "stream",
     "text": [
      "112\n"
     ]
    }
   ],
   "source": [
    "print len(columnsDict['float64']) +  len(columnsDict['int64'])"
   ]
  },
  {
   "cell_type": "code",
   "execution_count": 14,
   "metadata": {
    "ExecuteTime": {
     "end_time": "2016-04-08T18:05:14.008108",
     "start_time": "2016-04-08T18:05:13.247036"
    },
    "collapsed": false
   },
   "outputs": [
    {
     "name": "stdout",
     "output_type": "stream",
     "text": [
      "Number of missing value per column in the Testing set\n",
      "defaultdict(<function <lambda> at 0x7f2b18628aa0>, {'v56': {'nbrMissing': 8, 'nbrDistinct': 123}, 'v22': {'nbrMissing': 5209, 'nbrDistinct': 18211}, 'v71': {'nbrMissing': 3, 'nbrDistinct': 9}, 'v113': {'nbrMissing': 1, 'nbrDistinct': 37}})\n"
     ]
    }
   ],
   "source": [
    "catEncoders = dict()\n",
    "catProbability = dict()\n",
    "nbrTestMissing = dict()\n",
    "nbrTestMissing = defaultdict(lambda: {\"nbrMissing\": 0, 'nbrDistinct': 0}, nbrTestMissing)\n",
    "# Create the mapping from categorie to int\n",
    "for col in columnsDict['object']:\n",
    "    # Create dictionnary\n",
    "    uniqueValues = kaggleTrain[col].unique()\n",
    "    dictValues = dict()\n",
    "    dictValues = defaultdict(lambda: -1, dictValues)       \n",
    "    for v in uniqueValues:\n",
    "        if v is nan:\n",
    "            continue\n",
    "        if not v in dictValues:\n",
    "            dictValues[v] = len(dictValues)\n",
    "    dictValues[nan] = -1\n",
    "    \n",
    "    \n",
    "    # Cat probability\n",
    "    df = pd.pivot_table(kaggleTrain, values='target', columns=[col], aggfunc=np.average) # index=['A', 'B']\n",
    "    dictProba = df.to_dict()\n",
    "    #dictProba = defaultdict(lambda: -1, dictProba)\n",
    "    \n",
    "    # If value is in the training but not in the testing, then map to missing -1\n",
    "    uniqueValuesTesting = kaggleTest[col].unique()\n",
    "    for v in set(uniqueValuesTesting) - set(uniqueValues):\n",
    "        dictValues[v] = -1\n",
    "        dictProba[v] = -1\n",
    "        nbrTestMissing[col] = {\"nbrMissing\": nbrTestMissing[col]['nbrMissing'] + 1, 'nbrDistinct': len(uniqueValues)}\n",
    "\n",
    "    catEncoders[col] = dictValues\n",
    "    catProbability[col] = dictProba\n",
    "print \"Number of missing value per column in the Testing set\"\n",
    "print nbrTestMissing"
   ]
  },
  {
   "cell_type": "code",
   "execution_count": 15,
   "metadata": {
    "ExecuteTime": {
     "end_time": "2016-04-08T18:05:14.012780",
     "start_time": "2016-04-08T18:05:14.009624"
    },
    "collapsed": false,
    "scrolled": true
   },
   "outputs": [
    {
     "name": "stdout",
     "output_type": "stream",
     "text": [
      "defaultdict(<function <lambda> at 0x7f2b165fb398>, {'BD': 57, 'BE': 94, 'BF': 74, 'BG': 61, 'BA': 33, nan: -1, 'BC': 88, 'BL': 19, 'BM': 14, 'BN': 112, 'BO': 117, 'BH': 59, 'BI': 58, 'BJ': 16, 'BK': 37, 'BT': 119, 'BU': 24, 'BV': 17, 'BW': 3, 'BP': 96, 'BQ': 13, 'BR': 92, 'BS': 34, 'BX': 35, 'BY': 83, 'BZ': 27, 'Z': 11, 'BB': -1, 'D': 120, 'H': 51, 'L': 111, 'P': 25, 'T': 114, 'X': 106, 'A': 47, 'AE': 99, 'I': 97, 'C': 62, 'G': 40, 'M': 108, 'K': -1, 'O': 102, 'S': -1, 'W': 75, 'AQ': -1, 'AU': 77, 'AY': 80, 'CK': 93, 'CJ': 98, 'CI': 39, 'CH': 60, 'CO': 38, 'CN': 20, 'CM': 48, 'F': 78, 'CC': 41, 'CB': 79, 'CA': 63, 'J': -1, 'CG': 105, 'CF': 54, 'CE': 113, 'N': 22, 'CZ': 103, 'CY': 7, 'R': 18, 'V': 23, 'CS': 52, 'CR': -1, 'CQ': 72, 'CP': 56, 'CW': 91, 'CV': 66, 'CU': -1, 'CT': 81, 'CD': 115, 'DN': 12, 'DO': 26, 'DL': 28, 'DM': 42, 'DJ': 32, 'DK': 68, 'DH': 31, 'DI': 0, 'DF': 30, 'DG': 67, 'DD': 118, 'DE': 71, 'DB': 104, 'DC': 121, 'DA': 45, 'B': 82, 'DZ': 36, 'DX': 4, 'DY': 1, 'DV': 95, 'DW': 110, 'DT': 100, 'DU': 85, 'DR': 49, 'DS': 29, 'DP': 5, 'DQ': 73, 'CL': 69, 'AA': 65, 'AC': 84, 'AB': 116, 'E': 87, 'AD': -1, 'AG': 15, 'AF': 6, 'AI': 43, 'AH': 70, 'AK': 44, 'AJ': 107, 'AM': 101, 'AL': 9, 'AO': 53, 'AN': 50, 'Q': 90, 'AP': 64, 'AS': 2, 'AR': 55, 'U': 21, 'AT': 86, 'AW': 8, 'AV': 76, 'Y': 46, 'AX': 109, 'AZ': 10, 'CX': 89})\n"
     ]
    }
   ],
   "source": [
    "print catEncoders['v56']\n",
    "#print catProbability"
   ]
  },
  {
   "cell_type": "code",
   "execution_count": 16,
   "metadata": {
    "ExecuteTime": {
     "end_time": "2016-04-08T18:05:14.034001",
     "start_time": "2016-04-08T18:05:14.014484"
    },
    "collapsed": false
   },
   "outputs": [
    {
     "name": "stdout",
     "output_type": "stream",
     "text": [
      "['v22', 'v79', 'v71', 'v112', 'v113', 'v125', 'v56', 'v52', 'v47']\n"
     ]
    }
   ],
   "source": [
    "# Choose Encoder or Proba\n",
    "catForEncoders = []#['v22']#['v22', 'v56']\n",
    "catEncoders = { your_key: catEncoders[your_key] for your_key in catForEncoders }\n",
    "catProbability = { your_key: catProbability[your_key] for your_key in set(catProbability.keys()) - set(catForEncoders) }\n",
    "print catProbability.keys()"
   ]
  },
  {
   "cell_type": "code",
   "execution_count": 17,
   "metadata": {
    "ExecuteTime": {
     "end_time": "2016-04-08T18:05:14.087034",
     "start_time": "2016-04-08T18:05:14.035311"
    },
    "collapsed": true
   },
   "outputs": [],
   "source": [
    "def prepareX(df, isTrainning):\n",
    "    colsToAdd = columnsDict['float64'] + columnsDict['int64']\n",
    "    \n",
    "    dfX = df[colsToAdd]\n",
    "    dfX = dfX.fillna(-1) # -1 is a good missing value encoder because everything is >= 0\n",
    "    \n",
    "    for col in colsToAdd:\n",
    "        dfX[col+\"_m\"] = df[col]\n",
    "        \n",
    "    # Add categorical features, and replace categories with int\n",
    "    dfX[columnsDict['object']] = df[columnsDict['object']]\n",
    "    #dfX = dfX.replace(catEncoders) # catEncoders\n",
    "    #dfX = dfX.replace(catProbability) # catProbability\n",
    "    # Replace NaN for catProbability\n",
    "    replaceNan = dict()\n",
    "    for col in catProbability:\n",
    "        replaceNan[col] = {NaN: -1}\n",
    "    dfX = dfX.replace(replaceNan)\n",
    "    \n",
    "    # Add dummies\n",
    "    dfX[kaggleTrainDummies.columns] = df[kaggleTrainDummies.columns]\n",
    "    \n",
    "    # Features selection\n",
    "    if True:\n",
    "        featToKeep = ['v50', 'v66', 'v113', 'v47', 'v110', 'v10', 'v31', 'v129', 'v12', 'v79', 'v56', 'v14', 'v62', 'v114_m', 'v34_m', 'v40_m', 'v21_m', 'v24', 'v38_m', 'v22', 'v125', 'v72_m', 'v123_m', 'v88_m', 'v28_m', 'v82_m', 'v58_m', 'v100_m', 'v68_m', 'v131', 'v1_m', 'v124_m', 'v45_m', 'v46', 'v37_m', 'v119_m', 'v89_m', 'v98_m', 'v36', 'v85_m', 'v120_m', 'v5_m', 'v16', 'v54_m', 'v35', 'v63_m', 'v6_m', 'v78_m', 'v99_m', 'v126_m', 'v112', 'v97_m', 'v94', 'v122_m', 'v57_m', 'v117_m', 'v2_m', 'v86_m', 'v51_m', 'v84_m', 'v11_m', 'v4_m', 'v130_m', 'v42', 'v18_m', 'v53_m', 'v115_m', 'v118', 'v101_m', 'v9_m', 'v61_m', 'v103_m', 'v127_m', 'v87_m', 'v8_m', 'v7_m', 'v32_m', 'v90_m', 'v81_m', 'v59_m', 'v27_m', 'v128_m', 'v20_m', 'v26_m', 'v105_m', 'v108_m', 'v30', 'v73_m', 'v13_m', 'v102_m', 'v25_m', 'v52', 'v121_m', 'v93_m', 'v41', 'v69_m', 'v95_m', 'v104_m', 'v116_m', 'v80_m', 'v111_m', 'v15_m', 'v43_m', 'v70_m', 'v55_m', 'v106_m', 'v60_m', 'v39_m', 'v19_m', 'v33_m', 'v83_m', 'v76_m', 'v44_m', 'v77_m', 'v48_m', 'v65_m', 'v109_m', 'v67_m', 'v29_m', 'v17_m', 'v49_m', 'v92_m', 'v23', 'v96_m', 'v64_m', 'v71', 'v3', 'v107', 'v91', 'v74', 'v75']\n",
    "        featToKeep = ['v50_m', 'v56', 'v66', 'v12_m', 'v114_m', 'v10_m', 'v34', 'v40', 'v66_C', 'v14', 'v79', 'v21_m', 'v22', 'v47', 'v125', 'v110', 'v110_B', 'v66_B', 'v31', 'v113', 'v110_A', 'v31_A', 'v112', 'v66_A', 'v52', 'v129', 'v62', 'v24', 'v24_E', 'v31_B', 'v107', 'v91', 'v30', 'v82_m', 'v115_m', 'v88_m', 'v6_m', 'v120_m', 'v119_m', 'v69_m', 'v124_m', 'v102_m', 'v24_D', 'v90', 'v57_m', 'v68_m', 'v1_m', 'v78_m', 'v99_m', 'v45_m', 'v16_m', 'v28_m', 'v126_m', 'missing', 'v100', 'v87', 'v131_m', 'v98_m', 'v70_m', 'v36', 'v39_m', 'v108', 'v37_m', 'v81', 'v53_m', 'v85_m', 'v117_m', 'v58_m', 'v32', 'v27_m', 'v19_m', 'v122_m', 'v44_m', 'v42_m', 'v86_m', 'v7_m', 'v127_m', 'v11_m', 'v55_m', 'v9_m', 'v18_m', 'v103_m', 'v2_m', 'v123_m', 'v109_m', 'v80_m', 'v54_m', 'v25_m', 'v26', 'v73_m', 'v15_m', 'v97_m', 'v63_m', 'v20_m', 'v4_m', 'v89_m', 'v35_m', 'v118_m', 'v94_m', 'v5_m', 'v8_m', 'v116_m', 'v46_m', 'v104_m', 'v83', 'v49', 'v111_m', 'v105_m', 'v51', 'v59_m', 'v43_m', 'v13_m', 'v95_m', 'v128_m', 'v84_m', 'v60_m', 'v101_m', 'v61_m', 'v130_m', 'v121_m', 'v92_m', 'v77_m', 'v24_C', 'v67_m', 'v65_m', 'v33_m', 'v76', 'v93_m', 'v41_m', 'v29_m', 'v96_m', 'v48_m', 'v17_m', 'v106_m', 'v71', 'v64_m', 'v72_m', 'v75', 'v75_D', 'v75_B', 'v30_C', 'v23', 'v91_A', 'v107_E', 'v107_B', 'v107_C', 'v91_G', 'v38', 'v91_B', 'v107_D', 'v91_C', 'v31_C', 'v91_F', 'v107_A', 'v24_B', 'v3', 'v30_G', 'v74_B', 'v74', 'v30_D', 'v3_C', 'v110_C', 'v24_A', 'v74_C', 'v30_E', 'v107_F', 'v91_E', 'v30_F', 'v30_A', 'v3_A', 'v91_D', 'v3_B', 'v30_B', 'v107_G', 'v75_C', 'v75_A', 'v74_A']\n",
    "        featToKeep = featToKeep[:len(featToKeep)-50] # Remove the last 50 less important feature\n",
    "        featToKeep = [x for x in featToKeep if x not in columnsDict['dummies']] # Remove dummy columns\n",
    "        featToKeep = [x for x in featToKeep if x in dfX.columns] # Remove unknow columns\n",
    "        #featToKeep = featToKeep + kaggleTrainDummies.columns.tolist() # Add dummies columns\n",
    "        dfX = dfX[featToKeep]\n",
    "    \n",
    "    # Features creation:\n",
    "    dfX['missing'] = df.isnull().sum(axis=1)\n",
    "    \n",
    "    finish(\"Prepare X finished!\")\n",
    "    return dfX"
   ]
  },
  {
   "cell_type": "code",
   "execution_count": 18,
   "metadata": {
    "ExecuteTime": {
     "end_time": "2016-04-08T18:05:14.109142",
     "start_time": "2016-04-08T18:05:14.089772"
    },
    "collapsed": true
   },
   "outputs": [],
   "source": [
    "def prepareY(df):   \n",
    "    return df[[\"target\"]].values.ravel()"
   ]
  },
  {
   "cell_type": "code",
   "execution_count": 19,
   "metadata": {
    "ExecuteTime": {
     "end_time": "2016-04-08T18:05:17.325623",
     "start_time": "2016-04-08T18:05:14.110429"
    },
    "collapsed": false
   },
   "outputs": [],
   "source": [
    "X_train = prepareX(train, True)\n",
    "y_train = prepareY(train)"
   ]
  },
  {
   "cell_type": "code",
   "execution_count": 20,
   "metadata": {
    "ExecuteTime": {
     "end_time": "2016-04-08T18:05:19.593176",
     "start_time": "2016-04-08T18:05:17.327538"
    },
    "collapsed": false
   },
   "outputs": [],
   "source": [
    "X_test = prepareX(test, False)\n",
    "y_test = prepareY(test)"
   ]
  },
  {
   "cell_type": "code",
   "execution_count": 21,
   "metadata": {
    "ExecuteTime": {
     "end_time": "2016-04-08T18:05:19.845528",
     "start_time": "2016-04-08T18:05:19.594526"
    },
    "collapsed": false
   },
   "outputs": [
    {
     "name": "stdout",
     "output_type": "stream",
     "text": [
      "Nbr columns train: 178\n",
      "Nbr columns train prepared: 120\n",
      "120\n",
      "120\n"
     ]
    }
   ],
   "source": [
    "colsMissingValues = X_train.isnull().sum()\n",
    "print \"Nbr columns train: \" + str(len(train.columns))\n",
    "print \"Nbr columns train prepared: \" + str(len(X_train.columns))\n",
    "print len(X_test.columns)\n",
    "#print set(train.columns) - set(X_train.columns)\n",
    "print len(colsMissingValues)"
   ]
  },
  {
   "cell_type": "markdown",
   "metadata": {},
   "source": [
    "# Model 1 - Stacking\n",
    "TODO = Cross Validation ?"
   ]
  },
  {
   "cell_type": "code",
   "execution_count": 22,
   "metadata": {
    "ExecuteTime": {
     "end_time": "2016-04-08T18:05:19.849966",
     "start_time": "2016-04-08T18:05:19.847319"
    },
    "collapsed": true
   },
   "outputs": [],
   "source": [
    "stacking = False"
   ]
  },
  {
   "cell_type": "code",
   "execution_count": 23,
   "metadata": {
    "ExecuteTime": {
     "end_time": "2016-04-08T18:05:19.869481",
     "start_time": "2016-04-08T18:05:19.851847"
    },
    "collapsed": true
   },
   "outputs": [],
   "source": [
    "if stacking:\n",
    "    X_m1_train, X_m2_train, y_m1_train, y_m2_train = train_test_split(X_train, y_train, test_size = 0.5)"
   ]
  },
  {
   "cell_type": "code",
   "execution_count": 24,
   "metadata": {
    "ExecuteTime": {
     "end_time": "2016-04-08T18:05:19.884787",
     "start_time": "2016-04-08T18:05:19.871135"
    },
    "collapsed": false
   },
   "outputs": [],
   "source": [
    "if stacking:\n",
    "    import imputerproba\n",
    "    reload(imputerproba)\n",
    "    from imputerproba import ImputerProba\n",
    "    model1 = ImputerProba(columnsEncod=[],\n",
    "                          columnsProba=catProbability.keys(),\n",
    "                          verbose=1)"
   ]
  },
  {
   "cell_type": "code",
   "execution_count": 25,
   "metadata": {
    "ExecuteTime": {
     "end_time": "2016-04-08T18:05:19.905317",
     "start_time": "2016-04-08T18:05:19.886509"
    },
    "collapsed": false
   },
   "outputs": [],
   "source": [
    "if stacking:\n",
    "    model1All = copy.deepcopy(model1)\n",
    "    model1All.fit(X_train, y_train)\n",
    "    X_m2_test = model1All.transform(X_test)\n",
    "else:\n",
    "    X_m2_test = X_test"
   ]
  },
  {
   "cell_type": "code",
   "execution_count": 26,
   "metadata": {
    "ExecuteTime": {
     "end_time": "2016-04-08T18:05:19.932481",
     "start_time": "2016-04-08T18:05:19.907362"
    },
    "collapsed": false
   },
   "outputs": [],
   "source": [
    "if stacking:\n",
    "    model1.fit(X_m1_train, y_m1_train)"
   ]
  },
  {
   "cell_type": "code",
   "execution_count": 27,
   "metadata": {
    "ExecuteTime": {
     "end_time": "2016-04-08T18:05:19.948038",
     "start_time": "2016-04-08T18:05:19.934735"
    },
    "collapsed": false
   },
   "outputs": [],
   "source": [
    "if stacking:\n",
    "    X_m2_train = model1.transform(X_m2_train)\n",
    "else:\n",
    "    X_m2_train = X_train\n",
    "    y_m2_train = y_train"
   ]
  },
  {
   "cell_type": "markdown",
   "metadata": {},
   "source": [
    "# Model"
   ]
  },
  {
   "cell_type": "code",
   "execution_count": 28,
   "metadata": {
    "ExecuteTime": {
     "end_time": "2016-04-08T18:05:19.969852",
     "start_time": "2016-04-08T18:05:19.949879"
    },
    "collapsed": false
   },
   "outputs": [
    {
     "name": "stdout",
     "output_type": "stream",
     "text": [
      "10\n"
     ]
    }
   ],
   "source": [
    "sqrtNbrFeat = int(sqrt(len(X_m2_train.columns)))\n",
    "print sqrtNbrFeat"
   ]
  },
  {
   "cell_type": "code",
   "execution_count": 29,
   "metadata": {
    "ExecuteTime": {
     "end_time": "2016-04-08T18:05:19.990825",
     "start_time": "2016-04-08T18:05:19.972039"
    },
    "collapsed": true
   },
   "outputs": [],
   "source": [
    "#.setNumTrees(150).setMaxDepth(6)\n",
    "rmf = RandomForestClassifier(n_estimators=150,\n",
    "                             n_jobs=-1,\n",
    "                             max_depth=10,\n",
    "                             #max_features=sqrtNbrFeat,\n",
    "                             criterion='gini') #  max_depth=7"
   ]
  },
  {
   "cell_type": "raw",
   "metadata": {
    "ExecuteTime": {
     "end_time": "2016-03-31T11:58:28.730313",
     "start_time": "2016-03-31T11:58:28.726551"
    },
    "collapsed": true
   },
   "source": [
    "etc = ExtraTreesClassifier(n_estimators=850, max_features=60, criterion='entropy', min_samples_split=4,\n",
    "                            max_depth=40, min_samples_leaf=2, n_jobs=-1)     "
   ]
  },
  {
   "cell_type": "code",
   "execution_count": null,
   "metadata": {
    "collapsed": true
   },
   "outputs": [],
   "source": [
    "gbc = GradientBoostingClassifier()"
   ]
  },
  {
   "cell_type": "code",
   "execution_count": null,
   "metadata": {
    "collapsed": true
   },
   "outputs": [],
   "source": [
    "clf = gbc # rmf etc\n"
   ]
  },
  {
   "cell_type": "code",
   "execution_count": 30,
   "metadata": {
    "ExecuteTime": {
     "end_time": "2016-04-08T18:05:20.012727",
     "start_time": "2016-04-08T18:05:19.993211"
    },
    "collapsed": true
   },
   "outputs": [],
   "source": [
    "#clf.fit(X_m2_train, y_train)"
   ]
  },
  {
   "cell_type": "markdown",
   "metadata": {},
   "source": [
    "# Pipeline"
   ]
  },
  {
   "cell_type": "code",
   "execution_count": 31,
   "metadata": {
    "ExecuteTime": {
     "end_time": "2016-04-08T18:05:20.033319",
     "start_time": "2016-04-08T18:05:20.015089"
    },
    "collapsed": false
   },
   "outputs": [],
   "source": [
    "imputer = Imputer(missing_values=\"NaN\",\n",
    "                  strategy=\"mean\",\n",
    "                  axis=0)"
   ]
  },
  {
   "cell_type": "code",
   "execution_count": 32,
   "metadata": {
    "ExecuteTime": {
     "end_time": "2016-04-08T18:05:20.053148",
     "start_time": "2016-04-08T18:05:20.034863"
    },
    "collapsed": false
   },
   "outputs": [
    {
     "data": {
      "text/plain": [
       "['v22', 'v79', 'v71', 'v112', 'v113', 'v125', 'v56', 'v52', 'v47']"
      ]
     },
     "execution_count": 32,
     "metadata": {},
     "output_type": "execute_result"
    }
   ],
   "source": [
    "catProbability.keys()"
   ]
  },
  {
   "cell_type": "code",
   "execution_count": 47,
   "metadata": {
    "ExecuteTime": {
     "end_time": "2016-04-08T18:22:31.298391",
     "start_time": "2016-04-08T18:22:31.291872"
    },
    "collapsed": false
   },
   "outputs": [],
   "source": [
    "import imputerproba\n",
    "reload(imputerproba)\n",
    "from imputerproba import ImputerProba\n",
    "imputerProba = ImputerProba(columnsEncod=(catEncoders.keys() + [x+'_m' for x in catEncoders.keys()]),\n",
    "                            columnsProba=catProbability.keys(), # If Stacking True : []\n",
    "                            verbose=1,\n",
    "                            leaveOneOut=True\n",
    "                           )"
   ]
  },
  {
   "cell_type": "code",
   "execution_count": 48,
   "metadata": {
    "ExecuteTime": {
     "end_time": "2016-04-08T18:22:31.805938",
     "start_time": "2016-04-08T18:22:31.802644"
    },
    "collapsed": false
   },
   "outputs": [
    {
     "data": {
      "text/plain": [
       "91456"
      ]
     },
     "execution_count": 48,
     "metadata": {},
     "output_type": "execute_result"
    }
   ],
   "source": [
    "len(X_m2_train)"
   ]
  },
  {
   "cell_type": "code",
   "execution_count": 49,
   "metadata": {
    "ExecuteTime": {
     "end_time": "2016-04-08T18:22:32.084644",
     "start_time": "2016-04-08T18:22:32.081139"
    },
    "collapsed": false
   },
   "outputs": [],
   "source": [
    "estimator = Pipeline([(\"imputerProba\", imputerProba),\n",
    "                      (\"imputer\", imputer),\n",
    "                      (\"forest\", clf)\n",
    "                     ])"
   ]
  },
  {
   "cell_type": "code",
   "execution_count": 50,
   "metadata": {
    "ExecuteTime": {
     "end_time": "2016-04-08T18:23:35.597557",
     "start_time": "2016-04-08T18:22:32.447461"
    },
    "collapsed": false,
    "scrolled": true
   },
   "outputs": [
    {
     "name": "stdout",
     "output_type": "stream",
     "text": [
      "fit_transform, lengh X: 91456\n",
      "Fit, lengh X: 91456\n",
      "Column proba: v71 is not in X, skip.\n",
      "Transform, training: True  leaveOneOut: True\n",
      "Column proba: v71 is not in X, skip.\n",
      "Index([u'v50_m', u'v56', u'v12_m', u'v114_m', u'v10_m', u'v34', u'v40',\n",
      "       u'v66_C', u'v14', u'v79', \n",
      "       ...\n",
      "       u'v130_m', u'v121_m', u'v92_m', u'v77_m', u'v24_C', u'v67_m', u'v65_m',\n",
      "       u'v33_m', u'v76', u'missing'],\n",
      "      dtype='object', length=120)\n"
     ]
    }
   ],
   "source": [
    "estimator.fit(X_m2_train, y_m2_train)\n",
    "finish()"
   ]
  },
  {
   "cell_type": "markdown",
   "metadata": {},
   "source": [
    "## Scoring"
   ]
  },
  {
   "cell_type": "code",
   "execution_count": 51,
   "metadata": {
    "ExecuteTime": {
     "end_time": "2016-04-08T18:29:39.129317",
     "start_time": "2016-04-08T18:23:35.599608"
    },
    "collapsed": false,
    "scrolled": true
   },
   "outputs": [
    {
     "name": "stdout",
     "output_type": "stream",
     "text": [
      "Transform, training: False  leaveOneOut: True\n",
      "Column proba: v71 is not in X, skip.\n",
      "Index([u'v50_m', u'v56', u'v12_m', u'v114_m', u'v10_m', u'v34', u'v40',\n",
      "       u'v66_C', u'v14', u'v79', \n",
      "       ...\n",
      "       u'v130_m', u'v121_m', u'v92_m', u'v77_m', u'v24_C', u'v67_m', u'v65_m',\n",
      "       u'v33_m', u'v76', u'missing'],\n",
      "      dtype='object', length=120)\n",
      "Transform, training: False  leaveOneOut: True\n",
      "Column proba: v71 is not in X, skip.\n",
      "Index([u'v50_m', u'v56', u'v12_m', u'v114_m', u'v10_m', u'v34', u'v40',\n",
      "       u'v66_C', u'v14', u'v79', \n",
      "       ...\n",
      "       u'v130_m', u'v121_m', u'v92_m', u'v77_m', u'v24_C', u'v67_m', u'v65_m',\n",
      "       u'v33_m', u'v76', u'missing'],\n",
      "      dtype='object', length=120)\n",
      "Training score: estimator+missingFeat+dummy\n",
      "0.761371588523\n",
      "0.539602661471 compare to best score: 0.0787260798271\n"
     ]
    }
   ],
   "source": [
    "evaluate(estimator, X_m2_train, y_m2_train, \"Training\", \"estimator+missingFeat+dummy\")"
   ]
  },
  {
   "cell_type": "code",
   "execution_count": 52,
   "metadata": {
    "ExecuteTime": {
     "end_time": "2016-04-08T18:31:02.721763",
     "start_time": "2016-04-08T18:29:39.130913"
    },
    "collapsed": false
   },
   "outputs": [
    {
     "name": "stdout",
     "output_type": "stream",
     "text": [
      "Transform, training: False  leaveOneOut: True\n",
      "Column proba: v71 is not in X, skip.\n",
      "Index([u'v50_m', u'v56', u'v12_m', u'v114_m', u'v10_m', u'v34', u'v40',\n",
      "       u'v66_C', u'v14', u'v79', \n",
      "       ...\n",
      "       u'v130_m', u'v121_m', u'v92_m', u'v77_m', u'v24_C', u'v67_m', u'v65_m',\n",
      "       u'v33_m', u'v76', u'missing'],\n",
      "      dtype='object', length=120)\n",
      "Transform, training: False  leaveOneOut: True\n",
      "Column proba: v71 is not in X, skip.\n",
      "Index([u'v50_m', u'v56', u'v12_m', u'v114_m', u'v10_m', u'v34', u'v40',\n",
      "       u'v66_C', u'v14', u'v79', \n",
      "       ...\n",
      "       u'v130_m', u'v121_m', u'v92_m', u'v77_m', u'v24_C', u'v67_m', u'v65_m',\n",
      "       u'v33_m', u'v76', u'missing'],\n",
      "      dtype='object', length=120)\n",
      "Testing score: estimator+missingFeat+dummy\n",
      "0.763831183031\n",
      "0.546563410313 compare to best score: 0.0856868286693\n"
     ]
    }
   ],
   "source": [
    "evaluate(estimator, X_m2_test, y_test, \"Testing\", \"estimator+missingFeat+dummy\")"
   ]
  },
  {
   "cell_type": "markdown",
   "metadata": {},
   "source": [
    "## Features Analysis"
   ]
  },
  {
   "cell_type": "code",
   "execution_count": 55,
   "metadata": {
    "ExecuteTime": {
     "end_time": "2016-04-08T18:31:11.509516",
     "start_time": "2016-04-08T18:31:11.468830"
    },
    "collapsed": false
   },
   "outputs": [],
   "source": [
    "featToKeep = []\n",
    "def feature_analysis(model, X):\n",
    "    importancePd = pd.DataFrame(X.columns, columns=[\"feature\"])\n",
    "    importancePd[\"importance\"] = model.feature_importances_\n",
    "    \n",
    "    importancePd = importancePd.sort(['importance'], ascending=[0])\n",
    "    importancePd = importancePd.set_index(['feature'])\n",
    "    \n",
    "    print importancePd.head(n=10)\n",
    "\n",
    "    plt.figure();\n",
    "    pylab.rcParams['figure.figsize'] = (30, 3)\n",
    "    importancePd[:50].plot(kind='bar');\n",
    "    importancePd[50:200].plot(kind='bar');\n",
    "    plt.axhline(0, color='k')\n",
    "           \n",
    "    featToKeep = []\n",
    "    for index, row in importancePd.iterrows():\n",
    "        #print row['importance']\n",
    "        #print index\n",
    "        \n",
    "        if not \"_m\" in index:\n",
    "            indexWithM = index + \"_m\"\n",
    "            if index not in importancePd.columns:\n",
    "                continue\n",
    "            imp = importancePd[importancePd.index==index].importance.item()\n",
    "            impWithM = importancePd[importancePd.index==indexWithM]\n",
    "            if len(impWithM):\n",
    "                impWithM = impWithM.importance.item()\n",
    "            \n",
    "                if impWithM <= imp:\n",
    "                    #print index + \" is better        impNotM: \" + str(impWithM) + \" <= imp: \" + str(imp)\n",
    "                    featToKeep.append(index)\n",
    "                else:\n",
    "                    #print indexWithM + \" is better   impNotM: \" + str(impWithM) + \" > imp: \" + str(imp)\n",
    "                    featToKeep.append(indexWithM)\n",
    "            else:\n",
    "                featToKeep.append(index)\n",
    "                \n",
    "    print \"Features to keep (use only if all the features are here from prepareX):\"\n",
    "    print featToKeep\n",
    "    "
   ]
  },
  {
   "cell_type": "code",
   "execution_count": 56,
   "metadata": {
    "ExecuteTime": {
     "end_time": "2016-04-08T18:31:14.035624",
     "start_time": "2016-04-08T18:31:12.512645"
    },
    "collapsed": false,
    "scrolled": false
   },
   "outputs": [
    {
     "name": "stdout",
     "output_type": "stream",
     "text": [
      "         importance\n",
      "feature            \n",
      "v47        0.374801\n",
      "v79        0.190223\n",
      "v113       0.071020\n",
      "v56        0.054755\n",
      "v112       0.047562\n",
      "v52        0.045130\n",
      "v50_m      0.039070\n",
      "v110_B     0.021777\n",
      "v110_A     0.019416\n",
      "v31_A      0.011665\n",
      "Features to keep (use only if all the features are here from prepareX):\n",
      "[]\n"
     ]
    },
    {
     "data": {
      "text/plain": [
       "<matplotlib.figure.Figure at 0x7f2b170cc990>"
      ]
     },
     "metadata": {},
     "output_type": "display_data"
    },
    {
     "data": {
      "image/png": "[encoded data removed]",
      "text/plain": [
       "<matplotlib.figure.Figure at 0x7f2b16cb2a10>"
      ]
     },
     "metadata": {},
     "output_type": "display_data"
    },
    {
     "data": {
      "image/png": "[encoded data removed]",
      "text/plain": [
       "<matplotlib.figure.Figure at 0x7f2b16a2f310>"
      ]
     },
     "metadata": {},
     "output_type": "display_data"
    }
   ],
   "source": [
    "feature_analysis(clf, X_m2_train)"
   ]
  },
  {
   "cell_type": "markdown",
   "metadata": {},
   "source": [
    "# Grid search"
   ]
  },
  {
   "cell_type": "code",
   "execution_count": 57,
   "metadata": {
    "ExecuteTime": {
     "end_time": "2016-04-08T18:31:22.189491",
     "start_time": "2016-04-08T18:31:22.175746"
    },
    "collapsed": false
   },
   "outputs": [],
   "source": [
    "# Utility function to report best scores\n",
    "def report(grid_scores, n_top=3, save=False):\n",
    "    top_scores = sorted(grid_scores, key=itemgetter(1), reverse=True)[:n_top]\n",
    "    for i, score in enumerate(top_scores):\n",
    "        print(\"Model with rank: {0}\".format(i + 1))\n",
    "        print(\"Mean validation score: {0:.3f} (std: {1:.3f})\".format(\n",
    "              score.mean_validation_score,\n",
    "              np.std(score.cv_validation_scores)))\n",
    "        print(\"Parameters: {0}\".format(score.parameters))\n",
    "        print(\"\")\n",
    "        \n",
    "        if save:\n",
    "            currentDate = str(datetime.now().strftime('%Y-%m-%d %H:%M:%S'))\n",
    "            logline = str(\"{0}\".format(i + 1)) + \";\" + \"{0:.5f};{1:.5f}\".format(score.mean_validation_score,np.std(score.cv_validation_scores)) + \";\" + currentDate + \";\" + \"{0}\".format(score.parameters)\n",
    "            with open(\"gridSearch.log\", \"a\") as myfile:\n",
    "                myfile.write(logline+\"\\n\")"
   ]
  },
  {
   "cell_type": "code",
   "execution_count": 58,
   "metadata": {
    "ExecuteTime": {
     "end_time": "2016-04-08T18:31:22.649840",
     "start_time": "2016-04-08T18:31:22.639704"
    },
    "collapsed": false
   },
   "outputs": [],
   "source": [
    "# specify parameters and distributions to sample from\n",
    "modelName = \"forest__\"\n",
    "param_dist = {modelName+\"max_depth\": [None],          # Default -> None | If Nonen then nodes are expanded until min_samples_split (Ignored if max_leaf_nodes is not None.)\n",
    "              modelName+\"max_features\": sp_randint(sqrtNbrFeat-4, sqrtNbrFeat+4),#sp_randint(14, 24),      # Default -> sqrt(n_features) ~14\n",
    "              modelName+\"min_samples_split\": sp_randint(1, 5), # Default -> 2 (useless if mex_depth not None)\n",
    "              modelName+\"min_samples_leaf\": sp_randint(1, 15),  # Default -> 1\n",
    "              modelName+\"bootstrap\": [False]              # Default -> True\n",
    "              #modelName+\"criterion\": [\"gini\", \"entropy\"] # gini\n",
    "             }\n",
    "\n",
    "# run randomized search\n",
    "n_iter_search = 20\n",
    "grid_search = RandomizedSearchCV(estimator, param_distributions=param_dist,\n",
    "                                   n_iter=n_iter_search, scoring=\"log_loss\")"
   ]
  },
  {
   "cell_type": "code",
   "execution_count": null,
   "metadata": {
    "ExecuteTime": {
     "start_time": "2016-04-08T16:31:23.472Z"
    },
    "collapsed": false
   },
   "outputs": [
    {
     "name": "stdout",
     "output_type": "stream",
     "text": [
      "Index([u'v50_m', u'v56', u'v12_m', u'v114_m', u'v10_m', u'v34', u'v40',\n",
      "       u'v66_C', u'v14', u'v79', \n",
      "       ...\n",
      "       u'v130_m', u'v121_m', u'v92_m', u'v77_m', u'v24_C', u'v67_m', u'v65_m',\n",
      "       u'v33_m', u'v76', u'missing'],\n",
      "      dtype='object', length=120)\n",
      "Index([u'v50_m', u'v56', u'v12_m', u'v114_m', u'v10_m', u'v34', u'v40',\n",
      "       u'v66_C', u'v14', u'v79', \n",
      "       ...\n",
      "       u'v130_m', u'v121_m', u'v92_m', u'v77_m', u'v24_C', u'v67_m', u'v65_m',\n",
      "       u'v33_m', u'v76', u'missing'],\n",
      "      dtype='object', length=120)\n",
      "Index([u'v50_m', u'v56', u'v12_m', u'v114_m', u'v10_m', u'v34', u'v40',\n",
      "       u'v66_C', u'v14', u'v79', \n",
      "       ...\n",
      "       u'v130_m', u'v121_m', u'v92_m', u'v77_m', u'v24_C', u'v67_m', u'v65_m',\n",
      "       u'v33_m', u'v76', u'missing'],\n",
      "      dtype='object', length=120)\n",
      "Index([u'v50_m', u'v56', u'v12_m', u'v114_m', u'v10_m', u'v34', u'v40',\n",
      "       u'v66_C', u'v14', u'v79', \n",
      "       ...\n",
      "       u'v130_m', u'v121_m', u'v92_m', u'v77_m', u'v24_C', u'v67_m', u'v65_m',\n",
      "       u'v33_m', u'v76', u'missing'],\n",
      "      dtype='object', length=120)\n",
      "Index([u'v50_m', u'v56', u'v12_m', u'v114_m', u'v10_m', u'v34', u'v40',\n",
      "       u'v66_C', u'v14', u'v79', \n",
      "       ...\n",
      "       u'v130_m', u'v121_m', u'v92_m', u'v77_m', u'v24_C', u'v67_m', u'v65_m',\n",
      "       u'v33_m', u'v76', u'missing'],\n",
      "      dtype='object', length=120)\n",
      "Index([u'v50_m', u'v56', u'v12_m', u'v114_m', u'v10_m', u'v34', u'v40',\n",
      "       u'v66_C', u'v14', u'v79', \n",
      "       ...\n",
      "       u'v130_m', u'v121_m', u'v92_m', u'v77_m', u'v24_C', u'v67_m', u'v65_m',\n",
      "       u'v33_m', u'v76', u'missing'],\n",
      "      dtype='object', length=120)\n",
      "Index([u'v50_m', u'v56', u'v12_m', u'v114_m', u'v10_m', u'v34', u'v40',\n",
      "       u'v66_C', u'v14', u'v79', \n",
      "       ...\n",
      "       u'v130_m', u'v121_m', u'v92_m', u'v77_m', u'v24_C', u'v67_m', u'v65_m',\n",
      "       u'v33_m', u'v76', u'missing'],\n",
      "      dtype='object', length=120)\n",
      "Index([u'v50_m', u'v56', u'v12_m', u'v114_m', u'v10_m', u'v34', u'v40',\n",
      "       u'v66_C', u'v14', u'v79', \n",
      "       ...\n",
      "       u'v130_m', u'v121_m', u'v92_m', u'v77_m', u'v24_C', u'v67_m', u'v65_m',\n",
      "       u'v33_m', u'v76', u'missing'],\n",
      "      dtype='object', length=120)\n",
      "Index([u'v50_m', u'v56', u'v12_m', u'v114_m', u'v10_m', u'v34', u'v40',\n",
      "       u'v66_C', u'v14', u'v79', \n",
      "       ...\n",
      "       u'v130_m', u'v121_m', u'v92_m', u'v77_m', u'v24_C', u'v67_m', u'v65_m',\n",
      "       u'v33_m', u'v76', u'missing'],\n",
      "      dtype='object', length=120)\n",
      "Index([u'v50_m', u'v56', u'v12_m', u'v114_m', u'v10_m', u'v34', u'v40',\n",
      "       u'v66_C', u'v14', u'v79', \n",
      "       ...\n",
      "       u'v130_m', u'v121_m', u'v92_m', u'v77_m', u'v24_C', u'v67_m', u'v65_m',\n",
      "       u'v33_m', u'v76', u'missing'],\n",
      "      dtype='object', length=120)\n",
      "Index([u'v50_m', u'v56', u'v12_m', u'v114_m', u'v10_m', u'v34', u'v40',\n",
      "       u'v66_C', u'v14', u'v79', \n",
      "       ...\n",
      "       u'v130_m', u'v121_m', u'v92_m', u'v77_m', u'v24_C', u'v67_m', u'v65_m',\n",
      "       u'v33_m', u'v76', u'missing'],\n",
      "      dtype='object', length=120)\n",
      "Index([u'v50_m', u'v56', u'v12_m', u'v114_m', u'v10_m', u'v34', u'v40',\n",
      "       u'v66_C', u'v14', u'v79', \n",
      "       ...\n",
      "       u'v130_m', u'v121_m', u'v92_m', u'v77_m', u'v24_C', u'v67_m', u'v65_m',\n",
      "       u'v33_m', u'v76', u'missing'],\n",
      "      dtype='object', length=120)\n",
      "Index([u'v50_m', u'v56', u'v12_m', u'v114_m', u'v10_m', u'v34', u'v40',\n",
      "       u'v66_C', u'v14', u'v79', \n",
      "       ...\n",
      "       u'v130_m', u'v121_m', u'v92_m', u'v77_m', u'v24_C', u'v67_m', u'v65_m',\n",
      "       u'v33_m', u'v76', u'missing'],\n",
      "      dtype='object', length=120)\n",
      "Index([u'v50_m', u'v56', u'v12_m', u'v114_m', u'v10_m', u'v34', u'v40',\n",
      "       u'v66_C', u'v14', u'v79', \n",
      "       ...\n",
      "       u'v130_m', u'v121_m', u'v92_m', u'v77_m', u'v24_C', u'v67_m', u'v65_m',\n",
      "       u'v33_m', u'v76', u'missing'],\n",
      "      dtype='object', length=120)"
     ]
    }
   ],
   "source": [
    "start = time()\n",
    "grid_search.fit(X_m2_train, y_m2_train)\n",
    "print(\"RandomizedSearchCV took %.2f seconds for %d candidates\"\n",
    "      \" parameter settings.\" % ((time() - start), n_iter_search))\n",
    "report(grid_search.grid_scores_)\n",
    "finish()"
   ]
  },
  {
   "cell_type": "code",
   "execution_count": null,
   "metadata": {
    "ExecuteTime": {
     "start_time": "2016-04-08T16:31:24.862Z"
    },
    "collapsed": false
   },
   "outputs": [],
   "source": [
    "report(grid_search.grid_scores_, 20, True)"
   ]
  },
  {
   "cell_type": "markdown",
   "metadata": {
    "ExecuteTime": {
     "end_time": "2016-04-05T01:24:01.216549",
     "start_time": "2016-04-05T01:24:01.214515"
    }
   },
   "source": [
    "### Scoring and Importance"
   ]
  },
  {
   "cell_type": "code",
   "execution_count": null,
   "metadata": {
    "ExecuteTime": {
     "start_time": "2016-04-08T16:31:25.918Z"
    },
    "collapsed": false
   },
   "outputs": [],
   "source": [
    "evaluate(grid_search.best_estimator_, X_m2_test, y_test, \"Testing\", \"GridSearchBest\")"
   ]
  },
  {
   "cell_type": "code",
   "execution_count": null,
   "metadata": {
    "ExecuteTime": {
     "start_time": "2016-04-08T16:31:26.870Z"
    },
    "collapsed": false,
    "scrolled": true
   },
   "outputs": [],
   "source": [
    "feature_analysis(grid_search.best_estimator_.steps[2][1], X_m2_train)"
   ]
  },
  {
   "cell_type": "markdown",
   "metadata": {},
   "source": [
    "# Save"
   ]
  },
  {
   "cell_type": "code",
   "execution_count": null,
   "metadata": {
    "ExecuteTime": {
     "start_time": "2016-04-08T16:31:27.831Z"
    },
    "collapsed": true
   },
   "outputs": [],
   "source": [
    "modelToSave = estimator\n",
    "modelToSave = grid_search.best_estimator_"
   ]
  },
  {
   "cell_type": "code",
   "execution_count": null,
   "metadata": {
    "ExecuteTime": {
     "start_time": "2016-04-08T16:31:28.182Z"
    },
    "collapsed": false
   },
   "outputs": [],
   "source": [
    "X_kaggleTest = prepareX(kaggleTest, False)\n",
    "print \"Nbr columns kaggleTest: \" + str(len(kaggleTest.columns))\n",
    "print \"Nbr columns kaggleTest prepared: \" + str(len(X_kaggleTest.columns))"
   ]
  },
  {
   "cell_type": "code",
   "execution_count": null,
   "metadata": {
    "ExecuteTime": {
     "start_time": "2016-04-08T16:31:28.421Z"
    },
    "collapsed": false,
    "scrolled": true
   },
   "outputs": [],
   "source": [
    "some_value = 'QFA'\n",
    "for col, typ in X_m2_test.dtypes.iteritems():\n",
    "    if typ == object:\n",
    "        df = X_kaggleTest.loc[X_kaggleTest[col] == some_value]\n",
    "        with pd.option_context('display.max_rows', 10, 'display.max_columns', 200):\n",
    "            print df"
   ]
  },
  {
   "cell_type": "code",
   "execution_count": null,
   "metadata": {
    "ExecuteTime": {
     "start_time": "2016-04-08T16:31:28.741Z"
    },
    "collapsed": false,
    "scrolled": true
   },
   "outputs": [],
   "source": [
    "X_m1_kaggleTest = model1All.transform(X_kaggleTest)"
   ]
  },
  {
   "cell_type": "code",
   "execution_count": null,
   "metadata": {
    "ExecuteTime": {
     "start_time": "2016-04-08T16:31:29.158Z"
    },
    "collapsed": false,
    "scrolled": true
   },
   "outputs": [],
   "source": [
    "set(X_m2_test.columns) - set(X_m1_kaggleTest.columns)"
   ]
  },
  {
   "cell_type": "code",
   "execution_count": null,
   "metadata": {
    "ExecuteTime": {
     "start_time": "2016-04-08T16:31:29.654Z"
    },
    "collapsed": false
   },
   "outputs": [],
   "source": [
    "predic = modelToSave.predict_proba(X_m1_kaggleTest)[:,1] # extract 2nd column for X=1"
   ]
  },
  {
   "cell_type": "code",
   "execution_count": null,
   "metadata": {
    "ExecuteTime": {
     "start_time": "2016-04-08T16:31:30.222Z"
    },
    "collapsed": false
   },
   "outputs": [],
   "source": [
    "predicPd = pd.DataFrame(predic)\n",
    "predicPd = predicPd.rename(columns={0: 'PredictedProb'})\n",
    "predicPd['ID'] = kaggleTest[['ID']]\n",
    "predicPd = predicPd[['ID', 'PredictedProb']]"
   ]
  },
  {
   "cell_type": "code",
   "execution_count": null,
   "metadata": {
    "ExecuteTime": {
     "start_time": "2016-04-08T16:31:31.512Z"
    },
    "collapsed": false
   },
   "outputs": [],
   "source": [
    "predicPd.to_csv(\"results/pythonpure/results.csv\", index = False)"
   ]
  },
  {
   "cell_type": "code",
   "execution_count": null,
   "metadata": {
    "collapsed": true
   },
   "outputs": [],
   "source": []
  }
 ],
 "metadata": {
  "kernelspec": {
   "display_name": "Python 2",
   "language": "python",
   "name": "python2"
  },
  "language_info": {
   "codemirror_mode": {
    "name": "ipython",
    "version": 2
   },
   "file_extension": ".py",
   "mimetype": "text/x-python",
   "name": "python",
   "nbconvert_exporter": "python",
   "pygments_lexer": "ipython2",
   "version": "2.7.11"
  }
 },
 "nbformat": 4,
 "nbformat_minor": 0
}
