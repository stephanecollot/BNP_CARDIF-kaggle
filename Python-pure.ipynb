{
 "cells": [
  {
   "cell_type": "code",
   "execution_count": 182,
   "metadata": {
    "ExecuteTime": {
     "end_time": "2016-03-18T22:37:39.131014",
     "start_time": "2016-03-18T22:37:39.125207"
    },
    "collapsed": true
   },
   "outputs": [],
   "source": [
    "from math import log\n",
    "from datetime import datetime\n",
    "from sklearn.cross_validation import train_test_split, cross_val_score\n",
    "from sklearn.grid_search import GridSearchCV, RandomizedSearchCV\n",
    "from sklearn.ensemble import RandomForestClassifier\n",
    "from sklearn.metrics import log_loss\n",
    "from sklearn.pipeline import Pipeline\n",
    "from sklearn.preprocessing import Imputer\n",
    "\n",
    "import numpy as np\n",
    "import pandas as pd\n",
    "import os"
   ]
  },
  {
   "cell_type": "markdown",
   "metadata": {},
   "source": [
    "# Load"
   ]
  },
  {
   "cell_type": "code",
   "execution_count": 13,
   "metadata": {
    "ExecuteTime": {
     "end_time": "2016-03-18T21:20:30.430302",
     "start_time": "2016-03-18T21:20:26.252429"
    },
    "collapsed": true
   },
   "outputs": [],
   "source": [
    "kaggleTrain = pd.read_csv(\"kaggle/train.csv\", header = 0)\n",
    "kaggleTest = pd.read_csv(\"kaggle/test.csv\", header = 0)"
   ]
  },
  {
   "cell_type": "code",
   "execution_count": 14,
   "metadata": {
    "ExecuteTime": {
     "end_time": "2016-03-18T21:20:30.434290",
     "start_time": "2016-03-18T21:20:30.431427"
    },
    "collapsed": false
   },
   "outputs": [
    {
     "name": "stdout",
     "output_type": "stream",
     "text": [
      "Kaggle Train count: 114321\n",
      "Kaggle Test count:  114393\n"
     ]
    }
   ],
   "source": [
    "print \"Kaggle Train count: \" + str(len(kaggleTrain))\n",
    "print \"Kaggle Test count:  \" + str(len(kaggleTest))"
   ]
  },
  {
   "cell_type": "markdown",
   "metadata": {},
   "source": [
    "## Columns listing"
   ]
  },
  {
   "cell_type": "code",
   "execution_count": 70,
   "metadata": {
    "ExecuteTime": {
     "end_time": "2016-03-18T21:51:56.595861",
     "start_time": "2016-03-18T21:51:56.583845"
    },
    "collapsed": false
   },
   "outputs": [
    {
     "name": "stdout",
     "output_type": "stream",
     "text": [
      "We have the ID columns, type: int64\n",
      "We have the target columns, type: int64\n",
      "\n",
      "object 19\n",
      "int64 4\n",
      "float64 108\n"
     ]
    }
   ],
   "source": [
    "#print train.schema.fields\n",
    "columnsDict = {}\n",
    "for col in kaggleTrain.columns:\n",
    "    typeKey = str(kaggleTrain[col].dtype)\n",
    "    colName = col\n",
    "    \n",
    "    if colName == 'ID':\n",
    "        print \"We have the ID columns, type: \" + typeKey\n",
    "        continue\n",
    "    if colName == 'target':\n",
    "        print \"We have the target columns, type: \" + typeKey\n",
    "        continue\n",
    "    \n",
    "    if typeKey not in columnsDict:\n",
    "        columnsDict[typeKey] = [colName]\n",
    "    else:\n",
    "        columnsDict[typeKey].append(colName)\n",
    "\n",
    "print \"\"\n",
    "for ct, cl in columnsDict.iteritems():\n",
    "    print ct + \" \" + str(len(cl))"
   ]
  },
  {
   "cell_type": "markdown",
   "metadata": {},
   "source": [
    "# Split"
   ]
  },
  {
   "cell_type": "code",
   "execution_count": 20,
   "metadata": {
    "ExecuteTime": {
     "end_time": "2016-03-18T21:21:23.183094",
     "start_time": "2016-03-18T21:21:22.954893"
    },
    "collapsed": true
   },
   "outputs": [],
   "source": [
    "train, test = train_test_split(kaggleTrain, test_size = 0.2)"
   ]
  },
  {
   "cell_type": "markdown",
   "metadata": {},
   "source": [
    "# Prepare X and y"
   ]
  },
  {
   "cell_type": "code",
   "execution_count": 81,
   "metadata": {
    "ExecuteTime": {
     "end_time": "2016-03-18T21:55:58.685869",
     "start_time": "2016-03-18T21:55:58.681527"
    },
    "collapsed": true
   },
   "outputs": [],
   "source": [
    "def prepareX(df):\n",
    "    dfX = df[columnsDict['float64'] + columnsDict['int64']]\n",
    "    dfX = dfX.fillna(0)\n",
    "    \n",
    "    return dfX"
   ]
  },
  {
   "cell_type": "code",
   "execution_count": 82,
   "metadata": {
    "ExecuteTime": {
     "end_time": "2016-03-18T21:55:58.841265",
     "start_time": "2016-03-18T21:55:58.838580"
    },
    "collapsed": true
   },
   "outputs": [],
   "source": [
    "def prepareY(df):   \n",
    "    return df[[\"target\"]].values.ravel()"
   ]
  },
  {
   "cell_type": "code",
   "execution_count": 145,
   "metadata": {
    "ExecuteTime": {
     "end_time": "2016-03-18T22:16:26.152808",
     "start_time": "2016-03-18T22:16:26.009586"
    },
    "collapsed": false
   },
   "outputs": [],
   "source": [
    "X_train = prepareX(train)\n",
    "y_train = prepareY(train)"
   ]
  },
  {
   "cell_type": "code",
   "execution_count": 146,
   "metadata": {
    "ExecuteTime": {
     "end_time": "2016-03-18T22:16:26.320077",
     "start_time": "2016-03-18T22:16:26.289412"
    },
    "collapsed": true
   },
   "outputs": [],
   "source": [
    "X_test = prepareX(test)\n",
    "y_test = prepareY(test)"
   ]
  },
  {
   "cell_type": "markdown",
   "metadata": {},
   "source": [
    "# Model"
   ]
  },
  {
   "cell_type": "code",
   "execution_count": 144,
   "metadata": {
    "ExecuteTime": {
     "end_time": "2016-03-18T22:16:25.161844",
     "start_time": "2016-03-18T22:16:25.158859"
    },
    "collapsed": true
   },
   "outputs": [],
   "source": [
    "#.setNumTrees(150).setMaxDepth(6)\n",
    "clf = RandomForestClassifier(n_estimators=150, n_jobs=4, max_depth=7)"
   ]
  },
  {
   "cell_type": "markdown",
   "metadata": {},
   "source": [
    "# Pipeline"
   ]
  },
  {
   "cell_type": "code",
   "execution_count": 190,
   "metadata": {
    "ExecuteTime": {
     "end_time": "2016-03-18T22:41:10.452788",
     "start_time": "2016-03-18T22:41:10.449782"
    },
    "collapsed": false
   },
   "outputs": [],
   "source": [
    "imputer = Imputer(missing_values=0,\n",
    "                  strategy=\"mean\",\n",
    "                  axis=0)"
   ]
  },
  {
   "cell_type": "code",
   "execution_count": 196,
   "metadata": {
    "ExecuteTime": {
     "end_time": "2016-03-18T22:47:01.844476",
     "start_time": "2016-03-18T22:46:05.237138"
    },
    "collapsed": false
   },
   "outputs": [
    {
     "name": "stdout",
     "output_type": "stream",
     "text": [
      "Score after imputation of the missing values = 0.76\n"
     ]
    }
   ],
   "source": [
    "estimator = Pipeline([(\"imputer\", imputer),\n",
    "                      (\"forest\", clf)\n",
    "                     ])"
   ]
  },
  {
   "cell_type": "code",
   "execution_count": 197,
   "metadata": {
    "ExecuteTime": {
     "end_time": "2016-03-18T22:47:30.375614",
     "start_time": "2016-03-18T22:47:01.845941"
    },
    "collapsed": false
   },
   "outputs": [
    {
     "data": {
      "text/plain": [
       "Pipeline(steps=[('imputer', Imputer(axis=0, copy=True, missing_values=0, strategy='mean', verbose=0)), ('forest', RandomForestClassifier(bootstrap=True, class_weight=None, criterion='gini',\n",
       "            max_depth=7, max_features='auto', max_leaf_nodes=None,\n",
       "            min_samples_leaf=1, min_samples_split=2,\n",
       "            min_weight_fraction_leaf=0.0, n_estimators=150, n_jobs=4,\n",
       "            oob_score=False, random_state=None, verbose=0,\n",
       "            warm_start=False))])"
      ]
     },
     "execution_count": 197,
     "metadata": {},
     "output_type": "execute_result"
    }
   ],
   "source": [
    "estimator.fit(X_train, y_train)"
   ]
  },
  {
   "cell_type": "code",
   "execution_count": 198,
   "metadata": {
    "ExecuteTime": {
     "end_time": "2016-03-18T22:47:31.057038",
     "start_time": "2016-03-18T22:47:30.377624"
    },
    "collapsed": false
   },
   "outputs": [
    {
     "name": "stdout",
     "output_type": "stream",
     "text": [
      "Testing score: withImputer\n",
      "0.762344194183\n",
      "0.509219017912\n"
     ]
    }
   ],
   "source": [
    "evaluate(estimator, X_test, y_test, \"Testing\", \"withImputer\")"
   ]
  },
  {
   "cell_type": "markdown",
   "metadata": {},
   "source": [
    "# Train"
   ]
  },
  {
   "cell_type": "code",
   "execution_count": 147,
   "metadata": {
    "ExecuteTime": {
     "end_time": "2016-03-18T22:16:57.954751",
     "start_time": "2016-03-18T22:16:26.564592"
    },
    "collapsed": false
   },
   "outputs": [
    {
     "data": {
      "text/plain": [
       "RandomForestClassifier(bootstrap=True, class_weight=None, criterion='gini',\n",
       "            max_depth=7, max_features='auto', max_leaf_nodes=None,\n",
       "            min_samples_leaf=1, min_samples_split=2,\n",
       "            min_weight_fraction_leaf=0.0, n_estimators=150, n_jobs=4,\n",
       "            oob_score=False, random_state=None, verbose=0,\n",
       "            warm_start=False)"
      ]
     },
     "execution_count": 147,
     "metadata": {},
     "output_type": "execute_result"
    }
   ],
   "source": [
    "clf.fit(X_train, y_train)"
   ]
  },
  {
   "cell_type": "markdown",
   "metadata": {},
   "source": [
    "# Score"
   ]
  },
  {
   "cell_type": "code",
   "execution_count": 186,
   "metadata": {
    "ExecuteTime": {
     "end_time": "2016-03-18T22:40:52.402287",
     "start_time": "2016-03-18T22:40:52.393118"
    },
    "collapsed": false
   },
   "outputs": [],
   "source": [
    "def evaluate(model, X, y, string, more = \"\"):\n",
    "    title = string + \" score: \" + more\n",
    "    score = model.score(X, y)\n",
    "    scoreLogloss = log_loss(y, model.predict_proba(X))\n",
    "    \n",
    "    currentDate = str(datetime.now())\n",
    "    modelExplaination = clf.get_params()\n",
    "    \n",
    "    logline = str(score) + \";\" + str(scoreLogloss) + \";\" + currentDate + \";\" + str(modelExplaination) + \";\" + more\n",
    "    \n",
    "    with open(\"evaluate\"+string+\".log\", \"a\") as myfile:\n",
    "        myfile.write(logline+\"\\n\")\n",
    "    \n",
    "    print title\n",
    "    print score\n",
    "    print scoreLogloss"
   ]
  },
  {
   "cell_type": "code",
   "execution_count": 177,
   "metadata": {
    "ExecuteTime": {
     "end_time": "2016-03-18T22:34:06.720078",
     "start_time": "2016-03-18T22:34:04.912953"
    },
    "collapsed": false
   },
   "outputs": [
    {
     "name": "stdout",
     "output_type": "stream",
     "text": [
      "Training score:\n",
      "0.760945153954\n",
      "0.500384255454\n"
     ]
    }
   ],
   "source": [
    "evaluate(clf, X_train, y_train, \"Training\")"
   ]
  },
  {
   "cell_type": "code",
   "execution_count": 178,
   "metadata": {
    "ExecuteTime": {
     "end_time": "2016-03-18T22:34:07.290798",
     "start_time": "2016-03-18T22:34:06.721222"
    },
    "collapsed": false
   },
   "outputs": [
    {
     "name": "stdout",
     "output_type": "stream",
     "text": [
      "Testing score:\n",
      "0.762344194183\n",
      "0.505796392234\n"
     ]
    }
   ],
   "source": [
    "evaluate(clf, X_test, y_test, \"Testing\")"
   ]
  },
  {
   "cell_type": "markdown",
   "metadata": {},
   "source": [
    "# Save"
   ]
  },
  {
   "cell_type": "code",
   "execution_count": 229,
   "metadata": {
    "ExecuteTime": {
     "end_time": "2016-03-18T23:06:16.344163",
     "start_time": "2016-03-18T23:06:16.173135"
    },
    "collapsed": true
   },
   "outputs": [],
   "source": [
    "X_kaggleTest = prepareX(kaggleTest)"
   ]
  },
  {
   "cell_type": "code",
   "execution_count": 230,
   "metadata": {
    "ExecuteTime": {
     "end_time": "2016-03-18T23:06:17.747916",
     "start_time": "2016-03-18T23:06:16.576901"
    },
    "collapsed": false
   },
   "outputs": [],
   "source": [
    "predic = clf.predict_proba(X_kaggleTest)[:,1] # extract 2nd column for X=1"
   ]
  },
  {
   "cell_type": "code",
   "execution_count": 235,
   "metadata": {
    "ExecuteTime": {
     "end_time": "2016-03-18T23:10:20.788706",
     "start_time": "2016-03-18T23:10:20.778690"
    },
    "collapsed": false
   },
   "outputs": [],
   "source": [
    "predicPd = pd.DataFrame(predic)\n",
    "predicPd = predicPd.rename(columns={0: 'PredictedProb'})\n",
    "predicPd['ID'] = kaggleTest[['ID']]\n",
    "predicPd = predicPd[['ID', 'PredictedProb']]"
   ]
  },
  {
   "cell_type": "code",
   "execution_count": 236,
   "metadata": {
    "ExecuteTime": {
     "end_time": "2016-03-18T23:10:22.222068",
     "start_time": "2016-03-18T23:10:22.080908"
    },
    "collapsed": false
   },
   "outputs": [],
   "source": [
    "predicPd.to_csv(\"results/pythonpure/results.csv\", index = False)"
   ]
  },
  {
   "cell_type": "code",
   "execution_count": null,
   "metadata": {
    "collapsed": true
   },
   "outputs": [],
   "source": []
  }
 ],
 "metadata": {
  "kernelspec": {
   "display_name": "Python 2",
   "language": "python",
   "name": "python2"
  },
  "language_info": {
   "codemirror_mode": {
    "name": "ipython",
    "version": 2
   },
   "file_extension": ".py",
   "mimetype": "text/x-python",
   "name": "python",
   "nbconvert_exporter": "python",
   "pygments_lexer": "ipython2",
   "version": "2.7.11"
  }
 },
 "nbformat": 4,
 "nbformat_minor": 0
}
