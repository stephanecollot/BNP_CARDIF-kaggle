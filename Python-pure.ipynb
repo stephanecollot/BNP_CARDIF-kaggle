{
 "cells": [
  {
   "cell_type": "code",
   "execution_count": 1,
   "metadata": {
    "ExecuteTime": {
     "end_time": "2016-03-19T11:37:55.371466",
     "start_time": "2016-03-19T11:37:54.921134"
    },
    "collapsed": false
   },
   "outputs": [
    {
     "name": "stdout",
     "output_type": "stream",
     "text": [
      "Populating the interactive namespace from numpy and matplotlib\n"
     ]
    }
   ],
   "source": [
    "%pylab inline\n",
    "pylab.rcParams['figure.figsize'] = (10, 6)\n",
    "\n",
    "# %matplotlib inline\n",
    "\n",
    "from time import time\n",
    "from operator import itemgetter\n",
    "from datetime import datetime\n",
    "from sklearn.cross_validation import train_test_split, cross_val_score\n",
    "from sklearn.grid_search import GridSearchCV, RandomizedSearchCV\n",
    "from scipy.stats import randint as sp_randint\n",
    "from sklearn.ensemble import RandomForestClassifier, ExtraTreesClassifier\n",
    "from sklearn.metrics import log_loss\n",
    "from sklearn.pipeline import Pipeline\n",
    "from sklearn.preprocessing import Imputer, LabelEncoder\n",
    "\n",
    "import matplotlib.pyplot as plt\n",
    "import numpy as np\n",
    "import pandas as pd\n",
    "import os"
   ]
  },
  {
   "cell_type": "markdown",
   "metadata": {},
   "source": [
    "# Functions"
   ]
  },
  {
   "cell_type": "code",
   "execution_count": 67,
   "metadata": {
    "ExecuteTime": {
     "end_time": "2016-03-19T13:15:57.427471",
     "start_time": "2016-03-19T13:15:57.424211"
    },
    "collapsed": true
   },
   "outputs": [],
   "source": [
    "def finish():\n",
    "    os.system(\"paplay /usr/share/sounds/gnome/default/alerts/drip.ogg\")\n",
    "    os.system(\"paplay /usr/share/sounds/gnome/default/alerts/glass.ogg\")"
   ]
  },
  {
   "cell_type": "code",
   "execution_count": 170,
   "metadata": {
    "ExecuteTime": {
     "end_time": "2016-03-19T19:42:56.025760",
     "start_time": "2016-03-19T19:42:56.006446"
    },
    "collapsed": false
   },
   "outputs": [],
   "source": [
    "bestLogloss = 0.503616393572\n",
    "def evaluate(model, X, y, string, more = \"\"):\n",
    "    title = string + \" score: \" + more\n",
    "    score = model.score(X, y)\n",
    "    scoreLogloss = log_loss(y, model.predict_proba(X))\n",
    "    \n",
    "    currentDate = str(datetime.now().strftime('%Y-%m-%d %H:%M:%S'))\n",
    "    \n",
    "    if model.get_params().has_key('forest'):\n",
    "        modelExplaination = model.get_params()['forest'].__class__.__name__ + str(model.get_params()['forest'].get_params())\n",
    "    else:\n",
    "        modelExplaination = model.__class__.__name__  + str(model.get_params())\n",
    "    \n",
    "    logline = str(score) + \";\" + str(scoreLogloss) + \";\" + currentDate + \";\" + str(modelExplaination) + \";\" + more\n",
    "    \n",
    "    with open(\"evaluate\"+string+\".log\", \"a\") as myfile:\n",
    "        myfile.write(logline+\"\\n\")\n",
    "    \n",
    "    print title\n",
    "    print score\n",
    "    print str(scoreLogloss)  + \" compare to best score: \" + str(scoreLogloss-bestLogloss) "
   ]
  },
  {
   "cell_type": "markdown",
   "metadata": {},
   "source": [
    "# Load"
   ]
  },
  {
   "cell_type": "code",
   "execution_count": 2,
   "metadata": {
    "ExecuteTime": {
     "end_time": "2016-03-19T11:37:59.494422",
     "start_time": "2016-03-19T11:37:55.373533"
    },
    "collapsed": true
   },
   "outputs": [],
   "source": [
    "kaggleTrain = pd.read_csv(\"kaggle/train.csv\", header = 0)\n",
    "kaggleTest = pd.read_csv(\"kaggle/test.csv\", header = 0)"
   ]
  },
  {
   "cell_type": "code",
   "execution_count": 3,
   "metadata": {
    "ExecuteTime": {
     "end_time": "2016-03-19T11:37:59.499614",
     "start_time": "2016-03-19T11:37:59.495680"
    },
    "collapsed": false
   },
   "outputs": [
    {
     "name": "stdout",
     "output_type": "stream",
     "text": [
      "Kaggle Train count: 114321\n",
      "Kaggle Test count:  114393\n"
     ]
    }
   ],
   "source": [
    "print \"Kaggle Train count: \" + str(len(kaggleTrain))\n",
    "print \"Kaggle Test count:  \" + str(len(kaggleTest))"
   ]
  },
  {
   "cell_type": "markdown",
   "metadata": {},
   "source": [
    "## Columns listing"
   ]
  },
  {
   "cell_type": "code",
   "execution_count": 73,
   "metadata": {
    "ExecuteTime": {
     "end_time": "2016-03-19T13:22:54.980552",
     "start_time": "2016-03-19T13:22:54.968090"
    },
    "collapsed": false
   },
   "outputs": [
    {
     "name": "stdout",
     "output_type": "stream",
     "text": [
      "We have the ID columns, type: int64\n",
      "We have the target columns, type: int64\n",
      "\n",
      "object 19\n",
      "int64 4\n",
      "float64 108\n"
     ]
    }
   ],
   "source": [
    "#print train.schema.fields\n",
    "columnsDict = {}\n",
    "for col in kaggleTrain.columns:\n",
    "    typeKey = str(kaggleTrain[col].dtype)\n",
    "    colName = col\n",
    "    \n",
    "    if colName == 'ID':\n",
    "        print \"We have the ID columns, type: \" + typeKey\n",
    "        continue\n",
    "    if colName == 'target':\n",
    "        print \"We have the target columns, type: \" + typeKey\n",
    "        continue\n",
    "    \n",
    "    if typeKey not in columnsDict:\n",
    "        columnsDict[typeKey] = [colName]\n",
    "    else:\n",
    "        columnsDict[typeKey].append(colName)\n",
    "\n",
    "print \"\"\n",
    "for ct, cl in columnsDict.iteritems():\n",
    "    print ct + \" \" + str(len(cl))"
   ]
  },
  {
   "cell_type": "markdown",
   "metadata": {},
   "source": [
    "# Split"
   ]
  },
  {
   "cell_type": "code",
   "execution_count": 74,
   "metadata": {
    "ExecuteTime": {
     "end_time": "2016-03-19T13:22:56.172016",
     "start_time": "2016-03-19T13:22:55.959162"
    },
    "collapsed": true
   },
   "outputs": [],
   "source": [
    "train, test = train_test_split(kaggleTrain, test_size = 0.2)"
   ]
  },
  {
   "cell_type": "code",
   "execution_count": 172,
   "metadata": {
    "ExecuteTime": {
     "end_time": "2016-03-19T22:45:59.597830",
     "start_time": "2016-03-19T22:45:59.479278"
    },
    "collapsed": false
   },
   "outputs": [
    {
     "data": {
      "text/plain": [
       "v3          3\n",
       "v22     16641\n",
       "v24         5\n",
       "v30         7\n",
       "v31         3\n",
       "v47        10\n",
       "v52        12\n",
       "v56       118\n",
       "v66         3\n",
       "v71         8\n",
       "v74         3\n",
       "v75         4\n",
       "v79        17\n",
       "v91         7\n",
       "v107        7\n",
       "v110        3\n",
       "v112       22\n",
       "v113       36\n",
       "v125       90\n",
       "dtype: int64"
      ]
     },
     "execution_count": 172,
     "metadata": {},
     "output_type": "execute_result"
    }
   ],
   "source": [
    "train[columnsDict['object']].apply(pd.Series.nunique)"
   ]
  },
  {
   "cell_type": "code",
   "execution_count": 207,
   "metadata": {
    "ExecuteTime": {
     "end_time": "2016-03-19T23:32:21.271949",
     "start_time": "2016-03-19T23:32:21.255671"
    },
    "collapsed": false
   },
   "outputs": [
    {
     "name": "stdout",
     "output_type": "stream",
     "text": [
      "lol\n"
     ]
    },
    {
     "data": {
      "text/plain": [
       "{nan: -1, 'A': 3, 'B': 6, 'C': 1, 'D': 2, 'E': 5, 'F': 4, 'G': 0}"
      ]
     },
     "execution_count": 207,
     "metadata": {},
     "output_type": "execute_result"
    }
   ],
   "source": [
    "uniqueValues = train['v30'].unique()\n",
    "dictValues = dict()\n",
    "for v in uniqueValues:\n",
    "    if v is nan:\n",
    "        print \"lol\"\n",
    "        continue\n",
    "    if not v in dictValues:\n",
    "        dictValues[v] = len(dictValues)\n",
    "dictValues[nan] = -1\n",
    "        \n",
    "dictValues\n",
    "        "
   ]
  },
  {
   "cell_type": "markdown",
   "metadata": {},
   "source": [
    "# Prepare X and y"
   ]
  },
  {
   "cell_type": "code",
   "execution_count": 75,
   "metadata": {
    "ExecuteTime": {
     "end_time": "2016-03-19T13:22:56.858616",
     "start_time": "2016-03-19T13:22:56.855347"
    },
    "collapsed": false
   },
   "outputs": [
    {
     "name": "stdout",
     "output_type": "stream",
     "text": [
      "112\n"
     ]
    }
   ],
   "source": [
    "print len(columnsDict['float64']) +  len(columnsDict['int64'])"
   ]
  },
  {
   "cell_type": "code",
   "execution_count": 500,
   "metadata": {
    "ExecuteTime": {
     "end_time": "2016-03-20T16:06:18.242143",
     "start_time": "2016-03-20T16:06:18.007995"
    },
    "collapsed": false
   },
   "outputs": [],
   "source": [
    "catEncoders = dict()\n",
    "# Create the mapping from categorie to int\n",
    "for col in columnsDict['object']:\n",
    "    # Create dictionnary\n",
    "    uniqueValues = kaggleTrain[col].unique()\n",
    "    dictValues = dict()\n",
    "    for v in uniqueValues:\n",
    "        if v is nan:\n",
    "            continue\n",
    "        if not v in dictValues:\n",
    "            dictValues[v] = len(dictValues)\n",
    "    dictValues[nan] = -1\n",
    "    \n",
    "    # If value is in the training but not in the testing, then map to missing -1\n",
    "    uniqueValuesTesting = kaggleTest[col].unique()\n",
    "    for v in set(uniqueValuesTesting) - set(uniqueValues):\n",
    "        dictValues[v] = -1\n",
    "\n",
    "    catEncoders[col] = dictValues\n",
    "    \n",
    "\n",
    "def prepareX(df, isTrainning):\n",
    "    colsToAdd = columnsDict['float64'] + columnsDict['int64']\n",
    "    \n",
    "    dfX = df[colsToAdd]\n",
    "    dfX = dfX.fillna(-1) # -1 is a good missing value encoder because everything is >= 0\n",
    "    \n",
    "    for col in colsToAdd:\n",
    "        dfX[col+\"_m\"] = df[col]\n",
    "        \n",
    "    # Add categorical features, and replace categories with int\n",
    "    dfX[columnsDict['object']] = df[columnsDict['object']]\n",
    "    dfX = dfX.replace(catEncoders)\n",
    "    \n",
    "    # Feature selection\n",
    "    if True:\n",
    "        featToKeep = ['v50', 'v66', 'v113', 'v47', 'v110', 'v10', 'v31', 'v129', 'v12', 'v79', 'v56', 'v14', 'v62', 'v114_m', 'v34_m', 'v40_m', 'v21_m', 'v24', 'v38_m', 'v22', 'v125', 'v72_m', 'v123_m', 'v88_m', 'v28_m', 'v82_m', 'v58_m', 'v100_m', 'v68_m', 'v131', 'v1_m', 'v124_m', 'v45_m', 'v46', 'v37_m', 'v119_m', 'v89_m', 'v98_m', 'v36', 'v85_m', 'v120_m', 'v5_m', 'v16', 'v54_m', 'v35', 'v63_m', 'v6_m', 'v78_m', 'v99_m', 'v126_m', 'v112', 'v97_m', 'v94', 'v122_m', 'v57_m', 'v117_m', 'v2_m', 'v86_m', 'v51_m', 'v84_m', 'v11_m', 'v4_m', 'v130_m', 'v42', 'v18_m', 'v53_m', 'v115_m', 'v118', 'v101_m', 'v9_m', 'v61_m', 'v103_m', 'v127_m', 'v87_m', 'v8_m', 'v7_m', 'v32_m', 'v90_m', 'v81_m', 'v59_m', 'v27_m', 'v128_m', 'v20_m', 'v26_m', 'v105_m', 'v108_m', 'v30', 'v73_m', 'v13_m', 'v102_m', 'v25_m', 'v52', 'v121_m', 'v93_m', 'v41', 'v69_m', 'v95_m', 'v104_m', 'v116_m', 'v80_m', 'v111_m', 'v15_m', 'v43_m', 'v70_m', 'v55_m', 'v106_m', 'v60_m', 'v39_m', 'v19_m', 'v33_m', 'v83_m', 'v76_m', 'v44_m', 'v77_m', 'v48_m', 'v65_m', 'v109_m', 'v67_m', 'v29_m', 'v17_m', 'v49_m', 'v92_m', 'v23', 'v96_m', 'v64_m', 'v71', 'v3', 'v107', 'v91', 'v74', 'v75']\n",
    "        featToKeep = featToKeep[:len(featToKeep)-50] # Remove the last 50 less important feature\n",
    "        dfX = dfX[featToKeep]\n",
    "    \n",
    "    return dfX"
   ]
  },
  {
   "cell_type": "code",
   "execution_count": 501,
   "metadata": {
    "ExecuteTime": {
     "end_time": "2016-03-20T16:06:19.028334",
     "start_time": "2016-03-20T16:06:19.025245"
    },
    "collapsed": true
   },
   "outputs": [],
   "source": [
    "def prepareY(df):   \n",
    "    return df[[\"target\"]].values.ravel()"
   ]
  },
  {
   "cell_type": "code",
   "execution_count": 502,
   "metadata": {
    "ExecuteTime": {
     "end_time": "2016-03-20T16:10:09.372416",
     "start_time": "2016-03-20T16:06:19.519437"
    },
    "collapsed": false
   },
   "outputs": [],
   "source": [
    "X_train = prepareX(train, True)\n",
    "y_train = prepareY(train)"
   ]
  },
  {
   "cell_type": "code",
   "execution_count": 503,
   "metadata": {
    "ExecuteTime": {
     "end_time": "2016-03-20T16:10:54.511442",
     "start_time": "2016-03-20T16:10:09.373553"
    },
    "collapsed": true
   },
   "outputs": [],
   "source": [
    "X_test = prepareX(test, False)\n",
    "y_test = prepareY(test)"
   ]
  },
  {
   "cell_type": "code",
   "execution_count": 504,
   "metadata": {
    "ExecuteTime": {
     "end_time": "2016-03-20T16:10:54.656602",
     "start_time": "2016-03-20T16:10:54.512589"
    },
    "collapsed": false
   },
   "outputs": [
    {
     "name": "stdout",
     "output_type": "stream",
     "text": [
      "133\n",
      "81\n",
      "81\n"
     ]
    }
   ],
   "source": [
    "colsMissingValues = X_train.isnull().sum()\n",
    "print len(train.columns)\n",
    "print len(X_train.columns)\n",
    "#print set(train.columns) - set(X_train.columns)\n",
    "print len(colsMissingValues)"
   ]
  },
  {
   "cell_type": "markdown",
   "metadata": {},
   "source": [
    "# Model"
   ]
  },
  {
   "cell_type": "code",
   "execution_count": 505,
   "metadata": {
    "ExecuteTime": {
     "end_time": "2016-03-20T16:13:18.418131",
     "start_time": "2016-03-20T16:13:18.414539"
    },
    "collapsed": true
   },
   "outputs": [],
   "source": [
    "#.setNumTrees(150).setMaxDepth(6)\n",
    "clf = RandomForestClassifier(n_estimators=150,\n",
    "                             n_jobs=4,\n",
    "                             max_depth=10,\n",
    "                             criterion='gini') #  max_depth=7"
   ]
  },
  {
   "cell_type": "code",
   "execution_count": 232,
   "metadata": {
    "ExecuteTime": {
     "end_time": "2016-03-19T23:50:59.967926",
     "start_time": "2016-03-19T23:50:59.965404"
    },
    "collapsed": true
   },
   "outputs": [],
   "source": [
    "clf = ExtraTreesClassifier(n_estimators=850, max_features=60, criterion='entropy', min_samples_split=4,\n",
    "                            max_depth=40, min_samples_leaf=2, n_jobs=-1)     "
   ]
  },
  {
   "cell_type": "code",
   "execution_count": 233,
   "metadata": {
    "ExecuteTime": {
     "end_time": "2016-03-19T23:51:01.327437",
     "start_time": "2016-03-19T23:51:01.324664"
    },
    "collapsed": true
   },
   "outputs": [],
   "source": [
    "#clf.fit(X_train, y_train)"
   ]
  },
  {
   "cell_type": "markdown",
   "metadata": {},
   "source": [
    "# Pipeline"
   ]
  },
  {
   "cell_type": "code",
   "execution_count": 506,
   "metadata": {
    "ExecuteTime": {
     "end_time": "2016-03-20T16:13:21.923273",
     "start_time": "2016-03-20T16:13:21.920434"
    },
    "collapsed": false
   },
   "outputs": [],
   "source": [
    "imputer = Imputer(missing_values=\"NaN\",\n",
    "                  strategy=\"mean\",\n",
    "                  axis=0)"
   ]
  },
  {
   "cell_type": "code",
   "execution_count": 507,
   "metadata": {
    "ExecuteTime": {
     "end_time": "2016-03-20T16:13:23.831896",
     "start_time": "2016-03-20T16:13:23.828009"
    },
    "collapsed": false
   },
   "outputs": [],
   "source": [
    "estimator = Pipeline([(\"imputer\", imputer),\n",
    "                      (\"forest\", clf)\n",
    "                     ])"
   ]
  },
  {
   "cell_type": "code",
   "execution_count": 508,
   "metadata": {
    "ExecuteTime": {
     "end_time": "2016-03-20T16:14:33.356108",
     "start_time": "2016-03-20T16:14:00.664591"
    },
    "collapsed": false
   },
   "outputs": [
    {
     "data": {
      "text/plain": [
       "Pipeline(steps=[('imputer', Imputer(axis=0, copy=True, missing_values='NaN', strategy='mean', verbose=0)), ('forest', RandomForestClassifier(bootstrap=True, class_weight=None, criterion='gini',\n",
       "            max_depth=10, max_features='auto', max_leaf_nodes=None,\n",
       "            min_samples_leaf=1, min_samples_split=2,\n",
       "            min_weight_fraction_leaf=0.0, n_estimators=150, n_jobs=4,\n",
       "            oob_score=False, random_state=None, verbose=0,\n",
       "            warm_start=False))])"
      ]
     },
     "execution_count": 508,
     "metadata": {},
     "output_type": "execute_result"
    }
   ],
   "source": [
    "estimator.fit(X_train, y_train)"
   ]
  },
  {
   "cell_type": "markdown",
   "metadata": {},
   "source": [
    "## Scoring"
   ]
  },
  {
   "cell_type": "code",
   "execution_count": 509,
   "metadata": {
    "ExecuteTime": {
     "end_time": "2016-03-20T16:15:50.757793",
     "start_time": "2016-03-20T16:15:48.133117"
    },
    "collapsed": false,
    "scrolled": true
   },
   "outputs": [
    {
     "name": "stdout",
     "output_type": "stream",
     "text": [
      "Training score: estimator\n",
      "0.783644594122\n",
      "0.455481837794 compare to best score: -0.0481345557785\n"
     ]
    }
   ],
   "source": [
    "evaluate(estimator, X_train, y_train, \"Training\", \"estimator\")"
   ]
  },
  {
   "cell_type": "code",
   "execution_count": 510,
   "metadata": {
    "ExecuteTime": {
     "end_time": "2016-03-20T16:16:01.165659",
     "start_time": "2016-03-20T16:16:00.430972"
    },
    "collapsed": false
   },
   "outputs": [
    {
     "name": "stdout",
     "output_type": "stream",
     "text": [
      "Testing score: estimator\n",
      "0.778351191778\n",
      "0.480723570074 compare to best score: -0.0228928234977\n"
     ]
    }
   ],
   "source": [
    "evaluate(estimator, X_test, y_test, \"Testing\", \"estimator\")"
   ]
  },
  {
   "cell_type": "markdown",
   "metadata": {},
   "source": [
    "## Features Analysis"
   ]
  },
  {
   "cell_type": "code",
   "execution_count": 474,
   "metadata": {
    "ExecuteTime": {
     "end_time": "2016-03-20T15:42:29.235592",
     "start_time": "2016-03-20T15:42:29.208688"
    },
    "collapsed": false
   },
   "outputs": [],
   "source": [
    "featToKeep = []\n",
    "def feature_analysis(model, X):\n",
    "    importancePd = pd.DataFrame(X.columns, columns=[\"feature\"])\n",
    "    importancePd[\"importance\"] = model.feature_importances_\n",
    "    \n",
    "    importancePd = importancePd.sort(['importance'], ascending=[0])\n",
    "    importancePd = importancePd.set_index(['feature'])\n",
    "    \n",
    "    print importancePd.head(n=10)\n",
    "\n",
    "    plt.figure();\n",
    "    pylab.rcParams['figure.figsize'] = (30, 3)\n",
    "    importancePd[:50].plot(kind='bar');\n",
    "    importancePd[50:200].plot(kind='bar');\n",
    "    plt.axhline(0, color='k')\n",
    "           \n",
    "    for index, row in importancePd.iterrows():\n",
    "        #print row['importance']\n",
    "        #print index\n",
    "        \n",
    "        if not \"_m\" in index:\n",
    "            indexWithM = index + \"_m\"\n",
    "            imp = importancePd[importancePd.index==index].importance.item()\n",
    "            impWithM = importancePd[importancePd.index==indexWithM]\n",
    "            if len(impWithM):\n",
    "                impWithM = impWithM.importance.item()\n",
    "            \n",
    "                if impWithM <= imp:\n",
    "                    #print index + \" is better        impNotM: \" + str(impWithM) + \" <= imp: \" + str(imp)\n",
    "                    featToKeep.append(index)\n",
    "                else:\n",
    "                    #print indexWithM + \" is better   impNotM: \" + str(impWithM) + \" > imp: \" + str(imp)\n",
    "                    featToKeep.append(indexWithM)\n",
    "            else:\n",
    "                featToKeep.append(index)\n",
    "                \n",
    "    print \"Features to keep:\"\n",
    "    print featToKeep\n",
    "    "
   ]
  },
  {
   "cell_type": "code",
   "execution_count": 475,
   "metadata": {
    "ExecuteTime": {
     "end_time": "2016-03-20T15:42:33.137399",
     "start_time": "2016-03-20T15:42:30.817822"
    },
    "collapsed": false
   },
   "outputs": [
    {
     "name": "stdout",
     "output_type": "stream",
     "text": [
      "         importance\n",
      "feature            \n",
      "v50        0.128069\n",
      "v50_m      0.122203\n",
      "v66        0.041135\n",
      "v113       0.027574\n",
      "v47        0.025887\n",
      "v110       0.025368\n",
      "v10        0.024086\n",
      "v10_m      0.023679\n",
      "v31        0.023264\n",
      "v129       0.022249\n",
      "Features to keep:\n",
      "['v50', 'v66', 'v113', 'v47', 'v110', 'v10', 'v31', 'v129', 'v12', 'v79', 'v56', 'v14', 'v62', 'v114_m', 'v34_m', 'v40_m', 'v21_m', 'v24', 'v38_m', 'v22', 'v125', 'v72_m', 'v123_m', 'v88_m', 'v28_m', 'v82_m', 'v58_m', 'v100_m', 'v68_m', 'v131', 'v1_m', 'v124_m', 'v45_m', 'v46', 'v37_m', 'v119_m', 'v89_m', 'v98_m', 'v36', 'v85_m', 'v120_m', 'v5_m', 'v16', 'v54_m', 'v35', 'v63_m', 'v6_m', 'v78_m', 'v99_m', 'v126_m', 'v112', 'v97_m', 'v94', 'v122_m', 'v57_m', 'v117_m', 'v2_m', 'v86_m', 'v51_m', 'v84_m', 'v11_m', 'v4_m', 'v130_m', 'v42', 'v18_m', 'v53_m', 'v115_m', 'v118', 'v101_m', 'v9_m', 'v61_m', 'v103_m', 'v127_m', 'v87_m', 'v8_m', 'v7_m', 'v32_m', 'v90_m', 'v81_m', 'v59_m', 'v27_m', 'v128_m', 'v20_m', 'v26_m', 'v105_m', 'v108_m', 'v30', 'v73_m', 'v13_m', 'v102_m', 'v25_m', 'v52', 'v121_m', 'v93_m', 'v41', 'v69_m', 'v95_m', 'v104_m', 'v116_m', 'v80_m', 'v111_m', 'v15_m', 'v43_m', 'v70_m', 'v55_m', 'v106_m', 'v60_m', 'v39_m', 'v19_m', 'v33_m', 'v83_m', 'v76_m', 'v44_m', 'v77_m', 'v48_m', 'v65_m', 'v109_m', 'v67_m', 'v29_m', 'v17_m', 'v49_m', 'v92_m', 'v23', 'v96_m', 'v64_m', 'v71', 'v3', 'v107', 'v91', 'v74', 'v75']\n"
     ]
    },
    {
     "data": {
      "text/plain": [
       "<matplotlib.figure.Figure at 0x7f10a1978590>"
      ]
     },
     "metadata": {},
     "output_type": "display_data"
    },
    {
     "data": {
      "image/png": "[encoded data removed]",
      "text/plain": [
       "<matplotlib.figure.Figure at 0x7f10c2210ed0>"
      ]
     },
     "metadata": {},
     "output_type": "display_data"
    },
    {
     "data": {
      "image/png": "[encoded data removed]",
      "text/plain": [
       "<matplotlib.figure.Figure at 0x7f10a7c1d210>"
      ]
     },
     "metadata": {},
     "output_type": "display_data"
    }
   ],
   "source": [
    "feature_analysis(clf, X_train)"
   ]
  },
  {
   "cell_type": "markdown",
   "metadata": {},
   "source": [
    "# Grid search"
   ]
  },
  {
   "cell_type": "code",
   "execution_count": 127,
   "metadata": {
    "ExecuteTime": {
     "end_time": "2016-03-19T14:56:49.249266",
     "start_time": "2016-03-19T14:56:49.235845"
    },
    "collapsed": false
   },
   "outputs": [],
   "source": [
    "# Utility function to report best scores\n",
    "def report(grid_scores, n_top=3, save=False):\n",
    "    top_scores = sorted(grid_scores, key=itemgetter(1), reverse=True)[:n_top]\n",
    "    for i, score in enumerate(top_scores):\n",
    "        print(\"Model with rank: {0}\".format(i + 1))\n",
    "        print(\"Mean validation score: {0:.3f} (std: {1:.3f})\".format(\n",
    "              score.mean_validation_score,\n",
    "              np.std(score.cv_validation_scores)))\n",
    "        print(\"Parameters: {0}\".format(score.parameters))\n",
    "        print(\"\")\n",
    "        \n",
    "        if save:\n",
    "            currentDate = str(datetime.now().strftime('%Y-%m-%d %H:%M:%S'))\n",
    "            logline = str(\"{0}\".format(i + 1)) + \";\" + \"{0:.5f};{1:.5f}\".format(score.mean_validation_score,np.std(score.cv_validation_scores)) + \";\" + currentDate + \";\" + \"{0}\".format(score.parameters)\n",
    "            with open(\"gridSearch.log\", \"a\") as myfile:\n",
    "                myfile.write(logline+\"\\n\")"
   ]
  },
  {
   "cell_type": "code",
   "execution_count": 114,
   "metadata": {
    "ExecuteTime": {
     "end_time": "2016-03-19T13:51:14.733906",
     "start_time": "2016-03-19T13:51:14.730414"
    },
    "collapsed": false
   },
   "outputs": [
    {
     "data": {
      "text/plain": [
       "14.966629547095765"
      ]
     },
     "execution_count": 114,
     "metadata": {},
     "output_type": "execute_result"
    }
   ],
   "source": [
    "sqrt(len(X_train.columns))"
   ]
  },
  {
   "cell_type": "code",
   "execution_count": 253,
   "metadata": {
    "ExecuteTime": {
     "end_time": "2016-03-20T00:27:48.570740",
     "start_time": "2016-03-20T00:27:48.560677"
    },
    "collapsed": false
   },
   "outputs": [],
   "source": [
    "# specify parameters and distributions to sample from\n",
    "modelName = \"forest__\"\n",
    "param_dist = {modelName+\"max_depth\": [None],          # Default -> None | If Nonen then nodes are expanded until min_samples_split (Ignored if max_leaf_nodes is not None.)\n",
    "              modelName+\"max_features\": sp_randint(15, 21),#sp_randint(14, 24),      # Default -> sqrt(n_features) ~14\n",
    "              modelName+\"min_samples_split\": sp_randint(1, 5), # Default -> 2 (useless if mex_depth not None)\n",
    "              modelName+\"min_samples_leaf\": sp_randint(1, 15),  # Default -> 1\n",
    "              modelName+\"bootstrap\": [False]              # Default -> True\n",
    "              #modelName+\"criterion\": [\"gini\", \"entropy\"] # gini\n",
    "             }\n",
    "\n",
    "# run randomized search\n",
    "n_iter_search = 20\n",
    "grid_search = RandomizedSearchCV(estimator, param_distributions=param_dist,\n",
    "                                   n_iter=n_iter_search, scoring=\"log_loss\")"
   ]
  },
  {
   "cell_type": "code",
   "execution_count": 254,
   "metadata": {
    "ExecuteTime": {
     "end_time": "2016-03-20T01:59:55.279435",
     "start_time": "2016-03-20T00:27:49.627999"
    },
    "collapsed": false
   },
   "outputs": [
    {
     "name": "stdout",
     "output_type": "stream",
     "text": [
      "RandomizedSearchCV took 5524.31 seconds for 20 candidates parameter settings.\n",
      "Model with rank: 1\n",
      "Mean validation score: -0.475 (std: 0.002)\n",
      "Parameters: {'forest__bootstrap': False, 'forest__max_features': 20, 'forest__min_samples_leaf': 9, 'forest__max_depth': None, 'forest__min_samples_split': 3}\n",
      "\n",
      "Model with rank: 2\n",
      "Mean validation score: -0.476 (std: 0.002)\n",
      "Parameters: {'forest__bootstrap': False, 'forest__max_features': 19, 'forest__min_samples_leaf': 12, 'forest__max_depth': None, 'forest__min_samples_split': 3}\n",
      "\n",
      "Model with rank: 3\n",
      "Mean validation score: -0.476 (std: 0.002)\n",
      "Parameters: {'forest__bootstrap': False, 'forest__max_features': 20, 'forest__min_samples_leaf': 6, 'forest__max_depth': None, 'forest__min_samples_split': 1}\n",
      "\n"
     ]
    }
   ],
   "source": [
    "start = time()\n",
    "grid_search.fit(X_train, y_train)\n",
    "print(\"RandomizedSearchCV took %.2f seconds for %d candidates\"\n",
    "      \" parameter settings.\" % ((time() - start), n_iter_search))\n",
    "report(grid_search.grid_scores_)\n",
    "finish()"
   ]
  },
  {
   "cell_type": "code",
   "execution_count": 255,
   "metadata": {
    "ExecuteTime": {
     "end_time": "2016-03-20T01:59:55.289442",
     "start_time": "2016-03-20T01:59:55.281208"
    },
    "collapsed": false
   },
   "outputs": [
    {
     "name": "stdout",
     "output_type": "stream",
     "text": [
      "Model with rank: 1\n",
      "Mean validation score: -0.475 (std: 0.002)\n",
      "Parameters: {'forest__bootstrap': False, 'forest__max_features': 20, 'forest__min_samples_leaf': 9, 'forest__max_depth': None, 'forest__min_samples_split': 3}\n",
      "\n",
      "Model with rank: 2\n",
      "Mean validation score: -0.476 (std: 0.002)\n",
      "Parameters: {'forest__bootstrap': False, 'forest__max_features': 19, 'forest__min_samples_leaf': 12, 'forest__max_depth': None, 'forest__min_samples_split': 3}\n",
      "\n",
      "Model with rank: 3\n",
      "Mean validation score: -0.476 (std: 0.002)\n",
      "Parameters: {'forest__bootstrap': False, 'forest__max_features': 20, 'forest__min_samples_leaf': 6, 'forest__max_depth': None, 'forest__min_samples_split': 1}\n",
      "\n",
      "Model with rank: 4\n",
      "Mean validation score: -0.476 (std: 0.002)\n",
      "Parameters: {'forest__bootstrap': False, 'forest__max_features': 18, 'forest__min_samples_leaf': 11, 'forest__max_depth': None, 'forest__min_samples_split': 3}\n",
      "\n",
      "Model with rank: 5\n",
      "Mean validation score: -0.476 (std: 0.002)\n",
      "Parameters: {'forest__bootstrap': False, 'forest__max_features': 18, 'forest__min_samples_leaf': 12, 'forest__max_depth': None, 'forest__min_samples_split': 1}\n",
      "\n",
      "Model with rank: 6\n",
      "Mean validation score: -0.476 (std: 0.002)\n",
      "Parameters: {'forest__bootstrap': False, 'forest__max_features': 19, 'forest__min_samples_leaf': 5, 'forest__max_depth': None, 'forest__min_samples_split': 3}\n",
      "\n",
      "Model with rank: 7\n",
      "Mean validation score: -0.476 (std: 0.002)\n",
      "Parameters: {'forest__bootstrap': False, 'forest__max_features': 19, 'forest__min_samples_leaf': 6, 'forest__max_depth': None, 'forest__min_samples_split': 1}\n",
      "\n",
      "Model with rank: 8\n",
      "Mean validation score: -0.476 (std: 0.002)\n",
      "Parameters: {'forest__bootstrap': False, 'forest__max_features': 18, 'forest__min_samples_leaf': 8, 'forest__max_depth': None, 'forest__min_samples_split': 2}\n",
      "\n",
      "Model with rank: 9\n",
      "Mean validation score: -0.476 (std: 0.002)\n",
      "Parameters: {'forest__bootstrap': False, 'forest__max_features': 16, 'forest__min_samples_leaf': 8, 'forest__max_depth': None, 'forest__min_samples_split': 4}\n",
      "\n",
      "Model with rank: 10\n",
      "Mean validation score: -0.476 (std: 0.002)\n",
      "Parameters: {'forest__bootstrap': False, 'forest__max_features': 19, 'forest__min_samples_leaf': 5, 'forest__max_depth': None, 'forest__min_samples_split': 4}\n",
      "\n",
      "Model with rank: 11\n",
      "Mean validation score: -0.476 (std: 0.002)\n",
      "Parameters: {'forest__bootstrap': False, 'forest__max_features': 17, 'forest__min_samples_leaf': 14, 'forest__max_depth': None, 'forest__min_samples_split': 3}\n",
      "\n",
      "Model with rank: 12\n",
      "Mean validation score: -0.477 (std: 0.002)\n",
      "Parameters: {'forest__bootstrap': False, 'forest__max_features': 16, 'forest__min_samples_leaf': 13, 'forest__max_depth': None, 'forest__min_samples_split': 2}\n",
      "\n",
      "Model with rank: 13\n",
      "Mean validation score: -0.477 (std: 0.002)\n",
      "Parameters: {'forest__bootstrap': False, 'forest__max_features': 15, 'forest__min_samples_leaf': 12, 'forest__max_depth': None, 'forest__min_samples_split': 2}\n",
      "\n",
      "Model with rank: 14\n",
      "Mean validation score: -0.477 (std: 0.002)\n",
      "Parameters: {'forest__bootstrap': False, 'forest__max_features': 16, 'forest__min_samples_leaf': 14, 'forest__max_depth': None, 'forest__min_samples_split': 1}\n",
      "\n",
      "Model with rank: 15\n",
      "Mean validation score: -0.477 (std: 0.002)\n",
      "Parameters: {'forest__bootstrap': False, 'forest__max_features': 16, 'forest__min_samples_leaf': 8, 'forest__max_depth': None, 'forest__min_samples_split': 3}\n",
      "\n",
      "Model with rank: 16\n",
      "Mean validation score: -0.477 (std: 0.002)\n",
      "Parameters: {'forest__bootstrap': False, 'forest__max_features': 15, 'forest__min_samples_leaf': 14, 'forest__max_depth': None, 'forest__min_samples_split': 3}\n",
      "\n",
      "Model with rank: 17\n",
      "Mean validation score: -0.477 (std: 0.002)\n",
      "Parameters: {'forest__bootstrap': False, 'forest__max_features': 15, 'forest__min_samples_leaf': 13, 'forest__max_depth': None, 'forest__min_samples_split': 2}\n",
      "\n",
      "Model with rank: 18\n",
      "Mean validation score: -0.478 (std: 0.002)\n",
      "Parameters: {'forest__bootstrap': False, 'forest__max_features': 15, 'forest__min_samples_leaf': 3, 'forest__max_depth': None, 'forest__min_samples_split': 1}\n",
      "\n",
      "Model with rank: 19\n",
      "Mean validation score: -0.479 (std: 0.002)\n",
      "Parameters: {'forest__bootstrap': False, 'forest__max_features': 16, 'forest__min_samples_leaf': 2, 'forest__max_depth': None, 'forest__min_samples_split': 2}\n",
      "\n",
      "Model with rank: 20\n",
      "Mean validation score: -0.483 (std: 0.003)\n",
      "Parameters: {'forest__bootstrap': False, 'forest__max_features': 19, 'forest__min_samples_leaf': 1, 'forest__max_depth': None, 'forest__min_samples_split': 4}\n",
      "\n"
     ]
    }
   ],
   "source": [
    "report(grid_search.grid_scores_, 20, True)"
   ]
  },
  {
   "cell_type": "code",
   "execution_count": 511,
   "metadata": {
    "ExecuteTime": {
     "end_time": "2016-03-20T16:18:47.930162",
     "start_time": "2016-03-20T16:18:47.869896"
    },
    "collapsed": false
   },
   "outputs": [
    {
     "ename": "ValueError",
     "evalue": "a.shape[axis] != len(repeats)",
     "output_type": "error",
     "traceback": [
      "\u001b[1;31m---------------------------------------------------------------------------\u001b[0m",
      "\u001b[1;31mValueError\u001b[0m                                Traceback (most recent call last)",
      "\u001b[1;32m<ipython-input-511-21273c2dd7c3>\u001b[0m in \u001b[0;36m<module>\u001b[1;34m()\u001b[0m\n\u001b[1;32m----> 1\u001b[1;33m \u001b[0mevaluate\u001b[0m\u001b[1;33m(\u001b[0m\u001b[0mgrid_search\u001b[0m\u001b[1;33m.\u001b[0m\u001b[0mbest_estimator_\u001b[0m\u001b[1;33m,\u001b[0m \u001b[0mX_test\u001b[0m\u001b[1;33m,\u001b[0m \u001b[0my_test\u001b[0m\u001b[1;33m,\u001b[0m \u001b[1;34m\"Testing\"\u001b[0m\u001b[1;33m,\u001b[0m \u001b[1;34m\"GridSearchBest\"\u001b[0m\u001b[1;33m)\u001b[0m\u001b[1;33m\u001b[0m\u001b[0m\n\u001b[0m",
      "\u001b[1;32m<ipython-input-170-76b0a2a138f0>\u001b[0m in \u001b[0;36mevaluate\u001b[1;34m(model, X, y, string, more)\u001b[0m\n\u001b[0;32m      2\u001b[0m \u001b[1;32mdef\u001b[0m \u001b[0mevaluate\u001b[0m\u001b[1;33m(\u001b[0m\u001b[0mmodel\u001b[0m\u001b[1;33m,\u001b[0m \u001b[0mX\u001b[0m\u001b[1;33m,\u001b[0m \u001b[0my\u001b[0m\u001b[1;33m,\u001b[0m \u001b[0mstring\u001b[0m\u001b[1;33m,\u001b[0m \u001b[0mmore\u001b[0m \u001b[1;33m=\u001b[0m \u001b[1;34m\"\"\u001b[0m\u001b[1;33m)\u001b[0m\u001b[1;33m:\u001b[0m\u001b[1;33m\u001b[0m\u001b[0m\n\u001b[0;32m      3\u001b[0m     \u001b[0mtitle\u001b[0m \u001b[1;33m=\u001b[0m \u001b[0mstring\u001b[0m \u001b[1;33m+\u001b[0m \u001b[1;34m\" score: \"\u001b[0m \u001b[1;33m+\u001b[0m \u001b[0mmore\u001b[0m\u001b[1;33m\u001b[0m\u001b[0m\n\u001b[1;32m----> 4\u001b[1;33m     \u001b[0mscore\u001b[0m \u001b[1;33m=\u001b[0m \u001b[0mmodel\u001b[0m\u001b[1;33m.\u001b[0m\u001b[0mscore\u001b[0m\u001b[1;33m(\u001b[0m\u001b[0mX\u001b[0m\u001b[1;33m,\u001b[0m \u001b[0my\u001b[0m\u001b[1;33m)\u001b[0m\u001b[1;33m\u001b[0m\u001b[0m\n\u001b[0m\u001b[0;32m      5\u001b[0m     \u001b[0mscoreLogloss\u001b[0m \u001b[1;33m=\u001b[0m \u001b[0mlog_loss\u001b[0m\u001b[1;33m(\u001b[0m\u001b[0my\u001b[0m\u001b[1;33m,\u001b[0m \u001b[0mmodel\u001b[0m\u001b[1;33m.\u001b[0m\u001b[0mpredict_proba\u001b[0m\u001b[1;33m(\u001b[0m\u001b[0mX\u001b[0m\u001b[1;33m)\u001b[0m\u001b[1;33m)\u001b[0m\u001b[1;33m\u001b[0m\u001b[0m\n\u001b[0;32m      6\u001b[0m \u001b[1;33m\u001b[0m\u001b[0m\n",
      "\u001b[1;32m/home/scollot/anaconda/lib/python2.7/site-packages/sklearn/utils/metaestimators.pyc\u001b[0m in \u001b[0;36m<lambda>\u001b[1;34m(*args, **kwargs)\u001b[0m\n\u001b[0;32m     35\u001b[0m             \u001b[0mself\u001b[0m\u001b[1;33m.\u001b[0m\u001b[0mget_attribute\u001b[0m\u001b[1;33m(\u001b[0m\u001b[0mobj\u001b[0m\u001b[1;33m)\u001b[0m\u001b[1;33m\u001b[0m\u001b[0m\n\u001b[0;32m     36\u001b[0m         \u001b[1;31m# lambda, but not partial, allows help() to work with update_wrapper\u001b[0m\u001b[1;33m\u001b[0m\u001b[1;33m\u001b[0m\u001b[0m\n\u001b[1;32m---> 37\u001b[1;33m         \u001b[0mout\u001b[0m \u001b[1;33m=\u001b[0m \u001b[1;32mlambda\u001b[0m \u001b[1;33m*\u001b[0m\u001b[0margs\u001b[0m\u001b[1;33m,\u001b[0m \u001b[1;33m**\u001b[0m\u001b[0mkwargs\u001b[0m\u001b[1;33m:\u001b[0m \u001b[0mself\u001b[0m\u001b[1;33m.\u001b[0m\u001b[0mfn\u001b[0m\u001b[1;33m(\u001b[0m\u001b[0mobj\u001b[0m\u001b[1;33m,\u001b[0m \u001b[1;33m*\u001b[0m\u001b[0margs\u001b[0m\u001b[1;33m,\u001b[0m \u001b[1;33m**\u001b[0m\u001b[0mkwargs\u001b[0m\u001b[1;33m)\u001b[0m\u001b[1;33m\u001b[0m\u001b[0m\n\u001b[0m\u001b[0;32m     38\u001b[0m         \u001b[1;31m# update the docstring of the returned function\u001b[0m\u001b[1;33m\u001b[0m\u001b[1;33m\u001b[0m\u001b[0m\n\u001b[0;32m     39\u001b[0m         \u001b[0mupdate_wrapper\u001b[0m\u001b[1;33m(\u001b[0m\u001b[0mout\u001b[0m\u001b[1;33m,\u001b[0m \u001b[0mself\u001b[0m\u001b[1;33m.\u001b[0m\u001b[0mfn\u001b[0m\u001b[1;33m)\u001b[0m\u001b[1;33m\u001b[0m\u001b[0m\n",
      "\u001b[1;32m/home/scollot/anaconda/lib/python2.7/site-packages/sklearn/pipeline.pyc\u001b[0m in \u001b[0;36mscore\u001b[1;34m(self, X, y)\u001b[0m\n\u001b[0;32m    286\u001b[0m         \u001b[0mXt\u001b[0m \u001b[1;33m=\u001b[0m \u001b[0mX\u001b[0m\u001b[1;33m\u001b[0m\u001b[0m\n\u001b[0;32m    287\u001b[0m         \u001b[1;32mfor\u001b[0m \u001b[0mname\u001b[0m\u001b[1;33m,\u001b[0m \u001b[0mtransform\u001b[0m \u001b[1;32min\u001b[0m \u001b[0mself\u001b[0m\u001b[1;33m.\u001b[0m\u001b[0msteps\u001b[0m\u001b[1;33m[\u001b[0m\u001b[1;33m:\u001b[0m\u001b[1;33m-\u001b[0m\u001b[1;36m1\u001b[0m\u001b[1;33m]\u001b[0m\u001b[1;33m:\u001b[0m\u001b[1;33m\u001b[0m\u001b[0m\n\u001b[1;32m--> 288\u001b[1;33m             \u001b[0mXt\u001b[0m \u001b[1;33m=\u001b[0m \u001b[0mtransform\u001b[0m\u001b[1;33m.\u001b[0m\u001b[0mtransform\u001b[0m\u001b[1;33m(\u001b[0m\u001b[0mXt\u001b[0m\u001b[1;33m)\u001b[0m\u001b[1;33m\u001b[0m\u001b[0m\n\u001b[0m\u001b[0;32m    289\u001b[0m         \u001b[1;32mreturn\u001b[0m \u001b[0mself\u001b[0m\u001b[1;33m.\u001b[0m\u001b[0msteps\u001b[0m\u001b[1;33m[\u001b[0m\u001b[1;33m-\u001b[0m\u001b[1;36m1\u001b[0m\u001b[1;33m]\u001b[0m\u001b[1;33m[\u001b[0m\u001b[1;33m-\u001b[0m\u001b[1;36m1\u001b[0m\u001b[1;33m]\u001b[0m\u001b[1;33m.\u001b[0m\u001b[0mscore\u001b[0m\u001b[1;33m(\u001b[0m\u001b[0mXt\u001b[0m\u001b[1;33m,\u001b[0m \u001b[0my\u001b[0m\u001b[1;33m)\u001b[0m\u001b[1;33m\u001b[0m\u001b[0m\n\u001b[0;32m    290\u001b[0m \u001b[1;33m\u001b[0m\u001b[0m\n",
      "\u001b[1;32m/home/scollot/anaconda/lib/python2.7/site-packages/sklearn/preprocessing/imputation.pyc\u001b[0m in \u001b[0;36mtransform\u001b[1;34m(self, X)\u001b[0m\n\u001b[0;32m    364\u001b[0m             \u001b[0mmask\u001b[0m \u001b[1;33m=\u001b[0m \u001b[0m_get_mask\u001b[0m\u001b[1;33m(\u001b[0m\u001b[0mX\u001b[0m\u001b[1;33m,\u001b[0m \u001b[0mself\u001b[0m\u001b[1;33m.\u001b[0m\u001b[0mmissing_values\u001b[0m\u001b[1;33m)\u001b[0m\u001b[1;33m\u001b[0m\u001b[0m\n\u001b[0;32m    365\u001b[0m             \u001b[0mn_missing\u001b[0m \u001b[1;33m=\u001b[0m \u001b[0mnp\u001b[0m\u001b[1;33m.\u001b[0m\u001b[0msum\u001b[0m\u001b[1;33m(\u001b[0m\u001b[0mmask\u001b[0m\u001b[1;33m,\u001b[0m \u001b[0maxis\u001b[0m\u001b[1;33m=\u001b[0m\u001b[0mself\u001b[0m\u001b[1;33m.\u001b[0m\u001b[0maxis\u001b[0m\u001b[1;33m)\u001b[0m\u001b[1;33m\u001b[0m\u001b[0m\n\u001b[1;32m--> 366\u001b[1;33m             \u001b[0mvalues\u001b[0m \u001b[1;33m=\u001b[0m \u001b[0mnp\u001b[0m\u001b[1;33m.\u001b[0m\u001b[0mrepeat\u001b[0m\u001b[1;33m(\u001b[0m\u001b[0mvalid_statistics\u001b[0m\u001b[1;33m,\u001b[0m \u001b[0mn_missing\u001b[0m\u001b[1;33m)\u001b[0m\u001b[1;33m\u001b[0m\u001b[0m\n\u001b[0m\u001b[0;32m    367\u001b[0m \u001b[1;33m\u001b[0m\u001b[0m\n\u001b[0;32m    368\u001b[0m             \u001b[1;32mif\u001b[0m \u001b[0mself\u001b[0m\u001b[1;33m.\u001b[0m\u001b[0maxis\u001b[0m \u001b[1;33m==\u001b[0m \u001b[1;36m0\u001b[0m\u001b[1;33m:\u001b[0m\u001b[1;33m\u001b[0m\u001b[0m\n",
      "\u001b[1;32m/home/scollot/anaconda/lib/python2.7/site-packages/numpy/core/fromnumeric.pyc\u001b[0m in \u001b[0;36mrepeat\u001b[1;34m(a, repeats, axis)\u001b[0m\n\u001b[0;32m    391\u001b[0m     \u001b[1;32mexcept\u001b[0m \u001b[0mAttributeError\u001b[0m\u001b[1;33m:\u001b[0m\u001b[1;33m\u001b[0m\u001b[0m\n\u001b[0;32m    392\u001b[0m         \u001b[1;32mreturn\u001b[0m \u001b[0m_wrapit\u001b[0m\u001b[1;33m(\u001b[0m\u001b[0ma\u001b[0m\u001b[1;33m,\u001b[0m \u001b[1;34m'repeat'\u001b[0m\u001b[1;33m,\u001b[0m \u001b[0mrepeats\u001b[0m\u001b[1;33m,\u001b[0m \u001b[0maxis\u001b[0m\u001b[1;33m)\u001b[0m\u001b[1;33m\u001b[0m\u001b[0m\n\u001b[1;32m--> 393\u001b[1;33m     \u001b[1;32mreturn\u001b[0m \u001b[0mrepeat\u001b[0m\u001b[1;33m(\u001b[0m\u001b[0mrepeats\u001b[0m\u001b[1;33m,\u001b[0m \u001b[0maxis\u001b[0m\u001b[1;33m)\u001b[0m\u001b[1;33m\u001b[0m\u001b[0m\n\u001b[0m\u001b[0;32m    394\u001b[0m \u001b[1;33m\u001b[0m\u001b[0m\n\u001b[0;32m    395\u001b[0m \u001b[1;33m\u001b[0m\u001b[0m\n",
      "\u001b[1;31mValueError\u001b[0m: a.shape[axis] != len(repeats)"
     ]
    }
   ],
   "source": [
    "evaluate(grid_search.best_estimator_, X_test, y_test, \"Testing\", \"GridSearchBest\")"
   ]
  },
  {
   "cell_type": "markdown",
   "metadata": {},
   "source": [
    "# Save"
   ]
  },
  {
   "cell_type": "code",
   "execution_count": 512,
   "metadata": {
    "ExecuteTime": {
     "end_time": "2016-03-20T16:21:25.637426",
     "start_time": "2016-03-20T16:21:25.634709"
    },
    "collapsed": true
   },
   "outputs": [],
   "source": [
    "modelToSave = estimator\n",
    "#modelToSave = grid_search.best_estimator_"
   ]
  },
  {
   "cell_type": "code",
   "execution_count": 513,
   "metadata": {
    "ExecuteTime": {
     "end_time": "2016-03-20T16:24:41.917762",
     "start_time": "2016-03-20T16:21:26.114003"
    },
    "collapsed": true
   },
   "outputs": [],
   "source": [
    "X_kaggleTest = prepareX(kaggleTest, False)"
   ]
  },
  {
   "cell_type": "code",
   "execution_count": 514,
   "metadata": {
    "ExecuteTime": {
     "end_time": "2016-03-20T16:24:43.559056",
     "start_time": "2016-03-20T16:24:41.918927"
    },
    "collapsed": false
   },
   "outputs": [],
   "source": [
    "predic = modelToSave.predict_proba(X_kaggleTest)[:,1] # extract 2nd column for X=1"
   ]
  },
  {
   "cell_type": "code",
   "execution_count": 515,
   "metadata": {
    "ExecuteTime": {
     "end_time": "2016-03-20T16:24:43.568164",
     "start_time": "2016-03-20T16:24:43.560413"
    },
    "collapsed": false
   },
   "outputs": [],
   "source": [
    "predicPd = pd.DataFrame(predic)\n",
    "predicPd = predicPd.rename(columns={0: 'PredictedProb'})\n",
    "predicPd['ID'] = kaggleTest[['ID']]\n",
    "predicPd = predicPd[['ID', 'PredictedProb']]"
   ]
  },
  {
   "cell_type": "code",
   "execution_count": 516,
   "metadata": {
    "ExecuteTime": {
     "end_time": "2016-03-20T16:24:43.725864",
     "start_time": "2016-03-20T16:24:43.569461"
    },
    "collapsed": false
   },
   "outputs": [],
   "source": [
    "predicPd.to_csv(\"results/pythonpure/results.csv\", index = False)"
   ]
  },
  {
   "cell_type": "code",
   "execution_count": null,
   "metadata": {
    "collapsed": true
   },
   "outputs": [],
   "source": []
  }
 ],
 "metadata": {
  "kernelspec": {
   "display_name": "Python 2",
   "language": "python",
   "name": "python2"
  },
  "language_info": {
   "codemirror_mode": {
    "name": "ipython",
    "version": 2
   },
   "file_extension": ".py",
   "mimetype": "text/x-python",
   "name": "python",
   "nbconvert_exporter": "python",
   "pygments_lexer": "ipython2",
   "version": "2.7.11"
  }
 },
 "nbformat": 4,
 "nbformat_minor": 0
}
