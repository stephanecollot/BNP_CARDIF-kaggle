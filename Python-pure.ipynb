{
 "cells": [
  {
   "cell_type": "code",
   "execution_count": 1,
   "metadata": {
    "ExecuteTime": {
     "end_time": "2016-04-04T01:16:21.931598",
     "start_time": "2016-04-04T01:16:21.494513"
    },
    "collapsed": false
   },
   "outputs": [
    {
     "name": "stdout",
     "output_type": "stream",
     "text": [
      "Populating the interactive namespace from numpy and matplotlib\n"
     ]
    }
   ],
   "source": [
    "%pylab inline\n",
    "pylab.rcParams['figure.figsize'] = (10, 6)\n",
    "\n",
    "# %matplotlib inline\n",
    "\n",
    "from time import time\n",
    "from operator import itemgetter\n",
    "from datetime import datetime\n",
    "from collections import defaultdict\n",
    "from sklearn.cross_validation import train_test_split, cross_val_score\n",
    "from sklearn.grid_search import GridSearchCV, RandomizedSearchCV\n",
    "from scipy.stats import randint as sp_randint\n",
    "from sklearn.ensemble import RandomForestClassifier, ExtraTreesClassifier\n",
    "from sklearn.metrics import log_loss\n",
    "from sklearn.pipeline import Pipeline\n",
    "from sklearn.preprocessing import Imputer, LabelEncoder\n",
    "\n",
    "import matplotlib.pyplot as plt\n",
    "import numpy as np\n",
    "import pandas as pd\n",
    "import os\n",
    "import subprocess\n",
    "import sys"
   ]
  },
  {
   "cell_type": "markdown",
   "metadata": {},
   "source": [
    "# Functions"
   ]
  },
  {
   "cell_type": "code",
   "execution_count": 2,
   "metadata": {
    "ExecuteTime": {
     "end_time": "2016-04-04T01:16:21.939427",
     "start_time": "2016-04-04T01:16:21.933516"
    },
    "collapsed": true
   },
   "outputs": [],
   "source": [
    "def finish(text=None):\n",
    "    os.system(\"paplay /usr/share/sounds/gnome/default/alerts/drip.ogg\")\n",
    "    \n",
    "    if text:\n",
    "        os.system(\"echo \" + text + \" | festival --tts\")\n",
    "    else:\n",
    "        os.system(\"paplay /usr/share/sounds/gnome/default/alerts/glass.ogg\")"
   ]
  },
  {
   "cell_type": "code",
   "execution_count": 3,
   "metadata": {
    "ExecuteTime": {
     "end_time": "2016-04-04T01:16:21.961435",
     "start_time": "2016-04-04T01:16:21.940756"
    },
    "collapsed": true
   },
   "outputs": [],
   "source": [
    "import subprocess\n",
    "import sys"
   ]
  },
  {
   "cell_type": "code",
   "execution_count": 4,
   "metadata": {
    "ExecuteTime": {
     "end_time": "2016-04-04T01:16:21.990872",
     "start_time": "2016-04-04T01:16:21.962958"
    },
    "collapsed": false
   },
   "outputs": [],
   "source": [
    "bestLogloss = 0.460876581644\n",
    "def evaluate(model, X, y, string, more = \"\"):\n",
    "    title = string + \" score: \" + more\n",
    "    score = model.score(X, y)\n",
    "    scoreLogloss = log_loss(y, model.predict_proba(X))\n",
    "    \n",
    "    currentDate = str(datetime.now().strftime('%Y-%m-%d %H:%M:%S'))\n",
    "    \n",
    "    if model.get_params().has_key('forest'):\n",
    "        modelExplaination = model.get_params()['forest'].__class__.__name__ + str(model.get_params()['forest'].get_params())\n",
    "    else:\n",
    "        modelExplaination = model.__class__.__name__  + str(model.get_params())\n",
    "    \n",
    "    logline = str(score) + \";\" + str(scoreLogloss) + \";\" + currentDate + \";\" + str(modelExplaination) + \";\" + more\n",
    "    \n",
    "    with open(\"evaluate\"+string+\".log\", \"a\") as myfile:\n",
    "        myfile.write(logline+\"\\n\")\n",
    "    \n",
    "    print title\n",
    "    print score\n",
    "    print str(scoreLogloss)  + \" compare to best score: \" + str(scoreLogloss-bestLogloss) \n",
    "    \n",
    "    finish(\"Evaluate finished!\")"
   ]
  },
  {
   "cell_type": "markdown",
   "metadata": {},
   "source": [
    "# Load"
   ]
  },
  {
   "cell_type": "code",
   "execution_count": 5,
   "metadata": {
    "ExecuteTime": {
     "end_time": "2016-04-04T01:16:26.280525",
     "start_time": "2016-04-04T01:16:21.994419"
    },
    "collapsed": true
   },
   "outputs": [],
   "source": [
    "kaggleTrain = pd.read_csv(\"kaggle/train.csv\", header = 0)\n",
    "kaggleTest = pd.read_csv(\"kaggle/test.csv\", header = 0)"
   ]
  },
  {
   "cell_type": "code",
   "execution_count": 6,
   "metadata": {
    "ExecuteTime": {
     "end_time": "2016-04-04T01:16:26.284724",
     "start_time": "2016-04-04T01:16:26.281664"
    },
    "collapsed": false
   },
   "outputs": [
    {
     "name": "stdout",
     "output_type": "stream",
     "text": [
      "Kaggle Train count: 114321\n",
      "Kaggle Test count:  114393\n"
     ]
    }
   ],
   "source": [
    "print \"Kaggle Train count: \" + str(len(kaggleTrain))\n",
    "print \"Kaggle Test count:  \" + str(len(kaggleTest))"
   ]
  },
  {
   "cell_type": "markdown",
   "metadata": {},
   "source": [
    "## Columns listing"
   ]
  },
  {
   "cell_type": "code",
   "execution_count": 7,
   "metadata": {
    "ExecuteTime": {
     "end_time": "2016-04-04T01:16:26.420726",
     "start_time": "2016-04-04T01:16:26.286040"
    },
    "collapsed": false
   },
   "outputs": [
    {
     "name": "stdout",
     "output_type": "stream",
     "text": [
      "We have the ID columns, type: int64\n",
      "We have the target columns, type: int64\n",
      "\n",
      "dummies 10\n",
      "int64 4\n",
      "object 19\n",
      "float64 108\n"
     ]
    }
   ],
   "source": [
    "#print train.schema.fields\n",
    "columnsDict = {}\n",
    "columnsDict = defaultdict(lambda: list(), columnsDict)\n",
    "for col in kaggleTrain.columns:\n",
    "    typeKey = str(kaggleTrain[col].dtype)\n",
    "    colName = col\n",
    "    \n",
    "    if colName == 'ID':\n",
    "        print \"We have the ID columns, type: \" + typeKey\n",
    "        continue\n",
    "    if colName == 'target':\n",
    "        print \"We have the target columns, type: \" + typeKey\n",
    "        continue\n",
    "        \n",
    "    if typeKey == \"object\":\n",
    "        if len(kaggleTrain[col].unique()) < 9 : # Because v71 has 9 distinct value and some missing in the testing set\n",
    "            columnsDict['dummies'].append(colName)\n",
    "            \n",
    "\n",
    "    columnsDict[typeKey].append(colName)\n",
    "\n",
    "print \"\"\n",
    "for ct, cl in columnsDict.iteritems():\n",
    "    print ct + \" \" + str(len(cl))"
   ]
  },
  {
   "cell_type": "code",
   "execution_count": 8,
   "metadata": {
    "ExecuteTime": {
     "end_time": "2016-04-04T01:16:27.129360",
     "start_time": "2016-04-04T01:16:26.422186"
    },
    "collapsed": true
   },
   "outputs": [],
   "source": [
    "# Add dummies\n",
    "kaggleTrainDummies = pd.get_dummies(kaggleTrain[columnsDict['dummies']])\n",
    "kaggleTrain = pd.concat([kaggleTrain, kaggleTrainDummies], axis=1)\n",
    "\n",
    "kaggleTestDummies = pd.get_dummies(kaggleTest[columnsDict['dummies']])\n",
    "kaggleTest = pd.concat([kaggleTest, kaggleTestDummies], axis=1)"
   ]
  },
  {
   "cell_type": "code",
   "execution_count": 9,
   "metadata": {
    "ExecuteTime": {
     "end_time": "2016-04-04T01:16:27.134943",
     "start_time": "2016-04-04T01:16:27.131066"
    },
    "collapsed": false
   },
   "outputs": [
    {
     "name": "stdout",
     "output_type": "stream",
     "text": [
      "set([])\n",
      "set([])\n"
     ]
    }
   ],
   "source": [
    "print set(kaggleTrainDummies.columns) - set(kaggleTestDummies.columns)\n",
    "print set(kaggleTestDummies.columns) - set(kaggleTrainDummies.columns)"
   ]
  },
  {
   "cell_type": "markdown",
   "metadata": {},
   "source": [
    "# Split"
   ]
  },
  {
   "cell_type": "code",
   "execution_count": 10,
   "metadata": {
    "ExecuteTime": {
     "end_time": "2016-04-04T01:16:27.616051",
     "start_time": "2016-04-04T01:16:27.136116"
    },
    "collapsed": true
   },
   "outputs": [],
   "source": [
    "train, test = train_test_split(kaggleTrain, test_size = 0.2)"
   ]
  },
  {
   "cell_type": "code",
   "execution_count": 11,
   "metadata": {
    "ExecuteTime": {
     "end_time": "2016-04-04T01:16:27.736972",
     "start_time": "2016-04-04T01:16:27.617163"
    },
    "collapsed": false
   },
   "outputs": [
    {
     "data": {
      "text/plain": [
       "v3          3\n",
       "v22     16628\n",
       "v24         5\n",
       "v30         7\n",
       "v31         3\n",
       "v47        10\n",
       "v52        12\n",
       "v56       119\n",
       "v66         3\n",
       "v71         9\n",
       "v74         3\n",
       "v75         4\n",
       "v79        18\n",
       "v91         7\n",
       "v107        7\n",
       "v110        3\n",
       "v112       22\n",
       "v113       35\n",
       "v125       90\n",
       "dtype: int64"
      ]
     },
     "execution_count": 11,
     "metadata": {},
     "output_type": "execute_result"
    }
   ],
   "source": [
    "train[columnsDict['object']].apply(pd.Series.nunique)"
   ]
  },
  {
   "cell_type": "markdown",
   "metadata": {},
   "source": [
    "# Prepare X and y"
   ]
  },
  {
   "cell_type": "code",
   "execution_count": 12,
   "metadata": {
    "ExecuteTime": {
     "end_time": "2016-04-04T01:16:27.752162",
     "start_time": "2016-04-04T01:16:27.739142"
    },
    "collapsed": false
   },
   "outputs": [
    {
     "name": "stdout",
     "output_type": "stream",
     "text": [
      "112\n"
     ]
    }
   ],
   "source": [
    "print len(columnsDict['float64']) +  len(columnsDict['int64'])"
   ]
  },
  {
   "cell_type": "code",
   "execution_count": 13,
   "metadata": {
    "ExecuteTime": {
     "end_time": "2016-04-04T01:16:28.713092",
     "start_time": "2016-04-04T01:16:27.753791"
    },
    "collapsed": false
   },
   "outputs": [
    {
     "name": "stdout",
     "output_type": "stream",
     "text": [
      "Number of missing value per column in the Testing set\n",
      "defaultdict(<function <lambda> at 0x7f1365b2b500>, {'v56': {'nbrMissing': 8, 'nbrDistinct': 123}, 'v22': {'nbrMissing': 5209, 'nbrDistinct': 18211}, 'v71': {'nbrMissing': 3, 'nbrDistinct': 9}, 'v113': {'nbrMissing': 1, 'nbrDistinct': 37}})\n"
     ]
    }
   ],
   "source": [
    "catEncoders = dict()\n",
    "catProbability = dict()\n",
    "nbrTestMissing = dict()\n",
    "nbrTestMissing = defaultdict(lambda: {\"nbrMissing\": 0, 'nbrDistinct': 0}, nbrTestMissing)\n",
    "# Create the mapping from categorie to int\n",
    "for col in columnsDict['object']:\n",
    "    # Create dictionnary\n",
    "    uniqueValues = kaggleTrain[col].unique()\n",
    "    dictValues = dict()\n",
    "    dictValues = defaultdict(lambda: -1, dictValues)       \n",
    "    for v in uniqueValues:\n",
    "        if v is nan:\n",
    "            continue\n",
    "        if not v in dictValues:\n",
    "            dictValues[v] = len(dictValues)\n",
    "    dictValues[nan] = -1\n",
    "    \n",
    "    \n",
    "    # Cat probability\n",
    "    df = pd.pivot_table(kaggleTrain, values='target', columns=[col], aggfunc=np.average) # index=['A', 'B']\n",
    "    dictProba = df.to_dict()\n",
    "    dictProba = defaultdict(lambda: -1, dictProba)\n",
    "    \n",
    "    # If value is in the training but not in the testing, then map to missing -1\n",
    "    uniqueValuesTesting = kaggleTest[col].unique()\n",
    "    for v in set(uniqueValuesTesting) - set(uniqueValues):\n",
    "        dictValues[v] = -1\n",
    "        dictProba[v] = -1\n",
    "        nbrTestMissing[col] = {\"nbrMissing\": nbrTestMissing[col]['nbrMissing'] + 1, 'nbrDistinct': len(uniqueValues)}\n",
    "\n",
    "    catEncoders[col] = dictValues\n",
    "    catProbability[col] = dictProba\n",
    "print \"Number of missing value per column in the Testing set\"\n",
    "print nbrTestMissing"
   ]
  },
  {
   "cell_type": "code",
   "execution_count": 14,
   "metadata": {
    "ExecuteTime": {
     "end_time": "2016-04-04T01:16:28.717902",
     "start_time": "2016-04-04T01:16:28.714591"
    },
    "collapsed": false
   },
   "outputs": [
    {
     "name": "stdout",
     "output_type": "stream",
     "text": [
      "defaultdict(<function <lambda> at 0x7f1365b2b668>, {'BD': 0.92682926829268297, 'BE': 1.0, 'BF': 0.92592592592592593, 'BG': 0.79032258064516125, 'BA': 0.91116751269035534, 'AN': 0.5561797752808989, 'BC': 1.0, 'BL': 0.73361344537815121, 'BM': 0.95781071835803877, 'BN': 0.66666666666666663, 'BO': 1.0, 'BH': 0.9152542372881356, 'BI': 0.97938144329896903, 'BJ': 0.8511727078891258, 'BK': 0.86427795874049951, 'BT': 1.0, 'BU': 0.94736842105263153, 'BV': 0.7793575566087414, 'BW': 0.77103338912871111, 'BP': 1.0, 'BQ': 0.97077922077922074, 'BR': 1.0, 'BS': 0.92063492063492058, 'BX': 0.79235760634462871, 'BY': 0.85245901639344257, 'BZ': 0.71898522442152213, 'CP': 0.90133779264214042, 'AZ': 0.85642317380352639, 'BB': -1, 'AW': 0.83796514366462549, 'CK': 1.0, 'CJ': 1.0, 'CI': 0.81081081081081086, 'B': 1.0, 'CO': 0.80303030303030298, 'D': 1.0, 'CM': 0.63358778625954193, 'CL': 0.88888888888888884, 'CC': 0.6143790849673203, 'H': 1.0, 'CA': 0.58064516129032262, 'J': -1, 'CG': 1.0, 'L': 1.0, 'CE': 1.0, 'N': 0.81746031746031744, 'P': 0.53331999199519708, 'CY': 0.87597911227154046, 'CX': 1.0, 'T': 1.0, 'V': 0.91130670277589709, 'CS': 0.88968481375358166, 'X': 1.0, 'CQ': 0.83333333333333337, 'Z': 0.92462311557788945, 'CW': 0.77777777777777779, 'CV': 1.0, 'CU': -1, 'CT': 1.0, 'CR': -1, 'AY': 0.6470588235294118, 'AC': 1.0, 'DN': 0.79012345679012341, 'DO': 0.62147854036679906, 'DL': 0.88888888888888884, 'DM': 0.92156862745098034, 'DJ': 0.74819277108433735, 'DK': 0.81395348837209303, 'DH': 0.82588597842835132, 'DI': 0.8613494539781591, 'DF': 0.60053619302949057, 'DG': 0.84615384615384615, 'DD': 1.0, 'DE': 0.88888888888888884, 'DB': 1.0, 'DC': 1.0, 'DA': 0.82132564841498557, 'CH': 0.72580645161290325, 'DZ': 0.94999999999999996, 'DX': 0.6959427207637231, 'DY': 0.63673262303399292, 'DV': 0.73333333333333328, 'DW': 0.83333333333333337, 'DT': 1.0, 'DU': 0.53333333333333333, 'DR': 0.88197424892703857, 'DS': 0.75875743555849307, 'DP': 0.74607273509791261, 'CN': 0.62723631508678235, 'AG': 0.81931608133086875, 'F': 0.90909090909090906, 'AM': 1.0, 'AA': 0.8833333333333333, 'AI': 0.88544891640866874, 'CB': 0.92307692307692313, 'DQ': 0.55555555555555558, 'AE': 0.5, 'K': -1, 'A': 0.9838709677419355, 'C': 0.92380952380952386, 'AB': 1.0, 'E': 1.0, 'AD': -1, 'G': 0.66883116883116878, 'AF': 0.76772823779193211, 'I': 1.0, 'AH': 0.88, 'AK': 0.79710144927536231, 'AJ': 1.0, 'M': 1.0, 'AL': 0.96376811594202894, 'O': 1.0, 'CF': 0.94326241134751776, 'Q': 1.0, 'AP': 1.0, 'AS': 0.77864583333333337, 'AR': 0.90384615384615385, 'U': 0.85134328358208955, 'AO': 0.81042654028436023, 'W': 1.0, 'AV': 1.0, 'Y': 0.59872611464968151, 'AX': 1.0, 'CD': 1.0, 'AQ': -1, 'CZ': 1.0, 'S': -1, 'R': 0.79495798319327726, 'AU': 0.82352941176470584, 'AT': 0.75})\n"
     ]
    }
   ],
   "source": [
    "#print catEncoders['v56']\n",
    "print catProbability['v56']"
   ]
  },
  {
   "cell_type": "code",
   "execution_count": 15,
   "metadata": {
    "ExecuteTime": {
     "end_time": "2016-04-04T01:16:28.740364",
     "start_time": "2016-04-04T01:16:28.719008"
    },
    "collapsed": false
   },
   "outputs": [],
   "source": [
    "# Choose Encoder or Proba\n",
    "catForEncoders = ['v22', 'v56']\n",
    "catEncoders = { your_key: catEncoders[your_key] for your_key in catForEncoders }\n",
    "catProbability = { your_key: catProbability[your_key] for your_key in set(catProbability.keys()) - set(catForEncoders) }"
   ]
  },
  {
   "cell_type": "code",
   "execution_count": 16,
   "metadata": {
    "ExecuteTime": {
     "end_time": "2016-04-04T01:16:28.829899",
     "start_time": "2016-04-04T01:16:28.741582"
    },
    "collapsed": true
   },
   "outputs": [],
   "source": [
    "def prepareX(df, isTrainning):\n",
    "    colsToAdd = columnsDict['float64'] + columnsDict['int64']\n",
    "    \n",
    "    dfX = df[colsToAdd]\n",
    "    dfX = dfX.fillna(-1) # -1 is a good missing value encoder because everything is >= 0\n",
    "    \n",
    "    for col in colsToAdd:\n",
    "        dfX[col+\"_m\"] = df[col]\n",
    "        \n",
    "    # Add categorical features, and replace categories with int\n",
    "    dfX[columnsDict['object']] = df[columnsDict['object']]\n",
    "    #dfX = dfX.replace(catEncoders) # catEncoders\n",
    "    #dfX = dfX.replace(catProbability) # catEncoders\n",
    "    \n",
    "    # Add dummies\n",
    "    dfX[kaggleTrainDummies.columns] = df[kaggleTrainDummies.columns]\n",
    "    \n",
    "    # Features selection\n",
    "    if True:\n",
    "        featToKeep = ['v50', 'v66', 'v113', 'v47', 'v110', 'v10', 'v31', 'v129', 'v12', 'v79', 'v56', 'v14', 'v62', 'v114_m', 'v34_m', 'v40_m', 'v21_m', 'v24', 'v38_m', 'v22', 'v125', 'v72_m', 'v123_m', 'v88_m', 'v28_m', 'v82_m', 'v58_m', 'v100_m', 'v68_m', 'v131', 'v1_m', 'v124_m', 'v45_m', 'v46', 'v37_m', 'v119_m', 'v89_m', 'v98_m', 'v36', 'v85_m', 'v120_m', 'v5_m', 'v16', 'v54_m', 'v35', 'v63_m', 'v6_m', 'v78_m', 'v99_m', 'v126_m', 'v112', 'v97_m', 'v94', 'v122_m', 'v57_m', 'v117_m', 'v2_m', 'v86_m', 'v51_m', 'v84_m', 'v11_m', 'v4_m', 'v130_m', 'v42', 'v18_m', 'v53_m', 'v115_m', 'v118', 'v101_m', 'v9_m', 'v61_m', 'v103_m', 'v127_m', 'v87_m', 'v8_m', 'v7_m', 'v32_m', 'v90_m', 'v81_m', 'v59_m', 'v27_m', 'v128_m', 'v20_m', 'v26_m', 'v105_m', 'v108_m', 'v30', 'v73_m', 'v13_m', 'v102_m', 'v25_m', 'v52', 'v121_m', 'v93_m', 'v41', 'v69_m', 'v95_m', 'v104_m', 'v116_m', 'v80_m', 'v111_m', 'v15_m', 'v43_m', 'v70_m', 'v55_m', 'v106_m', 'v60_m', 'v39_m', 'v19_m', 'v33_m', 'v83_m', 'v76_m', 'v44_m', 'v77_m', 'v48_m', 'v65_m', 'v109_m', 'v67_m', 'v29_m', 'v17_m', 'v49_m', 'v92_m', 'v23', 'v96_m', 'v64_m', 'v71', 'v3', 'v107', 'v91', 'v74', 'v75']\n",
    "        featToKeep = ['v50_m', 'v56', 'v66', 'v12_m', 'v114_m', 'v10_m', 'v34', 'v40', 'v66_C', 'v14', 'v79', 'v21_m', 'v22', 'v47', 'v125', 'v110', 'v110_B', 'v66_B', 'v31', 'v113', 'v110_A', 'v31_A', 'v112', 'v66_A', 'v52', 'v129', 'v62', 'v24', 'v24_E', 'v31_B', 'v107', 'v91', 'v30', 'v82_m', 'v115_m', 'v88_m', 'v6_m', 'v120_m', 'v119_m', 'v69_m', 'v124_m', 'v102_m', 'v24_D', 'v90', 'v57_m', 'v68_m', 'v1_m', 'v78_m', 'v99_m', 'v45_m', 'v16_m', 'v28_m', 'v126_m', 'missing', 'v100', 'v87', 'v131_m', 'v98_m', 'v70_m', 'v36', 'v39_m', 'v108', 'v37_m', 'v81', 'v53_m', 'v85_m', 'v117_m', 'v58_m', 'v32', 'v27_m', 'v19_m', 'v122_m', 'v44_m', 'v42_m', 'v86_m', 'v7_m', 'v127_m', 'v11_m', 'v55_m', 'v9_m', 'v18_m', 'v103_m', 'v2_m', 'v123_m', 'v109_m', 'v80_m', 'v54_m', 'v25_m', 'v26', 'v73_m', 'v15_m', 'v97_m', 'v63_m', 'v20_m', 'v4_m', 'v89_m', 'v35_m', 'v118_m', 'v94_m', 'v5_m', 'v8_m', 'v116_m', 'v46_m', 'v104_m', 'v83', 'v49', 'v111_m', 'v105_m', 'v51', 'v59_m', 'v43_m', 'v13_m', 'v95_m', 'v128_m', 'v84_m', 'v60_m', 'v101_m', 'v61_m', 'v130_m', 'v121_m', 'v92_m', 'v77_m', 'v24_C', 'v67_m', 'v65_m', 'v33_m', 'v76', 'v93_m', 'v41_m', 'v29_m', 'v96_m', 'v48_m', 'v17_m', 'v106_m', 'v71', 'v64_m', 'v72_m', 'v75', 'v75_D', 'v75_B', 'v30_C', 'v23', 'v91_A', 'v107_E', 'v107_B', 'v107_C', 'v91_G', 'v38', 'v91_B', 'v107_D', 'v91_C', 'v31_C', 'v91_F', 'v107_A', 'v24_B', 'v3', 'v30_G', 'v74_B', 'v74', 'v30_D', 'v3_C', 'v110_C', 'v24_A', 'v74_C', 'v30_E', 'v107_F', 'v91_E', 'v30_F', 'v30_A', 'v3_A', 'v91_D', 'v3_B', 'v30_B', 'v107_G', 'v75_C', 'v75_A', 'v74_A']\n",
    "        #featToKeep = featToKeep[:len(featToKeep)-50] # Remove the last 50 less important feature\n",
    "        featToKeep = [x for x in featToKeep if x not in columnsDict['dummies']] # Remove dummy columns\n",
    "        featToKeep = [x for x in featToKeep if x in dfX.columns] # Remove unknow columns\n",
    "        featToKeep = featToKeep + kaggleTrainDummies.columns.tolist() # Add dummies columns\n",
    "        dfX = dfX[featToKeep]\n",
    "    \n",
    "    # Features creation:\n",
    "    dfX['missing'] = df.isnull().sum(axis=1)\n",
    "    \n",
    "    finish(\"Prepare X finished!\")\n",
    "    return dfX"
   ]
  },
  {
   "cell_type": "code",
   "execution_count": 17,
   "metadata": {
    "ExecuteTime": {
     "end_time": "2016-04-04T01:16:28.857735",
     "start_time": "2016-04-04T01:16:28.831924"
    },
    "collapsed": true
   },
   "outputs": [],
   "source": [
    "def prepareY(df):   \n",
    "    return df[[\"target\"]].values.ravel()"
   ]
  },
  {
   "cell_type": "code",
   "execution_count": 18,
   "metadata": {
    "ExecuteTime": {
     "end_time": "2016-04-04T01:16:31.972010",
     "start_time": "2016-04-04T01:16:28.859868"
    },
    "collapsed": false
   },
   "outputs": [],
   "source": [
    "X_train = prepareX(train, True)\n",
    "y_train = prepareY(train)"
   ]
  },
  {
   "cell_type": "code",
   "execution_count": 19,
   "metadata": {
    "ExecuteTime": {
     "end_time": "2016-04-04T01:16:34.257316",
     "start_time": "2016-04-04T01:16:31.973801"
    },
    "collapsed": false
   },
   "outputs": [],
   "source": [
    "X_test = prepareX(test, False)\n",
    "y_test = prepareY(test)"
   ]
  },
  {
   "cell_type": "code",
   "execution_count": 20,
   "metadata": {
    "ExecuteTime": {
     "end_time": "2016-04-04T01:16:34.700102",
     "start_time": "2016-04-04T01:16:34.259571"
    },
    "collapsed": false
   },
   "outputs": [
    {
     "name": "stdout",
     "output_type": "stream",
     "text": [
      "178\n",
      "212\n",
      "212\n",
      "212\n"
     ]
    }
   ],
   "source": [
    "colsMissingValues = X_train.isnull().sum()\n",
    "print len(train.columns)\n",
    "print len(X_train.columns)\n",
    "print len(X_test.columns)\n",
    "#print set(train.columns) - set(X_train.columns)\n",
    "print len(colsMissingValues)"
   ]
  },
  {
   "cell_type": "markdown",
   "metadata": {},
   "source": [
    "# Model 1 - Stacking\n",
    "TODO = Cross Validation ?"
   ]
  },
  {
   "cell_type": "code",
   "execution_count": 21,
   "metadata": {
    "ExecuteTime": {
     "end_time": "2016-04-04T01:16:34.933912",
     "start_time": "2016-04-04T01:16:34.701207"
    },
    "collapsed": true
   },
   "outputs": [],
   "source": [
    "X_m1_train, X_m2_train, y_m1_train, y_m2_train = train_test_split(X_train, y_train, test_size = 0.5)"
   ]
  },
  {
   "cell_type": "code",
   "execution_count": 22,
   "metadata": {
    "ExecuteTime": {
     "end_time": "2016-04-04T01:16:34.939567",
     "start_time": "2016-04-04T01:16:34.935349"
    },
    "collapsed": false
   },
   "outputs": [],
   "source": [
    "import imputerproba\n",
    "reload(imputerproba)\n",
    "from imputerproba import ImputerProba\n",
    "model1 = ImputerProba(columnsEncod=[],\n",
    "                      columnsProba=catProbability.keys(),\n",
    "                      verbose=1)"
   ]
  },
  {
   "cell_type": "code",
   "execution_count": 23,
   "metadata": {
    "ExecuteTime": {
     "end_time": "2016-04-04T01:16:35.069309",
     "start_time": "2016-04-04T01:16:34.941085"
    },
    "collapsed": false
   },
   "outputs": [
    {
     "name": "stdout",
     "output_type": "stream",
     "text": [
      "Fit, lengh X: 45728\n",
      "Column proba: v30 is not in X, skip.\n",
      "Column proba: v31 is not in X, skip.\n",
      "Column proba: v91 is not in X, skip.\n",
      "Column proba: v24 is not in X, skip.\n",
      "Column proba: v74 is not in X, skip.\n",
      "Column proba: v66 is not in X, skip.\n",
      "Column proba: v110 is not in X, skip.\n",
      "Column proba: v107 is not in X, skip.\n",
      "Column proba: v3 is not in X, skip.\n",
      "Column proba: v75 is not in X, skip.\n"
     ]
    },
    {
     "data": {
      "text/plain": [
       "<imputerproba.ImputerProba instance at 0x7f1364507fc8>"
      ]
     },
     "execution_count": 23,
     "metadata": {},
     "output_type": "execute_result"
    }
   ],
   "source": [
    "model1.fit(X_m1_train, y_m1_train)"
   ]
  },
  {
   "cell_type": "code",
   "execution_count": 24,
   "metadata": {
    "ExecuteTime": {
     "end_time": "2016-04-04T01:16:36.321198",
     "start_time": "2016-04-04T01:16:35.070939"
    },
    "collapsed": false
   },
   "outputs": [
    {
     "name": "stdout",
     "output_type": "stream",
     "text": [
      "Transform\n",
      "Column proba: v30 is not in X, skip.\n",
      "Column proba: v31 is not in X, skip.\n",
      "Column proba: v91 is not in X, skip.\n",
      "Column proba: v24 is not in X, skip.\n",
      "Column proba: v74 is not in X, skip.\n",
      "Column proba: v66 is not in X, skip.\n",
      "Column proba: v110 is not in X, skip.\n",
      "Column proba: v107 is not in X, skip.\n",
      "Column proba: v3 is not in X, skip.\n",
      "Column proba: v75 is not in X, skip.\n"
     ]
    }
   ],
   "source": [
    "X_m2_train = model1.transform(X_m2_train)"
   ]
  },
  {
   "cell_type": "code",
   "execution_count": 25,
   "metadata": {
    "ExecuteTime": {
     "end_time": "2016-04-04T01:16:36.973989",
     "start_time": "2016-04-04T01:16:36.322607"
    },
    "collapsed": false
   },
   "outputs": [
    {
     "name": "stdout",
     "output_type": "stream",
     "text": [
      "Transform\n",
      "Column proba: v30 is not in X, skip.\n",
      "Column proba: v31 is not in X, skip.\n",
      "Column proba: v91 is not in X, skip.\n",
      "Column proba: v24 is not in X, skip.\n",
      "Column proba: v74 is not in X, skip.\n",
      "Column proba: v66 is not in X, skip.\n",
      "Column proba: v110 is not in X, skip.\n",
      "Column proba: v107 is not in X, skip.\n",
      "Column proba: v3 is not in X, skip.\n",
      "Column proba: v75 is not in X, skip.\n"
     ]
    }
   ],
   "source": [
    "X_m2_test = model1.transform(X_test)"
   ]
  },
  {
   "cell_type": "markdown",
   "metadata": {},
   "source": [
    "# Model"
   ]
  },
  {
   "cell_type": "code",
   "execution_count": 26,
   "metadata": {
    "ExecuteTime": {
     "end_time": "2016-04-04T01:16:36.978953",
     "start_time": "2016-04-04T01:16:36.975561"
    },
    "collapsed": false
   },
   "outputs": [
    {
     "name": "stdout",
     "output_type": "stream",
     "text": [
      "14\n"
     ]
    }
   ],
   "source": [
    "sqrtNbrFeat = int(sqrt(len(X_m2_train.columns)))\n",
    "print sqrtNbrFeat"
   ]
  },
  {
   "cell_type": "code",
   "execution_count": 27,
   "metadata": {
    "ExecuteTime": {
     "end_time": "2016-04-04T01:16:36.995791",
     "start_time": "2016-04-04T01:16:36.980577"
    },
    "collapsed": true
   },
   "outputs": [],
   "source": [
    "#.setNumTrees(150).setMaxDepth(6)\n",
    "clf = RandomForestClassifier(n_estimators=150,\n",
    "                             n_jobs=-1,\n",
    "                             max_depth=10,\n",
    "                             #max_features=sqrtNbrFeat,\n",
    "                             criterion='gini') #  max_depth=7"
   ]
  },
  {
   "cell_type": "raw",
   "metadata": {
    "ExecuteTime": {
     "end_time": "2016-03-31T11:58:28.730313",
     "start_time": "2016-03-31T11:58:28.726551"
    },
    "collapsed": true
   },
   "source": [
    "clf = ExtraTreesClassifier(n_estimators=850, max_features=60, criterion='entropy', min_samples_split=4,\n",
    "                            max_depth=40, min_samples_leaf=2, n_jobs=-1)     "
   ]
  },
  {
   "cell_type": "code",
   "execution_count": 28,
   "metadata": {
    "ExecuteTime": {
     "end_time": "2016-04-04T01:16:37.015071",
     "start_time": "2016-04-04T01:16:36.997089"
    },
    "collapsed": true
   },
   "outputs": [],
   "source": [
    "#clf.fit(X_m2_train, y_train)"
   ]
  },
  {
   "cell_type": "markdown",
   "metadata": {},
   "source": [
    "# Pipeline"
   ]
  },
  {
   "cell_type": "code",
   "execution_count": 29,
   "metadata": {
    "ExecuteTime": {
     "end_time": "2016-04-04T01:16:37.030558",
     "start_time": "2016-04-04T01:16:37.017501"
    },
    "collapsed": false
   },
   "outputs": [],
   "source": [
    "imputer = Imputer(missing_values=\"NaN\",\n",
    "                  strategy=\"mean\",\n",
    "                  axis=0)"
   ]
  },
  {
   "cell_type": "code",
   "execution_count": 30,
   "metadata": {
    "ExecuteTime": {
     "end_time": "2016-04-04T01:16:37.046617",
     "start_time": "2016-04-04T01:16:37.031802"
    },
    "collapsed": false
   },
   "outputs": [
    {
     "data": {
      "text/plain": [
       "['v56', 'v22']"
      ]
     },
     "execution_count": 30,
     "metadata": {},
     "output_type": "execute_result"
    }
   ],
   "source": [
    "catEncoders.keys()"
   ]
  },
  {
   "cell_type": "code",
   "execution_count": 31,
   "metadata": {
    "ExecuteTime": {
     "end_time": "2016-04-04T01:16:37.068790",
     "start_time": "2016-04-04T01:16:37.047873"
    },
    "collapsed": false
   },
   "outputs": [],
   "source": [
    "import imputerproba\n",
    "reload(imputerproba)\n",
    "from imputerproba import ImputerProba\n",
    "imputerProba = ImputerProba(columnsEncod=(catEncoders.keys() + [x+'_m' for x in catEncoders.keys()]),\n",
    "                            columnsProba=[],\n",
    "                            verbose=1)"
   ]
  },
  {
   "cell_type": "code",
   "execution_count": 32,
   "metadata": {
    "ExecuteTime": {
     "end_time": "2016-04-04T01:16:37.091406",
     "start_time": "2016-04-04T01:16:37.070486"
    },
    "collapsed": false
   },
   "outputs": [
    {
     "data": {
      "text/plain": [
       "45728"
      ]
     },
     "execution_count": 32,
     "metadata": {},
     "output_type": "execute_result"
    }
   ],
   "source": [
    "len(X_m2_train)"
   ]
  },
  {
   "cell_type": "code",
   "execution_count": 33,
   "metadata": {
    "ExecuteTime": {
     "end_time": "2016-04-04T01:16:37.106478",
     "start_time": "2016-04-04T01:16:37.093411"
    },
    "collapsed": false
   },
   "outputs": [],
   "source": [
    "estimator = Pipeline([(\"imputerProba\", imputerProba),\n",
    "                      (\"imputer\", imputer),\n",
    "                      (\"forest\", clf)\n",
    "                     ])"
   ]
  },
  {
   "cell_type": "code",
   "execution_count": 34,
   "metadata": {
    "ExecuteTime": {
     "end_time": "2016-04-04T01:18:05.696958",
     "start_time": "2016-04-04T01:16:37.108460"
    },
    "collapsed": false,
    "scrolled": true
   },
   "outputs": [
    {
     "name": "stdout",
     "output_type": "stream",
     "text": [
      "Fit, lengh X: 45728\n",
      "Column encod: v56_m is not in X, skip.\n",
      "Column encod: v22_m is not in X, skip.\n",
      "Transform\n",
      "Column encod: v56_m is not in X, skip.\n",
      "Column encod: v22_m is not in X, skip.\n"
     ]
    }
   ],
   "source": [
    "estimator.fit(X_m2_train, y_m2_train)\n",
    "finish()"
   ]
  },
  {
   "cell_type": "markdown",
   "metadata": {},
   "source": [
    "## Scoring"
   ]
  },
  {
   "cell_type": "code",
   "execution_count": 35,
   "metadata": {
    "ExecuteTime": {
     "end_time": "2016-04-04T01:20:17.467980",
     "start_time": "2016-04-04T01:18:05.699168"
    },
    "collapsed": false,
    "scrolled": false
   },
   "outputs": [
    {
     "name": "stdout",
     "output_type": "stream",
     "text": [
      "Transform\n",
      "Column encod: v56_m is not in X, skip.\n",
      "Column encod: v22_m is not in X, skip.\n",
      "Transform\n",
      "Column encod: v56_m is not in X, skip.\n",
      "Column encod: v22_m is not in X, skip.\n",
      "Training score: estimator+missingFeat+dummy\n",
      "0.783283764871\n",
      "0.444215642437 compare to best score: -0.0166609392073\n"
     ]
    }
   ],
   "source": [
    "evaluate(estimator, X_m2_train, y_m2_train, \"Training\", \"estimator+missingFeat+dummy\")"
   ]
  },
  {
   "cell_type": "code",
   "execution_count": 36,
   "metadata": {
    "ExecuteTime": {
     "end_time": "2016-04-04T01:21:14.529679",
     "start_time": "2016-04-04T01:20:17.470168"
    },
    "collapsed": false
   },
   "outputs": [
    {
     "name": "stdout",
     "output_type": "stream",
     "text": [
      "Transform\n",
      "Column encod: v56_m is not in X, skip.\n",
      "Column encod: v22_m is not in X, skip.\n",
      "Transform\n",
      "Column encod: v56_m is not in X, skip.\n",
      "Column encod: v22_m is not in X, skip.\n",
      "Testing score: estimator+missingFeat+dummy\n",
      "0.775770828778\n",
      "0.483604776289 compare to best score: 0.022728194645\n"
     ]
    }
   ],
   "source": [
    "evaluate(estimator, X_m2_test, y_test, \"Testing\", \"estimator+missingFeat+dummy\")"
   ]
  },
  {
   "cell_type": "markdown",
   "metadata": {},
   "source": [
    "## Features Analysis"
   ]
  },
  {
   "cell_type": "code",
   "execution_count": 37,
   "metadata": {
    "ExecuteTime": {
     "end_time": "2016-04-04T01:21:14.568216",
     "start_time": "2016-04-04T01:21:14.531832"
    },
    "collapsed": false
   },
   "outputs": [],
   "source": [
    "featToKeep = []\n",
    "def feature_analysis(model, X):\n",
    "    importancePd = pd.DataFrame(X.columns, columns=[\"feature\"])\n",
    "    importancePd[\"importance\"] = model.feature_importances_\n",
    "    \n",
    "    importancePd = importancePd.sort(['importance'], ascending=[0])\n",
    "    importancePd = importancePd.set_index(['feature'])\n",
    "    \n",
    "    print importancePd.head(n=10)\n",
    "\n",
    "    plt.figure();\n",
    "    pylab.rcParams['figure.figsize'] = (30, 3)\n",
    "    importancePd[:50].plot(kind='bar');\n",
    "    importancePd[50:200].plot(kind='bar');\n",
    "    plt.axhline(0, color='k')\n",
    "           \n",
    "    featToKeep = []\n",
    "    for index, row in importancePd.iterrows():\n",
    "        #print row['importance']\n",
    "        #print index\n",
    "        \n",
    "        if not \"_m\" in index:\n",
    "            indexWithM = index + \"_m\"\n",
    "            if index not in importancePd.columns:\n",
    "                continue\n",
    "            imp = importancePd[importancePd.index==index].importance.item()\n",
    "            impWithM = importancePd[importancePd.index==indexWithM]\n",
    "            if len(impWithM):\n",
    "                impWithM = impWithM.importance.item()\n",
    "            \n",
    "                if impWithM <= imp:\n",
    "                    #print index + \" is better        impNotM: \" + str(impWithM) + \" <= imp: \" + str(imp)\n",
    "                    featToKeep.append(index)\n",
    "                else:\n",
    "                    #print indexWithM + \" is better   impNotM: \" + str(impWithM) + \" > imp: \" + str(imp)\n",
    "                    featToKeep.append(indexWithM)\n",
    "            else:\n",
    "                featToKeep.append(index)\n",
    "                \n",
    "    print \"Features to keep (use only if all the features are here from prepareX):\"\n",
    "    print featToKeep\n",
    "    "
   ]
  },
  {
   "cell_type": "code",
   "execution_count": 38,
   "metadata": {
    "ExecuteTime": {
     "end_time": "2016-04-04T01:21:16.686619",
     "start_time": "2016-04-04T01:21:14.569782"
    },
    "collapsed": false,
    "scrolled": false
   },
   "outputs": [
    {
     "name": "stdout",
     "output_type": "stream",
     "text": [
      "         importance\n",
      "feature            \n",
      "v50_m      0.153844\n",
      "v79        0.033723\n",
      "v12_m      0.031284\n",
      "v10_m      0.029604\n",
      "v66_C      0.021286\n",
      "v66_C      0.021065\n",
      "v56        0.020195\n",
      "v31_A      0.018759\n",
      "v114_m     0.018392\n",
      "v47        0.017677\n",
      "Features to keep (use only if all the features are here from prepareX):\n",
      "[]\n"
     ]
    },
    {
     "data": {
      "text/plain": [
       "<matplotlib.figure.Figure at 0x7f13644f6310>"
      ]
     },
     "metadata": {},
     "output_type": "display_data"
    },
    {
     "data": {
      "image/png": "[encoded data removed]",
      "text/plain": [
       "<matplotlib.figure.Figure at 0x7f1365a0bc50>"
      ]
     },
     "metadata": {},
     "output_type": "display_data"
    },
    {
     "data": {
      "image/png": "[encoded data removed]",
      "text/plain": [
       "<matplotlib.figure.Figure at 0x7f1365a0bbd0>"
      ]
     },
     "metadata": {},
     "output_type": "display_data"
    }
   ],
   "source": [
    "feature_analysis(clf, X_m2_train)"
   ]
  },
  {
   "cell_type": "markdown",
   "metadata": {},
   "source": [
    "# Grid search"
   ]
  },
  {
   "cell_type": "code",
   "execution_count": 39,
   "metadata": {
    "ExecuteTime": {
     "end_time": "2016-04-04T01:21:16.697039",
     "start_time": "2016-04-04T01:21:16.688009"
    },
    "collapsed": false
   },
   "outputs": [],
   "source": [
    "# Utility function to report best scores\n",
    "def report(grid_scores, n_top=3, save=False):\n",
    "    top_scores = sorted(grid_scores, key=itemgetter(1), reverse=True)[:n_top]\n",
    "    for i, score in enumerate(top_scores):\n",
    "        print(\"Model with rank: {0}\".format(i + 1))\n",
    "        print(\"Mean validation score: {0:.3f} (std: {1:.3f})\".format(\n",
    "              score.mean_validation_score,\n",
    "              np.std(score.cv_validation_scores)))\n",
    "        print(\"Parameters: {0}\".format(score.parameters))\n",
    "        print(\"\")\n",
    "        \n",
    "        if save:\n",
    "            currentDate = str(datetime.now().strftime('%Y-%m-%d %H:%M:%S'))\n",
    "            logline = str(\"{0}\".format(i + 1)) + \";\" + \"{0:.5f};{1:.5f}\".format(score.mean_validation_score,np.std(score.cv_validation_scores)) + \";\" + currentDate + \";\" + \"{0}\".format(score.parameters)\n",
    "            with open(\"gridSearch.log\", \"a\") as myfile:\n",
    "                myfile.write(logline+\"\\n\")"
   ]
  },
  {
   "cell_type": "code",
   "execution_count": 40,
   "metadata": {
    "ExecuteTime": {
     "end_time": "2016-04-04T01:21:16.722180",
     "start_time": "2016-04-04T01:21:16.698330"
    },
    "collapsed": false
   },
   "outputs": [],
   "source": [
    "# specify parameters and distributions to sample from\n",
    "modelName = \"forest__\"\n",
    "param_dist = {modelName+\"max_depth\": [None],          # Default -> None | If Nonen then nodes are expanded until min_samples_split (Ignored if max_leaf_nodes is not None.)\n",
    "              modelName+\"max_features\": sp_randint(sqrtNbrFeat-4, sqrtNbrFeat+4),#sp_randint(14, 24),      # Default -> sqrt(n_features) ~14\n",
    "              modelName+\"min_samples_split\": sp_randint(1, 5), # Default -> 2 (useless if mex_depth not None)\n",
    "              modelName+\"min_samples_leaf\": sp_randint(1, 15),  # Default -> 1\n",
    "              modelName+\"bootstrap\": [False]              # Default -> True\n",
    "              #modelName+\"criterion\": [\"gini\", \"entropy\"] # gini\n",
    "             }\n",
    "\n",
    "# run randomized search\n",
    "n_iter_search = 20\n",
    "grid_search = RandomizedSearchCV(estimator, param_distributions=param_dist,\n",
    "                                   n_iter=n_iter_search, scoring=\"log_loss\")"
   ]
  },
  {
   "cell_type": "code",
   "execution_count": 41,
   "metadata": {
    "ExecuteTime": {
     "end_time": "2016-04-04T02:23:24.690505",
     "start_time": "2016-04-04T01:21:16.724101"
    },
    "collapsed": false
   },
   "outputs": [
    {
     "name": "stdout",
     "output_type": "stream",
     "text": [
      "RandomizedSearchCV took 3726.93 seconds for 20 candidates parameter settings.\n",
      "Model with rank: 1\n",
      "Mean validation score: -0.478 (std: 0.002)\n",
      "Parameters: {'forest__bootstrap': False, 'forest__max_features': 16, 'forest__min_samples_leaf': 8, 'forest__max_depth': None, 'forest__min_samples_split': 3}\n",
      "\n",
      "Model with rank: 2\n",
      "Mean validation score: -0.478 (std: 0.002)\n",
      "Parameters: {'forest__bootstrap': False, 'forest__max_features': 17, 'forest__min_samples_leaf': 11, 'forest__max_depth': None, 'forest__min_samples_split': 3}\n",
      "\n",
      "Model with rank: 3\n",
      "Mean validation score: -0.478 (std: 0.002)\n",
      "Parameters: {'forest__bootstrap': False, 'forest__max_features': 17, 'forest__min_samples_leaf': 13, 'forest__max_depth': None, 'forest__min_samples_split': 1}\n",
      "\n"
     ]
    }
   ],
   "source": [
    "start = time()\n",
    "grid_search.fit(X_m2_train, y_m2_train)\n",
    "print(\"RandomizedSearchCV took %.2f seconds for %d candidates\"\n",
    "      \" parameter settings.\" % ((time() - start), n_iter_search))\n",
    "report(grid_search.grid_scores_)\n",
    "finish()"
   ]
  },
  {
   "cell_type": "code",
   "execution_count": 42,
   "metadata": {
    "ExecuteTime": {
     "end_time": "2016-04-04T02:23:24.700543",
     "start_time": "2016-04-04T02:23:24.692404"
    },
    "collapsed": false
   },
   "outputs": [
    {
     "name": "stdout",
     "output_type": "stream",
     "text": [
      "Model with rank: 1\n",
      "Mean validation score: -0.478 (std: 0.002)\n",
      "Parameters: {'forest__bootstrap': False, 'forest__max_features': 16, 'forest__min_samples_leaf': 8, 'forest__max_depth': None, 'forest__min_samples_split': 3}\n",
      "\n",
      "Model with rank: 2\n",
      "Mean validation score: -0.478 (std: 0.002)\n",
      "Parameters: {'forest__bootstrap': False, 'forest__max_features': 17, 'forest__min_samples_leaf': 11, 'forest__max_depth': None, 'forest__min_samples_split': 3}\n",
      "\n",
      "Model with rank: 3\n",
      "Mean validation score: -0.478 (std: 0.002)\n",
      "Parameters: {'forest__bootstrap': False, 'forest__max_features': 17, 'forest__min_samples_leaf': 13, 'forest__max_depth': None, 'forest__min_samples_split': 1}\n",
      "\n",
      "Model with rank: 4\n",
      "Mean validation score: -0.478 (std: 0.002)\n",
      "Parameters: {'forest__bootstrap': False, 'forest__max_features': 17, 'forest__min_samples_leaf': 9, 'forest__max_depth': None, 'forest__min_samples_split': 4}\n",
      "\n",
      "Model with rank: 5\n",
      "Mean validation score: -0.479 (std: 0.002)\n",
      "Parameters: {'forest__bootstrap': False, 'forest__max_features': 16, 'forest__min_samples_leaf': 6, 'forest__max_depth': None, 'forest__min_samples_split': 2}\n",
      "\n",
      "Model with rank: 6\n",
      "Mean validation score: -0.479 (std: 0.002)\n",
      "Parameters: {'forest__bootstrap': False, 'forest__max_features': 15, 'forest__min_samples_leaf': 11, 'forest__max_depth': None, 'forest__min_samples_split': 2}\n",
      "\n",
      "Model with rank: 7\n",
      "Mean validation score: -0.479 (std: 0.002)\n",
      "Parameters: {'forest__bootstrap': False, 'forest__max_features': 15, 'forest__min_samples_leaf': 13, 'forest__max_depth': None, 'forest__min_samples_split': 1}\n",
      "\n",
      "Model with rank: 8\n",
      "Mean validation score: -0.480 (std: 0.002)\n",
      "Parameters: {'forest__bootstrap': False, 'forest__max_features': 14, 'forest__min_samples_leaf': 9, 'forest__max_depth': None, 'forest__min_samples_split': 4}\n",
      "\n",
      "Model with rank: 9\n",
      "Mean validation score: -0.480 (std: 0.002)\n",
      "Parameters: {'forest__bootstrap': False, 'forest__max_features': 14, 'forest__min_samples_leaf': 9, 'forest__max_depth': None, 'forest__min_samples_split': 1}\n",
      "\n",
      "Model with rank: 10\n",
      "Mean validation score: -0.480 (std: 0.002)\n",
      "Parameters: {'forest__bootstrap': False, 'forest__max_features': 16, 'forest__min_samples_leaf': 4, 'forest__max_depth': None, 'forest__min_samples_split': 2}\n",
      "\n",
      "Model with rank: 11\n",
      "Mean validation score: -0.480 (std: 0.002)\n",
      "Parameters: {'forest__bootstrap': False, 'forest__max_features': 13, 'forest__min_samples_leaf': 7, 'forest__max_depth': None, 'forest__min_samples_split': 2}\n",
      "\n",
      "Model with rank: 12\n",
      "Mean validation score: -0.480 (std: 0.002)\n",
      "Parameters: {'forest__bootstrap': False, 'forest__max_features': 13, 'forest__min_samples_leaf': 8, 'forest__max_depth': None, 'forest__min_samples_split': 3}\n",
      "\n",
      "Model with rank: 13\n",
      "Mean validation score: -0.480 (std: 0.002)\n",
      "Parameters: {'forest__bootstrap': False, 'forest__max_features': 15, 'forest__min_samples_leaf': 4, 'forest__max_depth': None, 'forest__min_samples_split': 1}\n",
      "\n",
      "Model with rank: 14\n",
      "Mean validation score: -0.481 (std: 0.002)\n",
      "Parameters: {'forest__bootstrap': False, 'forest__max_features': 11, 'forest__min_samples_leaf': 6, 'forest__max_depth': None, 'forest__min_samples_split': 2}\n",
      "\n",
      "Model with rank: 15\n",
      "Mean validation score: -0.482 (std: 0.002)\n",
      "Parameters: {'forest__bootstrap': False, 'forest__max_features': 11, 'forest__min_samples_leaf': 8, 'forest__max_depth': None, 'forest__min_samples_split': 1}\n",
      "\n",
      "Model with rank: 16\n",
      "Mean validation score: -0.482 (std: 0.001)\n",
      "Parameters: {'forest__bootstrap': False, 'forest__max_features': 16, 'forest__min_samples_leaf': 2, 'forest__max_depth': None, 'forest__min_samples_split': 3}\n",
      "\n",
      "Model with rank: 17\n",
      "Mean validation score: -0.482 (std: 0.002)\n",
      "Parameters: {'forest__bootstrap': False, 'forest__max_features': 16, 'forest__min_samples_leaf': 2, 'forest__max_depth': None, 'forest__min_samples_split': 2}\n",
      "\n",
      "Model with rank: 18\n",
      "Mean validation score: -0.483 (std: 0.002)\n",
      "Parameters: {'forest__bootstrap': False, 'forest__max_features': 10, 'forest__min_samples_leaf': 6, 'forest__max_depth': None, 'forest__min_samples_split': 3}\n",
      "\n",
      "Model with rank: 19\n",
      "Mean validation score: -0.483 (std: 0.002)\n",
      "Parameters: {'forest__bootstrap': False, 'forest__max_features': 10, 'forest__min_samples_leaf': 8, 'forest__max_depth': None, 'forest__min_samples_split': 4}\n",
      "\n",
      "Model with rank: 20\n",
      "Mean validation score: -0.483 (std: 0.002)\n",
      "Parameters: {'forest__bootstrap': False, 'forest__max_features': 10, 'forest__min_samples_leaf': 12, 'forest__max_depth': None, 'forest__min_samples_split': 4}\n",
      "\n"
     ]
    }
   ],
   "source": [
    "report(grid_search.grid_scores_, 20, True)"
   ]
  },
  {
   "cell_type": "code",
   "execution_count": 43,
   "metadata": {
    "ExecuteTime": {
     "end_time": "2016-04-04T02:24:22.308054",
     "start_time": "2016-04-04T02:23:24.702096"
    },
    "collapsed": false
   },
   "outputs": [
    {
     "name": "stdout",
     "output_type": "stream",
     "text": [
      "Testing score: GridSearchBest\n",
      "0.782812158321\n",
      "0.469735480948 compare to best score: 0.00885889930415\n"
     ]
    }
   ],
   "source": [
    "evaluate(grid_search.best_estimator_, X_m2_test, y_test, \"Testing\", \"GridSearchBest\")"
   ]
  },
  {
   "cell_type": "code",
   "execution_count": 44,
   "metadata": {
    "ExecuteTime": {
     "end_time": "2016-04-04T02:24:24.423154",
     "start_time": "2016-04-04T02:24:22.309904"
    },
    "collapsed": false
   },
   "outputs": [
    {
     "name": "stdout",
     "output_type": "stream",
     "text": [
      "         importance\n",
      "feature            \n",
      "v50_m      0.123513\n",
      "v12_m      0.034926\n",
      "v10_m      0.029619\n",
      "v40        0.023576\n",
      "v114_m     0.023372\n",
      "v34        0.023367\n",
      "v14        0.021225\n",
      "v21_m      0.020582\n",
      "v22        0.017114\n",
      "v56        0.015952\n",
      "Features to keep (use only if all the features are here from prepareX):\n",
      "[]\n"
     ]
    },
    {
     "data": {
      "text/plain": [
       "<matplotlib.figure.Figure at 0x7f1364120fd0>"
      ]
     },
     "metadata": {},
     "output_type": "display_data"
    },
    {
     "data": {
      "image/png": "[encoded data removed]",
      "text/plain": [
       "<matplotlib.figure.Figure at 0x7f1364120a50>"
      ]
     },
     "metadata": {},
     "output_type": "display_data"
    },
    {
     "data": {
      "image/png": "[encoded data removed]",
      "text/plain": [
       "<matplotlib.figure.Figure at 0x7f1364120490>"
      ]
     },
     "metadata": {},
     "output_type": "display_data"
    }
   ],
   "source": [
    "feature_analysis(grid_search.best_estimator_.steps[2][1], X_m2_train)"
   ]
  },
  {
   "cell_type": "markdown",
   "metadata": {},
   "source": [
    "# Save"
   ]
  },
  {
   "cell_type": "code",
   "execution_count": 45,
   "metadata": {
    "ExecuteTime": {
     "end_time": "2016-04-04T02:24:24.427750",
     "start_time": "2016-04-04T02:24:24.424854"
    },
    "collapsed": true
   },
   "outputs": [],
   "source": [
    "modelToSave = estimator\n",
    "modelToSave = grid_search.best_estimator_"
   ]
  },
  {
   "cell_type": "code",
   "execution_count": 46,
   "metadata": {
    "ExecuteTime": {
     "end_time": "2016-04-04T02:24:27.758793",
     "start_time": "2016-04-04T02:24:24.429379"
    },
    "collapsed": false
   },
   "outputs": [],
   "source": [
    "X_kaggleTest = prepareX(kaggleTest, False)"
   ]
  },
  {
   "cell_type": "code",
   "execution_count": 47,
   "metadata": {
    "ExecuteTime": {
     "end_time": "2016-04-04T02:24:27.886490",
     "start_time": "2016-04-04T02:24:27.760354"
    },
    "collapsed": false,
    "scrolled": true
   },
   "outputs": [
    {
     "name": "stdout",
     "output_type": "stream",
     "text": [
      "Empty DataFrame\n",
      "Columns: [v50_m, v56, v12_m, v114_m, v10_m, v34, v40, v66_C, v14, v79, v21_m, v22, v47, v125, v110_B, v66_B, v113, v110_A, v31_A, v112, v66_A, v52, v129, v62, v24_E, v31_B, v82_m, v115_m, v88_m, v6_m, v120_m, v119_m, v69_m, v124_m, v102_m, v24_D, v90, v57_m, v68_m, v1_m, v78_m, v99_m, v45_m, v16_m, v28_m, v126_m, v100, v87, v131_m, v98_m, v70_m, v36, v39_m, v108, v37_m, v81, v53_m, v85_m, v117_m, v58_m, v32, v27_m, v19_m, v122_m, v44_m, v42_m, v86_m, v7_m, v127_m, v11_m, v55_m, v9_m, v18_m, v103_m, v2_m, v123_m, v109_m, v80_m, v54_m, v25_m, v26, v73_m, v15_m, v97_m, v63_m, v20_m, v4_m, v89_m, v35_m, v118_m, v94_m, v5_m, v8_m, v116_m, v46_m, v104_m, v83, v49, v111_m, v105_m, ...]\n",
      "Index: []\n",
      "\n",
      "[0 rows x 212 columns]\n",
      "           v50_m v56     v12_m     v114_m     v10_m        v34       v40  \\\n",
      "72596   1.087228  CY  7.576899  14.581211  2.625820   7.586965  9.346647   \n",
      "98479   0.991856  DH  6.438124  15.854680  1.028447   7.792467  7.414081   \n",
      "100840  2.886069  BW  7.877724  15.739374  3.916850   8.925739  8.529049   \n",
      "102898  1.201672  DA  6.362624  17.977037  1.028447  10.089058  3.782649   \n",
      "\n",
      "        v66_C        v14 v79     v21_m  v22 v47 v125  v110_B  v66_B v113  \\\n",
      "72596       0  12.437815   C  7.207258  QFA   I   AT       0      1    V   \n",
      "98479       0  11.272974   E  6.719832  QFA   C   AT       1      0  NaN   \n",
      "100840      0  12.329700   B  6.229135  QFA   C   AT       1      0  NaN   \n",
      "102898      1  10.991098   E  6.327224  QFA   C   AT       1      0  NaN   \n",
      "\n",
      "        v110_A  v31_A v112  v66_A v52  v129  v62  v24_E  v31_B      v82_m  \\\n",
      "72596        1      1    L      0   D     0    1      1      0  11.827204   \n",
      "98479        0      1    L      1   H     0    1      0      0   3.568781   \n",
      "100840       0      0    L      1   G     2    0      0      1   7.530647   \n",
      "102898       0      1    L      0   K     0    1      0      0   3.593397   \n",
      "\n",
      "           v115_m     v88_m      v6_m    v120_m    v119_m      v69_m  \\\n",
      "72596   11.157895  2.173913  2.459627  1.353492  0.422775   8.842106   \n",
      "98479   13.050848  1.137178  2.263318  1.113196  4.693929   6.949152   \n",
      "100840   6.956521  2.524418  3.035311  0.915254  0.436562  12.608695   \n",
      "102898   9.117646  0.855043  2.484971  0.578387  0.224557  10.882354   \n",
      "\n",
      "          v124_m    v102_m  v24_D       v90     v57_m      v68_m      v1_m  \\\n",
      "72596   0.005489  2.503054      0  1.026295  4.236024  18.200145  0.919254   \n",
      "98479   0.041445  2.302274      0  0.937335  3.444660  18.836773  0.612753   \n",
      "100840  0.012430  2.503054      0  1.022736  5.304282  18.033897  2.223891   \n",
      "102898  0.046876  2.824302      1  0.948703  4.742819  19.421613  1.482967   \n",
      "\n",
      "            v78_m     v99_m      v45_m     v16_m     v28_m    v126_m  \\\n",
      "72596   11.578948  1.241201  10.635769  6.736842  6.882618  1.471022   \n",
      "98479   12.711864  1.366271   9.143449  6.271186  7.744280  1.523295   \n",
      "100840   8.695652  2.314049   8.820809  7.391304  2.843704  1.501856   \n",
      "102898  15.294118  0.906257   8.851492  3.235293  3.198631  1.494976   \n",
      "\n",
      "             v100        v87    v131_m     v98_m      v70_m        v36  \\\n",
      "72596   19.380849  13.106695  1.684210  7.178000  14.010154  10.624629   \n",
      "98479   12.007504   9.904238  1.016950  7.416470  13.033051  15.600588   \n",
      "100840  19.525425  15.697467  3.478261  7.115725  15.126482   9.101725   \n",
      "102898  16.438356  12.145608  1.764707  7.624769  13.666540  14.495328   \n",
      "\n",
      "               v39_m      v108     v37_m       v81      v53_m     v85_m  \\\n",
      "72596   4.828902e-01  2.533484  0.395061  3.186460  16.206212  1.498929   \n",
      "98479   5.412471e-02  1.639616  0.310881  8.480174  15.489130  2.865792   \n",
      "100840  1.100166e+00  3.678417  0.701755  4.996502  15.675676  1.698113   \n",
      "102898 -2.549234e-07  2.183004  0.465116  6.904662  14.618973  2.425533   \n",
      "\n",
      "           v117_m     v58_m       v32     v27_m     v19_m    v122_m  \\\n",
      "72596    7.435611  0.503959  1.490683  2.385093  0.169837  7.398844   \n",
      "98479    8.328711  7.954972  1.738891  2.340601  0.223206  7.193347   \n",
      "100840  10.832401  0.372881  1.397445  3.155523  0.138037  6.569342   \n",
      "102898  11.016105  3.561644  1.242485  3.326652  0.125298  7.761195   \n",
      "\n",
      "            v44_m      v42_m     v86_m      v7_m    v127_m      v11_m  \\\n",
      "72596   13.554615  12.987578  1.192546  2.515529  2.678571  15.932835   \n",
      "98479   11.547457  12.117031  1.432514  2.130831  5.030362  15.273412   \n",
      "100840  12.280481  14.019533  1.014276  3.425996  1.718633  15.246133   \n",
      "102898  12.747516  12.545090  1.042085  3.446894  3.281564  14.683545   \n",
      "\n",
      "           v55_m      v9_m     v18_m    v103_m       v2_m    v123_m  \\\n",
      "72596   0.782609  9.248555  0.981694  4.154960   9.081586  1.198182   \n",
      "98479   0.678995  8.731808  1.130114  4.877266   6.418742  2.386459   \n",
      "100840  1.307287  9.051096  0.416991  4.893149  10.620864  1.399910   \n",
      "102898  1.482965  9.253732  0.464344  4.181929   8.428008  2.526670   \n",
      "\n",
      "           v109_m     v80_m     v54_m     v25_m       v26     v73_m     v15_m  \\\n",
      "72596    1.875000  1.849710  0.103564  0.148120  1.901656  2.072969  1.762503   \n",
      "98479    2.481241  1.538462  0.430488  0.806934  1.669887  2.749842  2.448482   \n",
      "100840  11.907895  2.481751  0.080086  0.145513  2.947659  1.816690  1.407657   \n",
      "102898   4.278816  1.641792  0.367486  0.948400  3.110665  1.816691  1.684811   \n",
      "\n",
      "           v97_m     v63_m      v20_m      v4_m     v89_m     v35_m    v118_m  \\\n",
      "72596   7.851852  0.132449  19.070673  4.672736  0.076388  8.819876  8.246914   \n",
      "98479   8.238343  0.872520  18.204022  4.233712  0.371237  8.048579  8.549222   \n",
      "100840  8.684211  0.163244  19.033848  5.858401  0.061442  8.144253  9.385965   \n",
      "102898  9.379845  0.805936  19.072233  4.022601  0.360478  7.160989  9.844962   \n",
      "\n",
      "           v94_m       v5_m      v8_m    v116_m     v46_m    v104_m       v83  \\\n",
      "72596   3.177419  15.400135  0.134583  2.101784  0.113595  2.342532  1.024846   \n",
      "98479   3.537287   8.332126  0.709586  2.160325  0.856605  2.894290  1.242065   \n",
      "100840  3.517204   9.704102  0.053694  2.972973  0.144892  2.243922  0.901578   \n",
      "102898  3.212088   9.558089  0.627310  3.763609  0.710170  1.951410  2.084168   \n",
      "\n",
      "             v49    v111_m    v105_m   ...        v92_m     v77_m  v24_C  \\\n",
      "72596   8.322982  1.975155  0.106626   ...     0.623423  8.347825      0   \n",
      "98479   7.330941  2.550372  0.382175   ...     0.638386  7.595916      1   \n",
      "100840  8.534937  1.442525  0.063622   ...     0.466450  8.775357      0   \n",
      "102898  7.294589  2.484971  0.436098   ...     0.383834  8.203072      0   \n",
      "\n",
      "            v67_m      v65_m     v33_m       v76     v93_m     v41_m  \\\n",
      "72596    9.987578  18.204354  1.180123  2.825672  6.320814  7.956522   \n",
      "98479    8.782776  17.012001  1.302788  2.104445  5.610353  6.707150   \n",
      "100840  10.683697  18.290654  1.382419  3.771744  7.414278  8.144252   \n",
      "102898   9.498998  17.062069  1.816968  2.428339  6.134214  6.973949   \n",
      "\n",
      "            v29_m     v96_m      v48_m     v17_m     v106_m  v71     v64_m  \\\n",
      "72596    9.397515  7.614906  11.133481  4.542632  13.992332    F  7.594282   \n",
      "98479    8.125862  6.293127  12.866615  3.455405  11.603811    F  5.961400   \n",
      "100840  10.007513  7.843727   9.596435  5.991368  16.002944    F  9.663601   \n",
      "102898   8.590514  6.279225  11.937105  3.986200  12.989807    F  6.848162   \n",
      "\n",
      "        v72_m  v75_D  v75_B  v30_C           v23  v91_A  v107_E  v107_B  \\\n",
      "72596       1      1      0      0  1.891047e-07      0       0       0   \n",
      "98479       1      1      0      0  1.496598e-01      1       1       0   \n",
      "100840      2      1      0      0 -3.500212e-07      0       0       1   \n",
      "102898      1      1      0      0 -5.661576e-07      0       0       0   \n",
      "\n",
      "        v107_C  v91_G v38  v91_B  v107_D  v91_C  v31_C  v91_F  v107_A  v24_B  \\\n",
      "72596        1      1   0      0       0      0      0      0       0      0   \n",
      "98479        0      0   0      0       0      0      0      0       0      0   \n",
      "100840       0      0   0      1       0      0      0      0       0      1   \n",
      "102898       1      1   0      0       0      0      0      0       0      0   \n",
      "\n",
      "        v30_G  v74_B  v30_D  v3_C  v110_C  v24_A  v74_C  v30_E  v107_F  v91_E  \\\n",
      "72596       0      1      0     1       0      0      0      0       0      0   \n",
      "98479       0      1      0     1       0      0      0      0       0      0   \n",
      "100840      0      1      0     1       0      0      0      0       0      0   \n",
      "102898      0      1      0     1       0      0      0      0       0      0   \n",
      "\n",
      "        v30_F  v30_A  v3_A  v91_D  v3_B  v30_B  v107_G  v75_C  v75_A  v74_A  \\\n",
      "72596       0      0     0      0     0      0       0      0      0      0   \n",
      "98479       0      0     0      0     0      0       0      0      0      0   \n",
      "100840      0      0     0      0     0      0       0      0      0      0   \n",
      "102898      0      0     0      0     0      0       0      0      0      0   \n",
      "\n",
      "        v3_A  v3_B  v3_C  v24_A  v24_B  v24_C  v24_D  v24_E  v30_A  v30_B  \\\n",
      "72596      0     0     1      0      0      0      0      1      0      0   \n",
      "98479      0     0     1      0      0      1      0      0      0      0   \n",
      "100840     0     0     1      0      1      0      0      0      0      0   \n",
      "102898     0     0     1      0      0      0      1      0      0      0   \n",
      "\n",
      "        v30_C  v30_D  v30_E  v30_F  v30_G  v31_A  v31_B  v31_C  v66_A  v66_B  \\\n",
      "72596       0      0      0      0      0      1      0      0      0      1   \n",
      "98479       0      0      0      0      0      1      0      0      1      0   \n",
      "100840      0      0      0      0      0      0      1      0      1      0   \n",
      "102898      0      0      0      0      0      1      0      0      0      0   \n",
      "\n",
      "        v66_C  v74_A  v74_B  v74_C  v75_A  v75_B  v75_C  v75_D  v91_A  v91_B  \\\n",
      "72596       0      0      1      0      0      0      0      1      0      0   \n",
      "98479       0      0      1      0      0      0      0      1      1      0   \n",
      "100840      0      0      1      0      0      0      0      1      0      1   \n",
      "102898      1      0      1      0      0      0      0      1      0      0   \n",
      "\n",
      "        v91_C  v91_D  v91_E  v91_F  v91_G  v107_A  v107_B  v107_C  v107_D  \\\n",
      "72596       0      0      0      0      1       0       0       1       0   \n",
      "98479       0      0      0      0      0       0       0       0       0   \n",
      "100840      0      0      0      0      0       0       1       0       0   \n",
      "102898      0      0      0      0      1       0       0       1       0   \n",
      "\n",
      "        v107_E  v107_F  v107_G  v110_A  v110_B  v110_C  missing  \n",
      "72596        0       0       0       1       0       0        1  \n",
      "98479        1       0       0       0       1       0        2  \n",
      "100840       0       0       0       0       1       0        2  \n",
      "102898       0       0       0       0       1       0        2  \n",
      "\n",
      "[4 rows x 212 columns]\n"
     ]
    }
   ],
   "source": [
    "some_value = 'QFA'\n",
    "for col, typ in X_m2_test.dtypes.iteritems():\n",
    "    if typ == object:\n",
    "        df = X_kaggleTest.loc[X_kaggleTest[col] == some_value]\n",
    "        with pd.option_context('display.max_rows', 10, 'display.max_columns', 200):\n",
    "            print df"
   ]
  },
  {
   "cell_type": "code",
   "execution_count": null,
   "metadata": {
    "ExecuteTime": {
     "start_time": "2016-04-04T10:10:53.116Z"
    },
    "collapsed": false
   },
   "outputs": [
    {
     "name": "stdout",
     "output_type": "stream",
     "text": [
      "Transform\n",
      "Column proba: v30 is not in X, skip.\n",
      "Column proba: v31 is not in X, skip.\n",
      "Column proba: v91 is not in X, skip.\n",
      "Column proba: v24 is not in X, skip.\n",
      "Column proba: v74 is not in X, skip.\n",
      "Column proba: v66 is not in X, skip.\n",
      "Column proba: v110 is not in X, skip.\n",
      "Column proba: v107 is not in X, skip.\n",
      "Column proba: v3 is not in X, skip.\n",
      "Column proba: v75 is not in X, skip.\n"
     ]
    }
   ],
   "source": [
    "X_m1_kaggleTest = model1.transform(X_kaggleTest)"
   ]
  },
  {
   "cell_type": "code",
   "execution_count": null,
   "metadata": {
    "ExecuteTime": {
     "start_time": "2016-04-04T10:10:55.385Z"
    },
    "collapsed": false
   },
   "outputs": [],
   "source": [
    "predic = modelToSave.predict_proba(X_m1_kaggleTest)[:,1] # extract 2nd column for X=1"
   ]
  },
  {
   "cell_type": "code",
   "execution_count": null,
   "metadata": {
    "ExecuteTime": {
     "start_time": "2016-04-04T10:10:59.016Z"
    },
    "collapsed": false
   },
   "outputs": [],
   "source": [
    "predicPd = pd.DataFrame(predic)\n",
    "predicPd = predicPd.rename(columns={0: 'PredictedProb'})\n",
    "predicPd['ID'] = kaggleTest[['ID']]\n",
    "predicPd = predicPd[['ID', 'PredictedProb']]"
   ]
  },
  {
   "cell_type": "code",
   "execution_count": null,
   "metadata": {
    "ExecuteTime": {
     "start_time": "2016-04-04T10:10:59.734Z"
    },
    "collapsed": false
   },
   "outputs": [],
   "source": [
    "predicPd.to_csv(\"results/pythonpure/results.csv\", index = False)"
   ]
  },
  {
   "cell_type": "code",
   "execution_count": null,
   "metadata": {
    "collapsed": true
   },
   "outputs": [],
   "source": []
  }
 ],
 "metadata": {
  "kernelspec": {
   "display_name": "Python 2",
   "language": "python",
   "name": "python2"
  },
  "language_info": {
   "codemirror_mode": {
    "name": "ipython",
    "version": 2
   },
   "file_extension": ".py",
   "mimetype": "text/x-python",
   "name": "python",
   "nbconvert_exporter": "python",
   "pygments_lexer": "ipython2",
   "version": "2.7.11"
  }
 },
 "nbformat": 4,
 "nbformat_minor": 0
}
