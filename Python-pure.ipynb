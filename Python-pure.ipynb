{
 "cells": [
  {
   "cell_type": "code",
   "execution_count": 1,
   "metadata": {
    "ExecuteTime": {
     "end_time": "2016-04-02T19:54:37.079944",
     "start_time": "2016-04-02T19:54:36.715876"
    },
    "collapsed": false
   },
   "outputs": [
    {
     "name": "stdout",
     "output_type": "stream",
     "text": [
      "Populating the interactive namespace from numpy and matplotlib\n"
     ]
    }
   ],
   "source": [
    "%pylab inline\n",
    "pylab.rcParams['figure.figsize'] = (10, 6)\n",
    "\n",
    "# %matplotlib inline\n",
    "\n",
    "from time import time\n",
    "from operator import itemgetter\n",
    "from datetime import datetime\n",
    "from collections import defaultdict\n",
    "from sklearn.cross_validation import train_test_split, cross_val_score\n",
    "from sklearn.grid_search import GridSearchCV, RandomizedSearchCV\n",
    "from scipy.stats import randint as sp_randint\n",
    "from sklearn.ensemble import RandomForestClassifier, ExtraTreesClassifier\n",
    "from sklearn.metrics import log_loss\n",
    "from sklearn.pipeline import Pipeline\n",
    "from sklearn.preprocessing import Imputer, LabelEncoder\n",
    "\n",
    "import matplotlib.pyplot as plt\n",
    "import numpy as np\n",
    "import pandas as pd\n",
    "import os\n",
    "import subprocess\n",
    "import sys"
   ]
  },
  {
   "cell_type": "markdown",
   "metadata": {},
   "source": [
    "# Functions"
   ]
  },
  {
   "cell_type": "code",
   "execution_count": 2,
   "metadata": {
    "ExecuteTime": {
     "end_time": "2016-04-02T19:54:37.086095",
     "start_time": "2016-04-02T19:54:37.081441"
    },
    "collapsed": true
   },
   "outputs": [],
   "source": [
    "def finish(text=None):\n",
    "    os.system(\"paplay /usr/share/sounds/gnome/default/alerts/drip.ogg\")\n",
    "    \n",
    "    if text:\n",
    "        os.system(\"echo \" + text + \" | festival --tts\")\n",
    "    else:\n",
    "        os.system(\"paplay /usr/share/sounds/gnome/default/alerts/glass.ogg\")"
   ]
  },
  {
   "cell_type": "code",
   "execution_count": 3,
   "metadata": {
    "ExecuteTime": {
     "end_time": "2016-04-02T19:54:37.112385",
     "start_time": "2016-04-02T19:54:37.087629"
    },
    "collapsed": true
   },
   "outputs": [],
   "source": [
    "import subprocess\n",
    "import sys"
   ]
  },
  {
   "cell_type": "code",
   "execution_count": 4,
   "metadata": {
    "ExecuteTime": {
     "end_time": "2016-04-02T19:54:37.134942",
     "start_time": "2016-04-02T19:54:37.115453"
    },
    "collapsed": false
   },
   "outputs": [],
   "source": [
    "bestLogloss = 0.460876581644\n",
    "def evaluate(model, X, y, string, more = \"\"):\n",
    "    title = string + \" score: \" + more\n",
    "    score = model.score(X, y)\n",
    "    scoreLogloss = log_loss(y, model.predict_proba(X))\n",
    "    \n",
    "    currentDate = str(datetime.now().strftime('%Y-%m-%d %H:%M:%S'))\n",
    "    \n",
    "    if model.get_params().has_key('forest'):\n",
    "        modelExplaination = model.get_params()['forest'].__class__.__name__ + str(model.get_params()['forest'].get_params())\n",
    "    else:\n",
    "        modelExplaination = model.__class__.__name__  + str(model.get_params())\n",
    "    \n",
    "    logline = str(score) + \";\" + str(scoreLogloss) + \";\" + currentDate + \";\" + str(modelExplaination) + \";\" + more\n",
    "    \n",
    "    with open(\"evaluate\"+string+\".log\", \"a\") as myfile:\n",
    "        myfile.write(logline+\"\\n\")\n",
    "    \n",
    "    print title\n",
    "    print score\n",
    "    print str(scoreLogloss)  + \" compare to best score: \" + str(scoreLogloss-bestLogloss) \n",
    "    \n",
    "    finish(\"Evaluate finished!\")"
   ]
  },
  {
   "cell_type": "markdown",
   "metadata": {},
   "source": [
    "# Load"
   ]
  },
  {
   "cell_type": "code",
   "execution_count": 5,
   "metadata": {
    "ExecuteTime": {
     "end_time": "2016-04-02T19:54:41.260366",
     "start_time": "2016-04-02T19:54:37.136481"
    },
    "collapsed": true
   },
   "outputs": [],
   "source": [
    "kaggleTrain = pd.read_csv(\"kaggle/train.csv\", header = 0)\n",
    "kaggleTest = pd.read_csv(\"kaggle/test.csv\", header = 0)"
   ]
  },
  {
   "cell_type": "code",
   "execution_count": 6,
   "metadata": {
    "ExecuteTime": {
     "end_time": "2016-04-02T19:54:41.264578",
     "start_time": "2016-04-02T19:54:41.261678"
    },
    "collapsed": false
   },
   "outputs": [
    {
     "name": "stdout",
     "output_type": "stream",
     "text": [
      "Kaggle Train count: 114321\n",
      "Kaggle Test count:  114393\n"
     ]
    }
   ],
   "source": [
    "print \"Kaggle Train count: \" + str(len(kaggleTrain))\n",
    "print \"Kaggle Test count:  \" + str(len(kaggleTest))"
   ]
  },
  {
   "cell_type": "markdown",
   "metadata": {},
   "source": [
    "## Columns listing"
   ]
  },
  {
   "cell_type": "code",
   "execution_count": 7,
   "metadata": {
    "ExecuteTime": {
     "end_time": "2016-04-02T19:54:41.393634",
     "start_time": "2016-04-02T19:54:41.266772"
    },
    "collapsed": false
   },
   "outputs": [
    {
     "name": "stdout",
     "output_type": "stream",
     "text": [
      "We have the ID columns, type: int64\n",
      "We have the target columns, type: int64\n",
      "\n",
      "dummies 10\n",
      "int64 4\n",
      "object 19\n",
      "float64 108\n"
     ]
    }
   ],
   "source": [
    "#print train.schema.fields\n",
    "columnsDict = {}\n",
    "columnsDict = defaultdict(lambda: list(), columnsDict)\n",
    "for col in kaggleTrain.columns:\n",
    "    typeKey = str(kaggleTrain[col].dtype)\n",
    "    colName = col\n",
    "    \n",
    "    if colName == 'ID':\n",
    "        print \"We have the ID columns, type: \" + typeKey\n",
    "        continue\n",
    "    if colName == 'target':\n",
    "        print \"We have the target columns, type: \" + typeKey\n",
    "        continue\n",
    "        \n",
    "    if typeKey == \"object\":\n",
    "        if len(kaggleTrain[col].unique()) < 9 : # Because v71 has 9 distinct value and some missing in the testing set\n",
    "            columnsDict['dummies'].append(colName)\n",
    "            \n",
    "\n",
    "    columnsDict[typeKey].append(colName)\n",
    "\n",
    "print \"\"\n",
    "for ct, cl in columnsDict.iteritems():\n",
    "    print ct + \" \" + str(len(cl))"
   ]
  },
  {
   "cell_type": "code",
   "execution_count": 8,
   "metadata": {
    "ExecuteTime": {
     "end_time": "2016-04-02T19:54:42.101218",
     "start_time": "2016-04-02T19:54:41.395048"
    },
    "collapsed": true
   },
   "outputs": [],
   "source": [
    "# Add dummies\n",
    "kaggleTrainDummies = pd.get_dummies(kaggleTrain[columnsDict['dummies']])\n",
    "kaggleTrain = pd.concat([kaggleTrain, kaggleTrainDummies], axis=1)\n",
    "\n",
    "kaggleTestDummies = pd.get_dummies(kaggleTest[columnsDict['dummies']])\n",
    "kaggleTest = pd.concat([kaggleTest, kaggleTestDummies], axis=1)"
   ]
  },
  {
   "cell_type": "code",
   "execution_count": 9,
   "metadata": {
    "ExecuteTime": {
     "end_time": "2016-04-02T19:54:42.105838",
     "start_time": "2016-04-02T19:54:42.102343"
    },
    "collapsed": false
   },
   "outputs": [
    {
     "name": "stdout",
     "output_type": "stream",
     "text": [
      "set([])\n",
      "set([])\n"
     ]
    }
   ],
   "source": [
    "print set(kaggleTrainDummies.columns) - set(kaggleTestDummies.columns)\n",
    "print set(kaggleTestDummies.columns) - set(kaggleTrainDummies.columns)"
   ]
  },
  {
   "cell_type": "markdown",
   "metadata": {},
   "source": [
    "# Split"
   ]
  },
  {
   "cell_type": "code",
   "execution_count": 10,
   "metadata": {
    "ExecuteTime": {
     "end_time": "2016-04-02T19:54:42.568942",
     "start_time": "2016-04-02T19:54:42.108201"
    },
    "collapsed": true
   },
   "outputs": [],
   "source": [
    "train, test = train_test_split(kaggleTrain, test_size = 0.2)"
   ]
  },
  {
   "cell_type": "code",
   "execution_count": 11,
   "metadata": {
    "ExecuteTime": {
     "end_time": "2016-04-02T19:54:42.696619",
     "start_time": "2016-04-02T19:54:42.570064"
    },
    "collapsed": false
   },
   "outputs": [
    {
     "data": {
      "text/plain": [
       "v3          3\n",
       "v22     16634\n",
       "v24         5\n",
       "v30         7\n",
       "v31         3\n",
       "v47        10\n",
       "v52        12\n",
       "v56       120\n",
       "v66         3\n",
       "v71         9\n",
       "v74         3\n",
       "v75         4\n",
       "v79        18\n",
       "v91         7\n",
       "v107        7\n",
       "v110        3\n",
       "v112       22\n",
       "v113       36\n",
       "v125       90\n",
       "dtype: int64"
      ]
     },
     "execution_count": 11,
     "metadata": {},
     "output_type": "execute_result"
    }
   ],
   "source": [
    "train[columnsDict['object']].apply(pd.Series.nunique)"
   ]
  },
  {
   "cell_type": "markdown",
   "metadata": {},
   "source": [
    "# Prepare X and y"
   ]
  },
  {
   "cell_type": "code",
   "execution_count": 12,
   "metadata": {
    "ExecuteTime": {
     "end_time": "2016-04-02T19:54:42.701787",
     "start_time": "2016-04-02T19:54:42.698426"
    },
    "collapsed": false
   },
   "outputs": [
    {
     "name": "stdout",
     "output_type": "stream",
     "text": [
      "112\n"
     ]
    }
   ],
   "source": [
    "print len(columnsDict['float64']) +  len(columnsDict['int64'])"
   ]
  },
  {
   "cell_type": "code",
   "execution_count": 13,
   "metadata": {
    "ExecuteTime": {
     "end_time": "2016-04-02T19:54:43.727598",
     "start_time": "2016-04-02T19:54:42.703745"
    },
    "collapsed": false
   },
   "outputs": [
    {
     "name": "stdout",
     "output_type": "stream",
     "text": [
      "Number of missing value per column in the Testing set\n",
      "defaultdict(<function <lambda> at 0x7fd30f346500>, {'v56': {'nbrMissing': 8, 'nbrDistinct': 123}, 'v22': {'nbrMissing': 5209, 'nbrDistinct': 18211}, 'v71': {'nbrMissing': 3, 'nbrDistinct': 9}, 'v113': {'nbrMissing': 1, 'nbrDistinct': 37}})\n"
     ]
    }
   ],
   "source": [
    "catEncoders = dict()\n",
    "catProbability = dict()\n",
    "nbrTestMissing = dict()\n",
    "nbrTestMissing = defaultdict(lambda: {\"nbrMissing\": 0, 'nbrDistinct': 0}, nbrTestMissing)\n",
    "# Create the mapping from categorie to int\n",
    "for col in columnsDict['object']:\n",
    "    # Create dictionnary\n",
    "    uniqueValues = kaggleTrain[col].unique()\n",
    "    dictValues = dict()\n",
    "    dictValues = defaultdict(lambda: -1, dictValues)       \n",
    "    for v in uniqueValues:\n",
    "        if v is nan:\n",
    "            continue\n",
    "        if not v in dictValues:\n",
    "            dictValues[v] = len(dictValues)\n",
    "    dictValues[nan] = -1\n",
    "    \n",
    "    \n",
    "    # Cat probability\n",
    "    df = pd.pivot_table(kaggleTrain, values='target', columns=[col], aggfunc=np.average) # index=['A', 'B']\n",
    "    dictProba = df.to_dict()\n",
    "    dictProba = defaultdict(lambda: -1, dictProba)\n",
    "    \n",
    "    # If value is in the training but not in the testing, then map to missing -1\n",
    "    uniqueValuesTesting = kaggleTest[col].unique()\n",
    "    for v in set(uniqueValuesTesting) - set(uniqueValues):\n",
    "        dictValues[v] = -1\n",
    "        dictProba[v] = -1\n",
    "        nbrTestMissing[col] = {\"nbrMissing\": nbrTestMissing[col]['nbrMissing'] + 1, 'nbrDistinct': len(uniqueValues)}\n",
    "\n",
    "    catEncoders[col] = dictValues\n",
    "    catProbability[col] = dictProba\n",
    "print \"Number of missing value per column in the Testing set\"\n",
    "print nbrTestMissing"
   ]
  },
  {
   "cell_type": "code",
   "execution_count": 14,
   "metadata": {
    "ExecuteTime": {
     "end_time": "2016-04-02T19:54:43.731390",
     "start_time": "2016-04-02T19:54:43.728714"
    },
    "collapsed": false
   },
   "outputs": [
    {
     "name": "stdout",
     "output_type": "stream",
     "text": [
      "defaultdict(<function <lambda> at 0x7fd30f346668>, {'BD': 0.92682926829268297, 'BE': 1.0, 'BF': 0.92592592592592593, 'BG': 0.79032258064516125, 'BA': 0.91116751269035534, 'AN': 0.5561797752808989, 'BC': 1.0, 'BL': 0.73361344537815121, 'BM': 0.95781071835803877, 'BN': 0.66666666666666663, 'BO': 1.0, 'BH': 0.9152542372881356, 'BI': 0.97938144329896903, 'BJ': 0.8511727078891258, 'BK': 0.86427795874049951, 'BT': 1.0, 'BU': 0.94736842105263153, 'BV': 0.7793575566087414, 'BW': 0.77103338912871111, 'BP': 1.0, 'BQ': 0.97077922077922074, 'BR': 1.0, 'BS': 0.92063492063492058, 'BX': 0.79235760634462871, 'BY': 0.85245901639344257, 'BZ': 0.71898522442152213, 'CP': 0.90133779264214042, 'AZ': 0.85642317380352639, 'BB': -1, 'AW': 0.83796514366462549, 'CK': 1.0, 'CJ': 1.0, 'CI': 0.81081081081081086, 'B': 1.0, 'CO': 0.80303030303030298, 'D': 1.0, 'CM': 0.63358778625954193, 'CL': 0.88888888888888884, 'CC': 0.6143790849673203, 'H': 1.0, 'CA': 0.58064516129032262, 'J': -1, 'CG': 1.0, 'L': 1.0, 'CE': 1.0, 'N': 0.81746031746031744, 'P': 0.53331999199519708, 'CY': 0.87597911227154046, 'CX': 1.0, 'T': 1.0, 'V': 0.91130670277589709, 'CS': 0.88968481375358166, 'X': 1.0, 'CQ': 0.83333333333333337, 'Z': 0.92462311557788945, 'CW': 0.77777777777777779, 'CV': 1.0, 'CU': -1, 'CT': 1.0, 'CR': -1, 'AY': 0.6470588235294118, 'AC': 1.0, 'DN': 0.79012345679012341, 'DO': 0.62147854036679906, 'DL': 0.88888888888888884, 'DM': 0.92156862745098034, 'DJ': 0.74819277108433735, 'DK': 0.81395348837209303, 'DH': 0.82588597842835132, 'DI': 0.8613494539781591, 'DF': 0.60053619302949057, 'DG': 0.84615384615384615, 'DD': 1.0, 'DE': 0.88888888888888884, 'DB': 1.0, 'DC': 1.0, 'DA': 0.82132564841498557, 'CH': 0.72580645161290325, 'DZ': 0.94999999999999996, 'DX': 0.6959427207637231, 'DY': 0.63673262303399292, 'DV': 0.73333333333333328, 'DW': 0.83333333333333337, 'DT': 1.0, 'DU': 0.53333333333333333, 'DR': 0.88197424892703857, 'DS': 0.75875743555849307, 'DP': 0.74607273509791261, 'CN': 0.62723631508678235, 'AG': 0.81931608133086875, 'F': 0.90909090909090906, 'AM': 1.0, 'AA': 0.8833333333333333, 'AI': 0.88544891640866874, 'CB': 0.92307692307692313, 'DQ': 0.55555555555555558, 'AE': 0.5, 'K': -1, 'A': 0.9838709677419355, 'C': 0.92380952380952386, 'AB': 1.0, 'E': 1.0, 'AD': -1, 'G': 0.66883116883116878, 'AF': 0.76772823779193211, 'I': 1.0, 'AH': 0.88, 'AK': 0.79710144927536231, 'AJ': 1.0, 'M': 1.0, 'AL': 0.96376811594202894, 'O': 1.0, 'CF': 0.94326241134751776, 'Q': 1.0, 'AP': 1.0, 'AS': 0.77864583333333337, 'AR': 0.90384615384615385, 'U': 0.85134328358208955, 'AO': 0.81042654028436023, 'W': 1.0, 'AV': 1.0, 'Y': 0.59872611464968151, 'AX': 1.0, 'CD': 1.0, 'AQ': -1, 'CZ': 1.0, 'S': -1, 'R': 0.79495798319327726, 'AU': 0.82352941176470584, 'AT': 0.75})\n"
     ]
    }
   ],
   "source": [
    "#print catEncoders['v56']\n",
    "print catProbability['v56']"
   ]
  },
  {
   "cell_type": "code",
   "execution_count": 15,
   "metadata": {
    "ExecuteTime": {
     "end_time": "2016-04-02T19:54:43.756156",
     "start_time": "2016-04-02T19:54:43.734066"
    },
    "collapsed": false
   },
   "outputs": [],
   "source": [
    "# Choose Encoder or Proba\n",
    "catForEncoders = ['v22']\n",
    "catEncoders = { your_key: catEncoders[your_key] for your_key in catForEncoders }\n",
    "catProbability = { your_key: catProbability[your_key] for your_key in set(catProbability.keys()) - set(catForEncoders) }"
   ]
  },
  {
   "cell_type": "code",
   "execution_count": 16,
   "metadata": {
    "ExecuteTime": {
     "end_time": "2016-04-02T19:54:43.848852",
     "start_time": "2016-04-02T19:54:43.758189"
    },
    "collapsed": true
   },
   "outputs": [],
   "source": [
    "def prepareX(df, isTrainning):\n",
    "    colsToAdd = columnsDict['float64'] + columnsDict['int64']\n",
    "    \n",
    "    dfX = df[colsToAdd]\n",
    "    dfX = dfX.fillna(-1) # -1 is a good missing value encoder because everything is >= 0\n",
    "    \n",
    "    for col in colsToAdd:\n",
    "        dfX[col+\"_m\"] = df[col]\n",
    "        \n",
    "    # Add categorical features, and replace categories with int\n",
    "    dfX[columnsDict['object']] = df[columnsDict['object']]\n",
    "    #dfX = dfX.replace(catEncoders) # catEncoders\n",
    "    #dfX = dfX.replace(catProbability) # catEncoders\n",
    "    \n",
    "    # Add dummies\n",
    "    dfX[kaggleTrainDummies.columns] = df[kaggleTrainDummies.columns]\n",
    "    \n",
    "    # Features selection\n",
    "    if False:\n",
    "        featToKeep = ['v50', 'v66', 'v113', 'v47', 'v110', 'v10', 'v31', 'v129', 'v12', 'v79', 'v56', 'v14', 'v62', 'v114_m', 'v34_m', 'v40_m', 'v21_m', 'v24', 'v38_m', 'v22', 'v125', 'v72_m', 'v123_m', 'v88_m', 'v28_m', 'v82_m', 'v58_m', 'v100_m', 'v68_m', 'v131', 'v1_m', 'v124_m', 'v45_m', 'v46', 'v37_m', 'v119_m', 'v89_m', 'v98_m', 'v36', 'v85_m', 'v120_m', 'v5_m', 'v16', 'v54_m', 'v35', 'v63_m', 'v6_m', 'v78_m', 'v99_m', 'v126_m', 'v112', 'v97_m', 'v94', 'v122_m', 'v57_m', 'v117_m', 'v2_m', 'v86_m', 'v51_m', 'v84_m', 'v11_m', 'v4_m', 'v130_m', 'v42', 'v18_m', 'v53_m', 'v115_m', 'v118', 'v101_m', 'v9_m', 'v61_m', 'v103_m', 'v127_m', 'v87_m', 'v8_m', 'v7_m', 'v32_m', 'v90_m', 'v81_m', 'v59_m', 'v27_m', 'v128_m', 'v20_m', 'v26_m', 'v105_m', 'v108_m', 'v30', 'v73_m', 'v13_m', 'v102_m', 'v25_m', 'v52', 'v121_m', 'v93_m', 'v41', 'v69_m', 'v95_m', 'v104_m', 'v116_m', 'v80_m', 'v111_m', 'v15_m', 'v43_m', 'v70_m', 'v55_m', 'v106_m', 'v60_m', 'v39_m', 'v19_m', 'v33_m', 'v83_m', 'v76_m', 'v44_m', 'v77_m', 'v48_m', 'v65_m', 'v109_m', 'v67_m', 'v29_m', 'v17_m', 'v49_m', 'v92_m', 'v23', 'v96_m', 'v64_m', 'v71', 'v3', 'v107', 'v91', 'v74', 'v75']\n",
    "        featToKeep = featToKeep[:len(featToKeep)-50] # Remove the last 50 less important feature\n",
    "        featToKeep = [x for x in featToKeep if x not in columnsDict['dummies']] # Remove dummy columns\n",
    "        featToKeep = featToKeep + kaggleTrainDummies.columns.tolist() # Add dummies columns\n",
    "        dfX = dfX[featToKeep]\n",
    "    \n",
    "    # Features creation:\n",
    "    dfX['missing'] = df.isnull().sum(axis=1)\n",
    "    \n",
    "    finish(\"Prepare X finished!\")\n",
    "    return dfX"
   ]
  },
  {
   "cell_type": "code",
   "execution_count": 17,
   "metadata": {
    "ExecuteTime": {
     "end_time": "2016-04-02T19:54:43.872124",
     "start_time": "2016-04-02T19:54:43.850758"
    },
    "collapsed": true
   },
   "outputs": [],
   "source": [
    "def prepareY(df):   \n",
    "    return df[[\"target\"]].values.ravel()"
   ]
  },
  {
   "cell_type": "code",
   "execution_count": 18,
   "metadata": {
    "ExecuteTime": {
     "end_time": "2016-04-02T19:54:46.852974",
     "start_time": "2016-04-02T19:54:43.873836"
    },
    "collapsed": false
   },
   "outputs": [],
   "source": [
    "X_train = prepareX(train, True)\n",
    "y_train = prepareY(train)"
   ]
  },
  {
   "cell_type": "code",
   "execution_count": 19,
   "metadata": {
    "ExecuteTime": {
     "end_time": "2016-04-02T19:54:49.119252",
     "start_time": "2016-04-02T19:54:46.854911"
    },
    "collapsed": false
   },
   "outputs": [],
   "source": [
    "X_test = prepareX(test, False)\n",
    "y_test = prepareY(test)"
   ]
  },
  {
   "cell_type": "code",
   "execution_count": 20,
   "metadata": {
    "ExecuteTime": {
     "end_time": "2016-04-02T19:54:49.365638",
     "start_time": "2016-04-02T19:54:49.120985"
    },
    "collapsed": false
   },
   "outputs": [
    {
     "name": "stdout",
     "output_type": "stream",
     "text": [
      "178\n",
      "123\n",
      "123\n",
      "123\n"
     ]
    }
   ],
   "source": [
    "colsMissingValues = X_train.isnull().sum()\n",
    "print len(train.columns)\n",
    "print len(X_train.columns)\n",
    "print len(X_test.columns)\n",
    "#print set(train.columns) - set(X_train.columns)\n",
    "print len(colsMissingValues)"
   ]
  },
  {
   "cell_type": "markdown",
   "metadata": {},
   "source": [
    "# Model"
   ]
  },
  {
   "cell_type": "code",
   "execution_count": 21,
   "metadata": {
    "ExecuteTime": {
     "end_time": "2016-04-02T19:54:49.373814",
     "start_time": "2016-04-02T19:54:49.367317"
    },
    "collapsed": false
   },
   "outputs": [
    {
     "name": "stdout",
     "output_type": "stream",
     "text": [
      "11\n"
     ]
    }
   ],
   "source": [
    "sqrtNbrFeat = int(sqrt(len(X_train.columns)))\n",
    "print sqrtNbrFeat"
   ]
  },
  {
   "cell_type": "code",
   "execution_count": 22,
   "metadata": {
    "ExecuteTime": {
     "end_time": "2016-04-02T19:54:49.389369",
     "start_time": "2016-04-02T19:54:49.377251"
    },
    "collapsed": true
   },
   "outputs": [],
   "source": [
    "#.setNumTrees(150).setMaxDepth(6)\n",
    "clf = RandomForestClassifier(n_estimators=150,\n",
    "                             n_jobs=-1,\n",
    "                             max_depth=10,\n",
    "                             #max_features=sqrtNbrFeat,\n",
    "                             criterion='gini') #  max_depth=7"
   ]
  },
  {
   "cell_type": "raw",
   "metadata": {
    "ExecuteTime": {
     "end_time": "2016-03-31T11:58:28.730313",
     "start_time": "2016-03-31T11:58:28.726551"
    },
    "collapsed": true
   },
   "source": [
    "clf = ExtraTreesClassifier(n_estimators=850, max_features=60, criterion='entropy', min_samples_split=4,\n",
    "                            max_depth=40, min_samples_leaf=2, n_jobs=-1)     "
   ]
  },
  {
   "cell_type": "code",
   "execution_count": 23,
   "metadata": {
    "ExecuteTime": {
     "end_time": "2016-04-02T19:54:49.408488",
     "start_time": "2016-04-02T19:54:49.391049"
    },
    "collapsed": true
   },
   "outputs": [],
   "source": [
    "#clf.fit(X_train, y_train)"
   ]
  },
  {
   "cell_type": "markdown",
   "metadata": {},
   "source": [
    "# Pipeline"
   ]
  },
  {
   "cell_type": "code",
   "execution_count": 24,
   "metadata": {
    "ExecuteTime": {
     "end_time": "2016-04-02T19:54:49.424755",
     "start_time": "2016-04-02T19:54:49.410055"
    },
    "collapsed": false
   },
   "outputs": [],
   "source": [
    "imputer = Imputer(missing_values=\"NaN\",\n",
    "                  strategy=\"mean\",\n",
    "                  axis=0)"
   ]
  },
  {
   "cell_type": "code",
   "execution_count": 25,
   "metadata": {
    "ExecuteTime": {
     "end_time": "2016-04-02T19:54:49.445014",
     "start_time": "2016-04-02T19:54:49.426412"
    },
    "collapsed": false
   },
   "outputs": [
    {
     "data": {
      "text/plain": [
       "['v22']"
      ]
     },
     "execution_count": 25,
     "metadata": {},
     "output_type": "execute_result"
    }
   ],
   "source": [
    "catEncoders.keys()"
   ]
  },
  {
   "cell_type": "code",
   "execution_count": 26,
   "metadata": {
    "ExecuteTime": {
     "end_time": "2016-04-02T19:54:49.460061",
     "start_time": "2016-04-02T19:54:49.446562"
    },
    "collapsed": false
   },
   "outputs": [],
   "source": [
    "import imputerproba\n",
    "reload(imputerproba)\n",
    "from imputerproba import ImputerProba\n",
    "imputerProba = ImputerProba(columnsEncod=(catEncoders.keys() + [x+'_m' for x in catEncoders.keys()]),\n",
    "                            columnsProba=catProbability.keys(),\n",
    "                            verbose=1)"
   ]
  },
  {
   "cell_type": "code",
   "execution_count": 27,
   "metadata": {
    "ExecuteTime": {
     "end_time": "2016-04-02T19:54:49.479408",
     "start_time": "2016-04-02T19:54:49.461716"
    },
    "collapsed": false
   },
   "outputs": [],
   "source": [
    "estimator = Pipeline([(\"imputerProba\", imputerProba),\n",
    "                      (\"imputer\", imputer),\n",
    "                      (\"forest\", clf)\n",
    "                     ])"
   ]
  },
  {
   "cell_type": "code",
   "execution_count": 28,
   "metadata": {
    "ExecuteTime": {
     "end_time": "2016-04-02T19:58:23.598450",
     "start_time": "2016-04-02T19:54:49.481012"
    },
    "collapsed": false
   },
   "outputs": [
    {
     "name": "stdout",
     "output_type": "stream",
     "text": [
      "Fit\n",
      "Column encod: v22_m is not in X, skip.\n",
      "Column proba: v30 is not in X, skip.\n",
      "Column proba: v31 is not in X, skip.\n",
      "Column proba: v91 is not in X, skip.\n",
      "Column proba: v24 is not in X, skip.\n",
      "Column proba: v74 is not in X, skip.\n",
      "Column proba: v66 is not in X, skip.\n",
      "Column proba: v110 is not in X, skip.\n",
      "Column proba: v71 is not in X, skip.\n",
      "Column proba: v107 is not in X, skip.\n",
      "Column proba: v3 is not in X, skip.\n",
      "Column proba: v52 is not in X, skip.\n",
      "Column proba: v75 is not in X, skip.\n",
      "Transform\n",
      "Column encod: v22_m is not in X, skip.\n",
      "Column proba: v30 is not in X, skip.\n",
      "Column proba: v31 is not in X, skip.\n",
      "Column proba: v91 is not in X, skip.\n",
      "Column proba: v24 is not in X, skip.\n",
      "Column proba: v74 is not in X, skip.\n",
      "Column proba: v66 is not in X, skip.\n",
      "Column proba: v110 is not in X, skip.\n",
      "Column proba: v71 is not in X, skip.\n",
      "Column proba: v107 is not in X, skip.\n",
      "Column proba: v3 is not in X, skip.\n",
      "Column proba: v52 is not in X, skip.\n",
      "Column proba: v75 is not in X, skip.\n"
     ]
    }
   ],
   "source": [
    "estimator.fit(X_train, y_train)\n",
    "finish()"
   ]
  },
  {
   "cell_type": "markdown",
   "metadata": {},
   "source": [
    "## Scoring"
   ]
  },
  {
   "cell_type": "code",
   "execution_count": 29,
   "metadata": {
    "ExecuteTime": {
     "end_time": "2016-04-02T20:04:12.175663",
     "start_time": "2016-04-02T19:58:23.600454"
    },
    "collapsed": false,
    "scrolled": true
   },
   "outputs": [
    {
     "name": "stdout",
     "output_type": "stream",
     "text": [
      "Transform\n",
      "Column encod: v22_m is not in X, skip.\n",
      "Column proba: v30 is not in X, skip.\n",
      "Column proba: v31 is not in X, skip.\n",
      "Column proba: v91 is not in X, skip.\n",
      "Column proba: v24 is not in X, skip.\n",
      "Column proba: v74 is not in X, skip.\n",
      "Column proba: v66 is not in X, skip.\n",
      "Column proba: v110 is not in X, skip.\n",
      "Column proba: v71 is not in X, skip.\n",
      "Column proba: v107 is not in X, skip.\n",
      "Column proba: v3 is not in X, skip.\n",
      "Column proba: v52 is not in X, skip.\n",
      "Column proba: v75 is not in X, skip.\n",
      "Transform\n",
      "Column encod: v22_m is not in X, skip.\n",
      "Column proba: v30 is not in X, skip.\n",
      "Column proba: v31 is not in X, skip.\n",
      "Column proba: v91 is not in X, skip.\n",
      "Column proba: v24 is not in X, skip.\n",
      "Column proba: v74 is not in X, skip.\n",
      "Column proba: v66 is not in X, skip.\n",
      "Column proba: v110 is not in X, skip.\n",
      "Column proba: v71 is not in X, skip.\n",
      "Column proba: v107 is not in X, skip.\n",
      "Column proba: v3 is not in X, skip.\n",
      "Column proba: v52 is not in X, skip.\n",
      "Column proba: v75 is not in X, skip.\n",
      "Training score: estimator+missingFeat+dummy\n",
      "0.78453026592\n",
      "0.451146346427 compare to best score: -0.00973023521651\n"
     ]
    }
   ],
   "source": [
    "evaluate(estimator, X_train, y_train, \"Training\", \"estimator+missingFeat+dummy\")"
   ]
  },
  {
   "cell_type": "code",
   "execution_count": 30,
   "metadata": {
    "ExecuteTime": {
     "end_time": "2016-04-02T20:05:34.249531",
     "start_time": "2016-04-02T20:04:12.177681"
    },
    "collapsed": false
   },
   "outputs": [
    {
     "name": "stdout",
     "output_type": "stream",
     "text": [
      "Transform\n",
      "Column encod: v22_m is not in X, skip.\n",
      "Column proba: v30 is not in X, skip.\n",
      "Column proba: v31 is not in X, skip.\n",
      "Column proba: v91 is not in X, skip.\n",
      "Column proba: v24 is not in X, skip.\n",
      "Column proba: v74 is not in X, skip.\n",
      "Column proba: v66 is not in X, skip.\n",
      "Column proba: v110 is not in X, skip.\n",
      "Column proba: v71 is not in X, skip.\n",
      "Column proba: v107 is not in X, skip.\n",
      "Column proba: v3 is not in X, skip.\n",
      "Column proba: v52 is not in X, skip.\n",
      "Column proba: v75 is not in X, skip.\n",
      "Transform\n",
      "Column encod: v22_m is not in X, skip.\n",
      "Column proba: v30 is not in X, skip.\n",
      "Column proba: v31 is not in X, skip.\n",
      "Column proba: v91 is not in X, skip.\n",
      "Column proba: v24 is not in X, skip.\n",
      "Column proba: v74 is not in X, skip.\n",
      "Column proba: v66 is not in X, skip.\n",
      "Column proba: v110 is not in X, skip.\n",
      "Column proba: v71 is not in X, skip.\n",
      "Column proba: v107 is not in X, skip.\n",
      "Column proba: v3 is not in X, skip.\n",
      "Column proba: v52 is not in X, skip.\n",
      "Column proba: v75 is not in X, skip.\n",
      "Testing score: estimator+missingFeat+dummy\n",
      "0.772578176252\n",
      "0.482508781469 compare to best score: 0.0216321998246\n"
     ]
    }
   ],
   "source": [
    "evaluate(estimator, X_test, y_test, \"Testing\", \"estimator+missingFeat+dummy\")"
   ]
  },
  {
   "cell_type": "markdown",
   "metadata": {},
   "source": [
    "## Features Analysis"
   ]
  },
  {
   "cell_type": "code",
   "execution_count": 31,
   "metadata": {
    "ExecuteTime": {
     "end_time": "2016-04-02T20:05:34.290020",
     "start_time": "2016-04-02T20:05:34.251507"
    },
    "collapsed": false
   },
   "outputs": [],
   "source": [
    "featToKeep = []\n",
    "def feature_analysis(model, X):\n",
    "    importancePd = pd.DataFrame(X.columns, columns=[\"feature\"])\n",
    "    importancePd[\"importance\"] = model.feature_importances_\n",
    "    \n",
    "    importancePd = importancePd.sort(['importance'], ascending=[0])\n",
    "    importancePd = importancePd.set_index(['feature'])\n",
    "    \n",
    "    print importancePd.head(n=10)\n",
    "\n",
    "    plt.figure();\n",
    "    pylab.rcParams['figure.figsize'] = (30, 3)\n",
    "    importancePd[:50].plot(kind='bar');\n",
    "    importancePd[50:200].plot(kind='bar');\n",
    "    plt.axhline(0, color='k')\n",
    "           \n",
    "    for index, row in importancePd.iterrows():\n",
    "        #print row['importance']\n",
    "        #print index\n",
    "        \n",
    "        if not \"_m\" in index:\n",
    "            indexWithM = index + \"_m\"\n",
    "            imp = importancePd[importancePd.index==index].importance.item()\n",
    "            impWithM = importancePd[importancePd.index==indexWithM]\n",
    "            if len(impWithM):\n",
    "                impWithM = impWithM.importance.item()\n",
    "            \n",
    "                if impWithM <= imp:\n",
    "                    #print index + \" is better        impNotM: \" + str(impWithM) + \" <= imp: \" + str(imp)\n",
    "                    featToKeep.append(index)\n",
    "                else:\n",
    "                    #print indexWithM + \" is better   impNotM: \" + str(impWithM) + \" > imp: \" + str(imp)\n",
    "                    featToKeep.append(indexWithM)\n",
    "            else:\n",
    "                featToKeep.append(index)\n",
    "                \n",
    "    print \"Features to keep (use only if all the features are here from prepareX):\"\n",
    "    print featToKeep\n",
    "    "
   ]
  },
  {
   "cell_type": "code",
   "execution_count": 44,
   "metadata": {
    "ExecuteTime": {
     "end_time": "2016-04-03T03:40:05.426372",
     "start_time": "2016-04-03T03:40:03.850314"
    },
    "collapsed": false
   },
   "outputs": [
    {
     "name": "stdout",
     "output_type": "stream",
     "text": [
      "         importance\n",
      "feature            \n",
      "v50        0.186861\n",
      "v56        0.085167\n",
      "v79        0.045663\n",
      "v66_C      0.042021\n",
      "v12        0.036863\n",
      "v10        0.034206\n",
      "v31_A      0.028788\n",
      "v110_B     0.024483\n",
      "v114_m     0.023746\n",
      "v47        0.022872\n",
      "Features to keep (use only if all the features are here from prepareX):\n",
      "['v50', 'v56', 'v79', 'v66_C', 'v12', 'v10', 'v31_A', 'v110_B', 'v47', 'v110_A', 'v66_B', 'v129', 'v14', 'v113', 'v62', 'v66_A', 'v31_B', 'v22', 'v125', 'v24_E', 'v16', 'v46', 'v36', 'v24_D', 'v131', 'v42', 'v118', 'v94', 'v35', 'v24_C', 'v112', 'missing', 'v31_C', 'v30_C', 'v75_B', 'v75_D', 'v74_B', 'v3_C', 'v110_C', 'v24_B', 'v30_G', 'v107_E', 'v74_C', 'v91_B', 'v30_D', 'v91_G', 'v24_A', 'v30_E', 'v107_B', 'v107_D', 'v107_A', 'v91_A', 'v107_C', 'v91_F', 'v91_C', 'v30_F', 'v91_E', 'v30_A', 'v107_F', 'v75_C', 'v91_D', 'v74_A', 'v107_G', 'v30_B', 'v3_B', 'v3_A', 'v75_A', 'v50', 'v56', 'v79', 'v66_C', 'v12', 'v10', 'v31_A', 'v110_B', 'v47', 'v110_A', 'v66_B', 'v129', 'v14', 'v113', 'v62', 'v66_A', 'v31_B', 'v22', 'v125', 'v24_E', 'v16', 'v46', 'v36', 'v24_D', 'v131', 'v42', 'v118', 'v94', 'v35', 'v24_C', 'v112', 'missing', 'v31_C', 'v30_C', 'v75_B', 'v75_D', 'v74_B', 'v3_C', 'v110_C', 'v24_B', 'v30_G', 'v107_E', 'v74_C', 'v91_B', 'v30_D', 'v91_G', 'v24_A', 'v30_E', 'v107_B', 'v107_D', 'v107_A', 'v91_A', 'v107_C', 'v91_F', 'v91_C', 'v30_F', 'v91_E', 'v30_A', 'v107_F', 'v75_C', 'v91_D', 'v74_A', 'v107_G', 'v30_B', 'v3_B', 'v3_A', 'v75_A']\n"
     ]
    },
    {
     "data": {
      "text/plain": [
       "<matplotlib.figure.Figure at 0x7fd30e38b750>"
      ]
     },
     "metadata": {},
     "output_type": "display_data"
    },
    {
     "data": {
      "image/png": "[encoded data removed]",
      "text/plain": [
       "<matplotlib.figure.Figure at 0x7fd30e69e4d0>"
      ]
     },
     "metadata": {},
     "output_type": "display_data"
    },
    {
     "data": {
      "image/png": "[encoded data removed]",
      "text/plain": [
       "<matplotlib.figure.Figure at 0x7fd30e69e1d0>"
      ]
     },
     "metadata": {},
     "output_type": "display_data"
    }
   ],
   "source": [
    "feature_analysis(clf, X_train)"
   ]
  },
  {
   "cell_type": "markdown",
   "metadata": {},
   "source": [
    "# Grid search"
   ]
  },
  {
   "cell_type": "code",
   "execution_count": 33,
   "metadata": {
    "ExecuteTime": {
     "end_time": "2016-04-02T20:05:35.965072",
     "start_time": "2016-04-02T20:05:35.956029"
    },
    "collapsed": false
   },
   "outputs": [],
   "source": [
    "# Utility function to report best scores\n",
    "def report(grid_scores, n_top=3, save=False):\n",
    "    top_scores = sorted(grid_scores, key=itemgetter(1), reverse=True)[:n_top]\n",
    "    for i, score in enumerate(top_scores):\n",
    "        print(\"Model with rank: {0}\".format(i + 1))\n",
    "        print(\"Mean validation score: {0:.3f} (std: {1:.3f})\".format(\n",
    "              score.mean_validation_score,\n",
    "              np.std(score.cv_validation_scores)))\n",
    "        print(\"Parameters: {0}\".format(score.parameters))\n",
    "        print(\"\")\n",
    "        \n",
    "        if save:\n",
    "            currentDate = str(datetime.now().strftime('%Y-%m-%d %H:%M:%S'))\n",
    "            logline = str(\"{0}\".format(i + 1)) + \";\" + \"{0:.5f};{1:.5f}\".format(score.mean_validation_score,np.std(score.cv_validation_scores)) + \";\" + currentDate + \";\" + \"{0}\".format(score.parameters)\n",
    "            with open(\"gridSearch.log\", \"a\") as myfile:\n",
    "                myfile.write(logline+\"\\n\")"
   ]
  },
  {
   "cell_type": "code",
   "execution_count": 34,
   "metadata": {
    "ExecuteTime": {
     "end_time": "2016-04-02T20:05:35.991884",
     "start_time": "2016-04-02T20:05:35.966682"
    },
    "collapsed": false
   },
   "outputs": [],
   "source": [
    "# specify parameters and distributions to sample from\n",
    "modelName = \"forest__\"\n",
    "param_dist = {modelName+\"max_depth\": [None],          # Default -> None | If Nonen then nodes are expanded until min_samples_split (Ignored if max_leaf_nodes is not None.)\n",
    "              modelName+\"max_features\": sp_randint(sqrtNbrFeat-4, sqrtNbrFeat+4),#sp_randint(14, 24),      # Default -> sqrt(n_features) ~14\n",
    "              modelName+\"min_samples_split\": sp_randint(1, 5), # Default -> 2 (useless if mex_depth not None)\n",
    "              modelName+\"min_samples_leaf\": sp_randint(1, 15),  # Default -> 1\n",
    "              modelName+\"bootstrap\": [False]              # Default -> True\n",
    "              #modelName+\"criterion\": [\"gini\", \"entropy\"] # gini\n",
    "             }\n",
    "\n",
    "# run randomized search\n",
    "n_iter_search = 20\n",
    "grid_search = RandomizedSearchCV(estimator, param_distributions=param_dist,\n",
    "                                   n_iter=n_iter_search, scoring=\"log_loss\")"
   ]
  },
  {
   "cell_type": "code",
   "execution_count": 35,
   "metadata": {
    "ExecuteTime": {
     "end_time": "2016-04-02T22:57:30.067325",
     "start_time": "2016-04-02T20:05:35.993792"
    },
    "collapsed": false
   },
   "outputs": [
    {
     "name": "stdout",
     "output_type": "stream",
     "text": [
      "RandomizedSearchCV took 10312.98 seconds for 20 candidates parameter settings.\n",
      "Model with rank: 1\n",
      "Mean validation score: -0.467 (std: 0.001)\n",
      "Parameters: {'forest__bootstrap': False, 'forest__max_features': 13, 'forest__min_samples_leaf': 6, 'forest__max_depth': None, 'forest__min_samples_split': 3}\n",
      "\n",
      "Model with rank: 2\n",
      "Mean validation score: -0.467 (std: 0.001)\n",
      "Parameters: {'forest__bootstrap': False, 'forest__max_features': 14, 'forest__min_samples_leaf': 6, 'forest__max_depth': None, 'forest__min_samples_split': 3}\n",
      "\n",
      "Model with rank: 3\n",
      "Mean validation score: -0.468 (std: 0.002)\n",
      "Parameters: {'forest__bootstrap': False, 'forest__max_features': 13, 'forest__min_samples_leaf': 3, 'forest__max_depth': None, 'forest__min_samples_split': 3}\n",
      "\n"
     ]
    }
   ],
   "source": [
    "start = time()\n",
    "grid_search.fit(X_train, y_train)\n",
    "print(\"RandomizedSearchCV took %.2f seconds for %d candidates\"\n",
    "      \" parameter settings.\" % ((time() - start), n_iter_search))\n",
    "report(grid_search.grid_scores_)\n",
    "finish()"
   ]
  },
  {
   "cell_type": "code",
   "execution_count": 36,
   "metadata": {
    "ExecuteTime": {
     "end_time": "2016-04-02T22:57:30.077018",
     "start_time": "2016-04-02T22:57:30.069096"
    },
    "collapsed": false
   },
   "outputs": [
    {
     "name": "stdout",
     "output_type": "stream",
     "text": [
      "Model with rank: 1\n",
      "Mean validation score: -0.467 (std: 0.001)\n",
      "Parameters: {'forest__bootstrap': False, 'forest__max_features': 13, 'forest__min_samples_leaf': 6, 'forest__max_depth': None, 'forest__min_samples_split': 3}\n",
      "\n",
      "Model with rank: 2\n",
      "Mean validation score: -0.467 (std: 0.001)\n",
      "Parameters: {'forest__bootstrap': False, 'forest__max_features': 14, 'forest__min_samples_leaf': 6, 'forest__max_depth': None, 'forest__min_samples_split': 3}\n",
      "\n",
      "Model with rank: 3\n",
      "Mean validation score: -0.468 (std: 0.002)\n",
      "Parameters: {'forest__bootstrap': False, 'forest__max_features': 13, 'forest__min_samples_leaf': 3, 'forest__max_depth': None, 'forest__min_samples_split': 3}\n",
      "\n",
      "Model with rank: 4\n",
      "Mean validation score: -0.468 (std: 0.001)\n",
      "Parameters: {'forest__bootstrap': False, 'forest__max_features': 13, 'forest__min_samples_leaf': 9, 'forest__max_depth': None, 'forest__min_samples_split': 2}\n",
      "\n",
      "Model with rank: 5\n",
      "Mean validation score: -0.468 (std: 0.001)\n",
      "Parameters: {'forest__bootstrap': False, 'forest__max_features': 14, 'forest__min_samples_leaf': 12, 'forest__max_depth': None, 'forest__min_samples_split': 4}\n",
      "\n",
      "Model with rank: 6\n",
      "Mean validation score: -0.468 (std: 0.001)\n",
      "Parameters: {'forest__bootstrap': False, 'forest__max_features': 12, 'forest__min_samples_leaf': 9, 'forest__max_depth': None, 'forest__min_samples_split': 4}\n",
      "\n",
      "Model with rank: 7\n",
      "Mean validation score: -0.468 (std: 0.001)\n",
      "Parameters: {'forest__bootstrap': False, 'forest__max_features': 14, 'forest__min_samples_leaf': 13, 'forest__max_depth': None, 'forest__min_samples_split': 2}\n",
      "\n",
      "Model with rank: 8\n",
      "Mean validation score: -0.468 (std: 0.001)\n",
      "Parameters: {'forest__bootstrap': False, 'forest__max_features': 10, 'forest__min_samples_leaf': 5, 'forest__max_depth': None, 'forest__min_samples_split': 4}\n",
      "\n",
      "Model with rank: 9\n",
      "Mean validation score: -0.468 (std: 0.001)\n",
      "Parameters: {'forest__bootstrap': False, 'forest__max_features': 14, 'forest__min_samples_leaf': 14, 'forest__max_depth': None, 'forest__min_samples_split': 1}\n",
      "\n",
      "Model with rank: 10\n",
      "Mean validation score: -0.468 (std: 0.001)\n",
      "Parameters: {'forest__bootstrap': False, 'forest__max_features': 13, 'forest__min_samples_leaf': 2, 'forest__max_depth': None, 'forest__min_samples_split': 1}\n",
      "\n",
      "Model with rank: 11\n",
      "Mean validation score: -0.469 (std: 0.001)\n",
      "Parameters: {'forest__bootstrap': False, 'forest__max_features': 9, 'forest__min_samples_leaf': 5, 'forest__max_depth': None, 'forest__min_samples_split': 3}\n",
      "\n",
      "Model with rank: 12\n",
      "Mean validation score: -0.469 (std: 0.001)\n",
      "Parameters: {'forest__bootstrap': False, 'forest__max_features': 10, 'forest__min_samples_leaf': 8, 'forest__max_depth': None, 'forest__min_samples_split': 3}\n",
      "\n",
      "Model with rank: 13\n",
      "Mean validation score: -0.469 (std: 0.001)\n",
      "Parameters: {'forest__bootstrap': False, 'forest__max_features': 13, 'forest__min_samples_leaf': 2, 'forest__max_depth': None, 'forest__min_samples_split': 3}\n",
      "\n",
      "Model with rank: 14\n",
      "Mean validation score: -0.469 (std: 0.001)\n",
      "Parameters: {'forest__bootstrap': False, 'forest__max_features': 10, 'forest__min_samples_leaf': 10, 'forest__max_depth': None, 'forest__min_samples_split': 4}\n",
      "\n",
      "Model with rank: 15\n",
      "Mean validation score: -0.469 (std: 0.001)\n",
      "Parameters: {'forest__bootstrap': False, 'forest__max_features': 11, 'forest__min_samples_leaf': 13, 'forest__max_depth': None, 'forest__min_samples_split': 2}\n",
      "\n",
      "Model with rank: 16\n",
      "Mean validation score: -0.471 (std: 0.002)\n",
      "Parameters: {'forest__bootstrap': False, 'forest__max_features': 7, 'forest__min_samples_leaf': 6, 'forest__max_depth': None, 'forest__min_samples_split': 1}\n",
      "\n",
      "Model with rank: 17\n",
      "Mean validation score: -0.472 (std: 0.002)\n",
      "Parameters: {'forest__bootstrap': False, 'forest__max_features': 7, 'forest__min_samples_leaf': 1, 'forest__max_depth': None, 'forest__min_samples_split': 4}\n",
      "\n",
      "Model with rank: 18\n",
      "Mean validation score: -0.472 (std: 0.001)\n",
      "Parameters: {'forest__bootstrap': False, 'forest__max_features': 7, 'forest__min_samples_leaf': 9, 'forest__max_depth': None, 'forest__min_samples_split': 1}\n",
      "\n",
      "Model with rank: 19\n",
      "Mean validation score: -0.472 (std: 0.001)\n",
      "Parameters: {'forest__bootstrap': False, 'forest__max_features': 7, 'forest__min_samples_leaf': 10, 'forest__max_depth': None, 'forest__min_samples_split': 3}\n",
      "\n",
      "Model with rank: 20\n",
      "Mean validation score: -0.473 (std: 0.001)\n",
      "Parameters: {'forest__bootstrap': False, 'forest__max_features': 7, 'forest__min_samples_leaf': 13, 'forest__max_depth': None, 'forest__min_samples_split': 3}\n",
      "\n"
     ]
    }
   ],
   "source": [
    "report(grid_search.grid_scores_, 20, True)"
   ]
  },
  {
   "cell_type": "code",
   "execution_count": 37,
   "metadata": {
    "ExecuteTime": {
     "end_time": "2016-04-02T22:58:43.350110",
     "start_time": "2016-04-02T22:57:30.078608"
    },
    "collapsed": false
   },
   "outputs": [
    {
     "name": "stdout",
     "output_type": "stream",
     "text": [
      "Testing score: GridSearchBest\n",
      "0.783774327575\n",
      "0.466121895369 compare to best score: 0.00524531372512\n"
     ]
    }
   ],
   "source": [
    "evaluate(grid_search.best_estimator_, X_test, y_test, \"Testing\", \"GridSearchBest\")"
   ]
  },
  {
   "cell_type": "markdown",
   "metadata": {},
   "source": [
    "# Save"
   ]
  },
  {
   "cell_type": "code",
   "execution_count": 38,
   "metadata": {
    "ExecuteTime": {
     "end_time": "2016-04-02T22:58:43.354217",
     "start_time": "2016-04-02T22:58:43.351706"
    },
    "collapsed": true
   },
   "outputs": [],
   "source": [
    "modelToSave = estimator\n",
    "modelToSave = grid_search.best_estimator_"
   ]
  },
  {
   "cell_type": "code",
   "execution_count": 39,
   "metadata": {
    "ExecuteTime": {
     "end_time": "2016-04-02T22:58:46.424150",
     "start_time": "2016-04-02T22:58:43.355722"
    },
    "collapsed": false
   },
   "outputs": [],
   "source": [
    "X_kaggleTest = prepareX(kaggleTest, False)"
   ]
  },
  {
   "cell_type": "code",
   "execution_count": 40,
   "metadata": {
    "ExecuteTime": {
     "end_time": "2016-04-02T22:58:46.585964",
     "start_time": "2016-04-02T22:58:46.426613"
    },
    "collapsed": false
   },
   "outputs": [
    {
     "name": "stdout",
     "output_type": "stream",
     "text": [
      "Empty DataFrame\n",
      "Columns: [v50, v113, v47, v10, v129, v12, v79, v56, v14, v62, v114_m, v34_m, v40_m, v21_m, v38_m, v22, v125, v72_m, v123_m, v88_m, v28_m, v82_m, v58_m, v100_m, v68_m, v131, v1_m, v124_m, v45_m, v46, v37_m, v119_m, v89_m, v98_m, v36, v85_m, v120_m, v5_m, v16, v54_m, v35, v63_m, v6_m, v78_m, v99_m, v126_m, v112, v97_m, v94, v122_m, v57_m, v117_m, v2_m, v86_m, v51_m, v84_m, v11_m, v4_m, v130_m, v42, v18_m, v53_m, v115_m, v118, v101_m, v9_m, v61_m, v103_m, v127_m, v87_m, v8_m, v7_m, v32_m, v90_m, v81_m, v59_m, v27_m, v3_A, v3_B, v3_C, v24_A, v24_B, v24_C, v24_D, v24_E, v30_A, v30_B, v30_C, v30_D, v30_E, v30_F, v30_G, v31_A, v31_B, v31_C, v66_A, v66_B, v66_C, v74_A, v74_B, ...]\n",
      "Index: []\n",
      "Empty DataFrame\n",
      "Columns: [v50, v113, v47, v10, v129, v12, v79, v56, v14, v62, v114_m, v34_m, v40_m, v21_m, v38_m, v22, v125, v72_m, v123_m, v88_m, v28_m, v82_m, v58_m, v100_m, v68_m, v131, v1_m, v124_m, v45_m, v46, v37_m, v119_m, v89_m, v98_m, v36, v85_m, v120_m, v5_m, v16, v54_m, v35, v63_m, v6_m, v78_m, v99_m, v126_m, v112, v97_m, v94, v122_m, v57_m, v117_m, v2_m, v86_m, v51_m, v84_m, v11_m, v4_m, v130_m, v42, v18_m, v53_m, v115_m, v118, v101_m, v9_m, v61_m, v103_m, v127_m, v87_m, v8_m, v7_m, v32_m, v90_m, v81_m, v59_m, v27_m, v3_A, v3_B, v3_C, v24_A, v24_B, v24_C, v24_D, v24_E, v30_A, v30_B, v30_C, v30_D, v30_E, v30_F, v30_G, v31_A, v31_B, v31_C, v66_A, v66_B, v66_C, v74_A, v74_B, ...]\n",
      "Index: []\n",
      "Empty DataFrame\n",
      "Columns: [v50, v113, v47, v10, v129, v12, v79, v56, v14, v62, v114_m, v34_m, v40_m, v21_m, v38_m, v22, v125, v72_m, v123_m, v88_m, v28_m, v82_m, v58_m, v100_m, v68_m, v131, v1_m, v124_m, v45_m, v46, v37_m, v119_m, v89_m, v98_m, v36, v85_m, v120_m, v5_m, v16, v54_m, v35, v63_m, v6_m, v78_m, v99_m, v126_m, v112, v97_m, v94, v122_m, v57_m, v117_m, v2_m, v86_m, v51_m, v84_m, v11_m, v4_m, v130_m, v42, v18_m, v53_m, v115_m, v118, v101_m, v9_m, v61_m, v103_m, v127_m, v87_m, v8_m, v7_m, v32_m, v90_m, v81_m, v59_m, v27_m, v3_A, v3_B, v3_C, v24_A, v24_B, v24_C, v24_D, v24_E, v30_A, v30_B, v30_C, v30_D, v30_E, v30_F, v30_G, v31_A, v31_B, v31_C, v66_A, v66_B, v66_C, v74_A, v74_B, ...]\n",
      "Index: []\n",
      "Empty DataFrame\n",
      "Columns: [v50, v113, v47, v10, v129, v12, v79, v56, v14, v62, v114_m, v34_m, v40_m, v21_m, v38_m, v22, v125, v72_m, v123_m, v88_m, v28_m, v82_m, v58_m, v100_m, v68_m, v131, v1_m, v124_m, v45_m, v46, v37_m, v119_m, v89_m, v98_m, v36, v85_m, v120_m, v5_m, v16, v54_m, v35, v63_m, v6_m, v78_m, v99_m, v126_m, v112, v97_m, v94, v122_m, v57_m, v117_m, v2_m, v86_m, v51_m, v84_m, v11_m, v4_m, v130_m, v42, v18_m, v53_m, v115_m, v118, v101_m, v9_m, v61_m, v103_m, v127_m, v87_m, v8_m, v7_m, v32_m, v90_m, v81_m, v59_m, v27_m, v3_A, v3_B, v3_C, v24_A, v24_B, v24_C, v24_D, v24_E, v30_A, v30_B, v30_C, v30_D, v30_E, v30_F, v30_G, v31_A, v31_B, v31_C, v66_A, v66_B, v66_C, v74_A, v74_B, ...]\n",
      "Index: []\n",
      "             v50 v113 v47       v10  v129       v12 v79 v56        v14  v62  \\\n",
      "72596   1.087228    V   I  2.625820     0  7.576899   C  CY  12.437815    1   \n",
      "98479   0.991856  NaN   C  1.028447     0  6.438124   E  DH  11.272974    1   \n",
      "100840  2.886069  NaN   C  3.916850     2  7.877724   B  BW  12.329700    0   \n",
      "102898  1.201672  NaN   C  1.028447     0  6.362624   E  DA  10.991098    1   \n",
      "\n",
      "           v114_m      v34_m     v40_m     v21_m  v38_m  v22 v125  v72_m  \\\n",
      "72596   14.581211   7.586965  9.346647  7.207258      0  QFA   AT      1   \n",
      "98479   15.854680   7.792467  7.414081  6.719832      0  QFA   AT      1   \n",
      "100840  15.739374   8.925739  8.529049  6.229135      0  QFA   AT      2   \n",
      "102898  17.977037  10.089058  3.782649  6.327224      0  QFA   AT      1   \n",
      "\n",
      "          v123_m     v88_m     v28_m      v82_m     v58_m     v100_m  \\\n",
      "72596   1.198182  2.173913  6.882618  11.827204  0.503959  19.380849   \n",
      "98479   2.386459  1.137178  7.744280   3.568781  7.954972  12.007504   \n",
      "100840  1.399910  2.524418  2.843704   7.530647  0.372881  19.525425   \n",
      "102898  2.526670  0.855043  3.198631   3.593397  3.561644  16.438356   \n",
      "\n",
      "            v68_m      v131      v1_m    v124_m      v45_m       v46  \\\n",
      "72596   18.200145  1.684210  0.919254  0.005489  10.635769  0.113595   \n",
      "98479   18.836773  1.016950  0.612753  0.041445   9.143449  0.856605   \n",
      "100840  18.033897  3.478261  2.223891  0.012430   8.820809  0.144892   \n",
      "102898  19.421613  1.764707  1.482967  0.046876   8.851492  0.710170   \n",
      "\n",
      "           v37_m    v119_m     v89_m     v98_m        v36     v85_m    v120_m  \\\n",
      "72596   0.395061  0.422775  0.076388  7.178000  10.624629  1.498929  1.353492   \n",
      "98479   0.310881  4.693929  0.371237  7.416470  15.600588  2.865792  1.113196   \n",
      "100840  0.701755  0.436562  0.061442  7.115725   9.101725  1.698113  0.915254   \n",
      "102898  0.465116  0.224557  0.360478  7.624769  14.495328  2.425533  0.578387   \n",
      "\n",
      "             v5_m       v16     v54_m       v35     v63_m      v6_m  \\\n",
      "72596   15.400135  6.736842  0.103564  8.819876  0.132449  2.459627   \n",
      "98479    8.332126  6.271186  0.430488  8.048579  0.872520  2.263318   \n",
      "100840   9.704102  7.391304  0.080086  8.144253  0.163244  3.035311   \n",
      "102898   9.558089  3.235293  0.367486  7.160989  0.805936  2.484971   \n",
      "\n",
      "            v78_m     v99_m    v126_m v112     v97_m       v94    v122_m  \\\n",
      "72596   11.578948  1.241201  1.471022    L  7.851852  3.177419  7.398844   \n",
      "98479   12.711864  1.366271  1.523295    L  8.238343  3.537287  7.193347   \n",
      "100840   8.695652  2.314049  1.501856    L  8.684211  3.517204  6.569342   \n",
      "102898  15.294118  0.906257  1.494976    L  9.379845  3.212088  7.761195   \n",
      "\n",
      "           v57_m     v117_m       v2_m     v86_m     v51_m     v84_m  \\\n",
      "72596   4.236024   7.435611   9.081586  1.192546  2.672501  1.192547   \n",
      "98479   3.444660   8.328711   6.418742  1.432514  7.506414  1.225504   \n",
      "100840  5.304282  10.832401  10.620864  1.014276  5.068489  1.532683   \n",
      "102898  4.742819  11.016105   8.428008  1.042085  7.072422  0.881763   \n",
      "\n",
      "            v11_m      v4_m    v130_m        v42     v18_m      v53_m  \\\n",
      "72596   15.932835  4.672736  0.938272  12.987578  0.981694  16.206212   \n",
      "98479   15.273412  4.233712  1.222797  12.117031  1.130114  15.489130   \n",
      "100840  15.246133  5.858401  0.807017  14.019533  0.416991  15.675676   \n",
      "102898  14.683545  4.022601  1.054263  12.545090  0.464344  14.618973   \n",
      "\n",
      "           v115_m      v118     v101_m      v9_m      v61_m    v103_m  \\\n",
      "72596   11.157895  8.246914  10.209890  9.248555  16.415247  4.154960   \n",
      "98479   13.050848  8.549222   6.722658  8.731808  14.457783  4.877266   \n",
      "100840   6.956521  9.385965  12.638427  9.051096  16.969703  4.893149   \n",
      "102898   9.117646  9.844962   7.148229  9.253732  15.491060  4.181929   \n",
      "\n",
      "          v127_m      v87_m      v8_m      v7_m     v32_m     v90_m     v81_m  \\\n",
      "72596   2.678571  13.106695  0.134583  2.515529  1.490683  1.026295  3.186460   \n",
      "98479   5.030362   9.904238  0.709586  2.130831  1.738891  0.937335  8.480174   \n",
      "100840  1.718633  15.697467  0.053694  3.425996  1.397445  1.022736  4.996502   \n",
      "102898  3.281564  12.145608  0.627310  3.446894  1.242485  0.948703  6.904662   \n",
      "\n",
      "            v59_m     v27_m  v3_A  v3_B  v3_C  v24_A  v24_B  v24_C  v24_D  \\\n",
      "72596   12.855930  2.385093     0     0     1      0      0      0      0   \n",
      "98479    9.936290  2.340601     0     0     1      0      0      1      0   \n",
      "100840  14.126411  3.155523     0     0     1      0      1      0      0   \n",
      "102898  10.374735  3.326652     0     0     1      0      0      0      1   \n",
      "\n",
      "        v24_E  v30_A  v30_B  v30_C  v30_D  v30_E  v30_F  v30_G  v31_A  v31_B  \\\n",
      "72596       1      0      0      0      0      0      0      0      1      0   \n",
      "98479       0      0      0      0      0      0      0      0      1      0   \n",
      "100840      0      0      0      0      0      0      0      0      0      1   \n",
      "102898      0      0      0      0      0      0      0      0      1      0   \n",
      "\n",
      "        v31_C  v66_A  v66_B  v66_C  v74_A  v74_B  v74_C  v75_A  v75_B  v75_C  \\\n",
      "72596       0      0      1      0      0      1      0      0      0      0   \n",
      "98479       0      1      0      0      0      1      0      0      0      0   \n",
      "100840      0      1      0      0      0      1      0      0      0      0   \n",
      "102898      0      0      0      1      0      1      0      0      0      0   \n",
      "\n",
      "        v75_D  v91_A  v91_B  v91_C  v91_D  v91_E  v91_F  v91_G  v107_A  \\\n",
      "72596       1      0      0      0      0      0      0      1       0   \n",
      "98479       1      1      0      0      0      0      0      0       0   \n",
      "100840      1      0      1      0      0      0      0      0       0   \n",
      "102898      1      0      0      0      0      0      0      1       0   \n",
      "\n",
      "        v107_B  v107_C  v107_D  v107_E  v107_F  v107_G  v110_A  v110_B  \\\n",
      "72596        0       1       0       0       0       0       1       0   \n",
      "98479        0       0       0       1       0       0       0       1   \n",
      "100840       1       0       0       0       0       0       0       1   \n",
      "102898       0       1       0       0       0       0       0       1   \n",
      "\n",
      "        v110_C  missing  \n",
      "72596        0        1  \n",
      "98479        0        2  \n",
      "100840       0        2  \n",
      "102898       0        2  \n",
      "Empty DataFrame\n",
      "Columns: [v50, v113, v47, v10, v129, v12, v79, v56, v14, v62, v114_m, v34_m, v40_m, v21_m, v38_m, v22, v125, v72_m, v123_m, v88_m, v28_m, v82_m, v58_m, v100_m, v68_m, v131, v1_m, v124_m, v45_m, v46, v37_m, v119_m, v89_m, v98_m, v36, v85_m, v120_m, v5_m, v16, v54_m, v35, v63_m, v6_m, v78_m, v99_m, v126_m, v112, v97_m, v94, v122_m, v57_m, v117_m, v2_m, v86_m, v51_m, v84_m, v11_m, v4_m, v130_m, v42, v18_m, v53_m, v115_m, v118, v101_m, v9_m, v61_m, v103_m, v127_m, v87_m, v8_m, v7_m, v32_m, v90_m, v81_m, v59_m, v27_m, v3_A, v3_B, v3_C, v24_A, v24_B, v24_C, v24_D, v24_E, v30_A, v30_B, v30_C, v30_D, v30_E, v30_F, v30_G, v31_A, v31_B, v31_C, v66_A, v66_B, v66_C, v74_A, v74_B, ...]\n",
      "Index: []\n",
      "Empty DataFrame\n",
      "Columns: [v50, v113, v47, v10, v129, v12, v79, v56, v14, v62, v114_m, v34_m, v40_m, v21_m, v38_m, v22, v125, v72_m, v123_m, v88_m, v28_m, v82_m, v58_m, v100_m, v68_m, v131, v1_m, v124_m, v45_m, v46, v37_m, v119_m, v89_m, v98_m, v36, v85_m, v120_m, v5_m, v16, v54_m, v35, v63_m, v6_m, v78_m, v99_m, v126_m, v112, v97_m, v94, v122_m, v57_m, v117_m, v2_m, v86_m, v51_m, v84_m, v11_m, v4_m, v130_m, v42, v18_m, v53_m, v115_m, v118, v101_m, v9_m, v61_m, v103_m, v127_m, v87_m, v8_m, v7_m, v32_m, v90_m, v81_m, v59_m, v27_m, v3_A, v3_B, v3_C, v24_A, v24_B, v24_C, v24_D, v24_E, v30_A, v30_B, v30_C, v30_D, v30_E, v30_F, v30_G, v31_A, v31_B, v31_C, v66_A, v66_B, v66_C, v74_A, v74_B, ...]\n",
      "Index: []\n"
     ]
    }
   ],
   "source": [
    "some_value = 'QFA'\n",
    "for col, typ in X_test.dtypes.iteritems():\n",
    "    if typ == object:\n",
    "        df = X_kaggleTest.loc[X_kaggleTest[col] == some_value]\n",
    "        with pd.option_context('display.max_rows', 10, 'display.max_columns', 200):\n",
    "            print df"
   ]
  },
  {
   "cell_type": "code",
   "execution_count": 41,
   "metadata": {
    "ExecuteTime": {
     "end_time": "2016-04-02T23:01:56.476139",
     "start_time": "2016-04-02T22:58:46.587427"
    },
    "collapsed": false
   },
   "outputs": [],
   "source": [
    "predic = modelToSave.predict_proba(X_kaggleTest)[:,1] # extract 2nd column for X=1"
   ]
  },
  {
   "cell_type": "code",
   "execution_count": 42,
   "metadata": {
    "ExecuteTime": {
     "end_time": "2016-04-02T23:01:56.484854",
     "start_time": "2016-04-02T23:01:56.477343"
    },
    "collapsed": false
   },
   "outputs": [],
   "source": [
    "predicPd = pd.DataFrame(predic)\n",
    "predicPd = predicPd.rename(columns={0: 'PredictedProb'})\n",
    "predicPd['ID'] = kaggleTest[['ID']]\n",
    "predicPd = predicPd[['ID', 'PredictedProb']]"
   ]
  },
  {
   "cell_type": "code",
   "execution_count": 43,
   "metadata": {
    "ExecuteTime": {
     "end_time": "2016-04-02T23:01:56.628525",
     "start_time": "2016-04-02T23:01:56.486266"
    },
    "collapsed": false
   },
   "outputs": [],
   "source": [
    "predicPd.to_csv(\"results/pythonpure/results.csv\", index = False)"
   ]
  },
  {
   "cell_type": "code",
   "execution_count": null,
   "metadata": {
    "collapsed": true
   },
   "outputs": [],
   "source": []
  }
 ],
 "metadata": {
  "kernelspec": {
   "display_name": "Python 2",
   "language": "python",
   "name": "python2"
  },
  "language_info": {
   "codemirror_mode": {
    "name": "ipython",
    "version": 2
   },
   "file_extension": ".py",
   "mimetype": "text/x-python",
   "name": "python",
   "nbconvert_exporter": "python",
   "pygments_lexer": "ipython2",
   "version": "2.7.11"
  }
 },
 "nbformat": 4,
 "nbformat_minor": 0
}
